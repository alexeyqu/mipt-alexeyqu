{
 "cells": [
  {
   "cell_type": "markdown",
   "metadata": {},
   "source": [
    "# Linear models -- Amazon Fine Food Reviews\n",
    "## Kulikov Alex, gr. 397"
   ]
  },
  {
   "cell_type": "markdown",
   "metadata": {},
   "source": [
    "В данном домашнем задании вы будете решать задачу классификации отзывов.\n",
    "\n",
    "Шаги решения:\n",
    "\n",
    "1. Извлечение признаков: напишите код для создания TF-IDF матрицы из представленного корпуса отзывов\n",
    "2. Обучение моделей: напишите код для обучения SVM и логистической регрессии\n",
    "3. Кросс-валидация для подбора гиперпараметров: напишите код для оптимизации метрик обучения\n",
    "4. Участие в контесте на kaggle.com"
   ]
  },
  {
   "cell_type": "code",
   "execution_count": 1,
   "metadata": {
    "collapsed": false
   },
   "outputs": [
    {
     "data": {
      "text/html": [
       "<style>.container { width:90% !important; }</style>"
      ],
      "text/plain": [
       "<IPython.core.display.HTML object>"
      ]
     },
     "execution_count": 1,
     "metadata": {},
     "output_type": "execute_result"
    }
   ],
   "source": [
    "import pandas\n",
    "import random\n",
    "import numpy\n",
    "from matplotlib import pyplot as plt\n",
    "from matplotlib import pyplot\n",
    "\n",
    "%matplotlib inline\n",
    "pyplot.rcParams['figure.figsize'] = (10.0, 8.0) # set default size of plots\n",
    "pyplot.rcParams['image.interpolation'] = 'nearest'\n",
    "pyplot.rcParams['image.cmap'] = 'gray'\n",
    "\n",
    "# see http://stackoverflow.com/questions/1907993/autoreload-of-modules-in-ipython\n",
    "%load_ext autoreload\n",
    "%autoreload 2\n",
    "\n",
    "pandas.options.display.max_colwidth = 0\n",
    "\n",
    "from IPython.core.display import HTML\n",
    "HTML(\"<style>.container { width:90% !important; }</style>\")"
   ]
  },
  {
   "cell_type": "markdown",
   "metadata": {},
   "source": [
    "## A super-cool trick for multithreading + visualization\n",
    "### https://habrahabr.ru/post/277919/"
   ]
  },
  {
   "cell_type": "code",
   "execution_count": 3,
   "metadata": {
    "collapsed": true
   },
   "outputs": [],
   "source": [
    "def log_progress(sequence, every=None, size=None):\n",
    "    from ipywidgets import IntProgress, HTML, VBox\n",
    "    from IPython.display import display\n",
    "\n",
    "    is_iterator = False\n",
    "    if size is None:\n",
    "        try:\n",
    "            size = len(sequence)\n",
    "        except TypeError:\n",
    "            is_iterator = True\n",
    "    if size is not None:\n",
    "        if every is None:\n",
    "            if size <= 200:\n",
    "                every = 1\n",
    "            else:\n",
    "                every = size / 200     # every 0.5%\n",
    "    else:\n",
    "        assert every is not None, 'sequence is iterator, set every'\n",
    "\n",
    "    if is_iterator:\n",
    "        progress = IntProgress(min=0, max=1, value=1)\n",
    "        progress.bar_style = 'info'\n",
    "    else:\n",
    "        progress = IntProgress(min=0, max=size, value=0)\n",
    "    label = HTML()\n",
    "    box = VBox(children=[label, progress])\n",
    "    display(box)\n",
    "\n",
    "    index = 0\n",
    "    try:\n",
    "        for index, record in enumerate(sequence, 1):\n",
    "            if index == 1 or index % every == 0:\n",
    "                if is_iterator:\n",
    "                    label.value = '{index} / ?'.format(index=index)\n",
    "                else:\n",
    "                    progress.value = index\n",
    "                    label.value = u'{index} / {size}'.format(\n",
    "                        index=index,\n",
    "                        size=size\n",
    "                    )\n",
    "            yield record\n",
    "    except:\n",
    "        progress.bar_style = 'danger'\n",
    "        raise\n",
    "    else:\n",
    "        progress.bar_style = 'success'\n",
    "        progress.value = index\n",
    "        label.value = str(index or '?')"
   ]
  },
  {
   "cell_type": "code",
   "execution_count": 4,
   "metadata": {
    "collapsed": true
   },
   "outputs": [],
   "source": [
    "def jobs_manager():\n",
    "    from IPython.lib.backgroundjobs import BackgroundJobManager\n",
    "    from IPython.core.magic import register_line_magic\n",
    "    from IPython import get_ipython\n",
    "\n",
    "    jobs = BackgroundJobManager()\n",
    "\n",
    "    @register_line_magic\n",
    "    def job(line):\n",
    "        ip = get_ipython()\n",
    "        jobs.new(line, ip.user_global_ns)\n",
    "\n",
    "    return jobs"
   ]
  },
  {
   "cell_type": "code",
   "execution_count": 5,
   "metadata": {
    "collapsed": true
   },
   "outputs": [],
   "source": [
    "def kill_thread(thread):\n",
    "    import ctypes\n",
    "    \n",
    "    id = thread.ident\n",
    "    code = ctypes.pythonapi.PyThreadState_SetAsyncExc(\n",
    "        ctypes.c_long(id),\n",
    "        ctypes.py_object(SystemError)\n",
    "    )\n",
    "    if code == 0:\n",
    "        raise ValueError('invalid thread id')\n",
    "    elif code != 1:\n",
    "        ctypes.pythonapi.PyThreadState_SetAsyncExc(\n",
    "            ctypes.c_long(id),\n",
    "            ctypes.c_long(0)\n",
    "        )\n",
    "        raise SystemError('PyThreadState_SetAsyncExc failed')"
   ]
  },
  {
   "cell_type": "code",
   "execution_count": 6,
   "metadata": {
    "collapsed": true
   },
   "outputs": [],
   "source": [
    "def get_chunks(sequence, count):\n",
    "    count = min(count, len(sequence))\n",
    "    chunks = [[] for _ in range(count)]\n",
    "    for index, item in enumerate(sequence):\n",
    "        chunks[index % count].append(item) \n",
    "    return chunks"
   ]
  },
  {
   "cell_type": "markdown",
   "metadata": {},
   "source": [
    "### Demo\n",
    "#### Just look at that!"
   ]
  },
  {
   "cell_type": "code",
   "execution_count": 7,
   "metadata": {
    "collapsed": true
   },
   "outputs": [],
   "source": [
    "jobs = jobs_manager()"
   ]
  },
  {
   "cell_type": "code",
   "execution_count": 8,
   "metadata": {
    "collapsed": true
   },
   "outputs": [],
   "source": [
    "from time import sleep\n",
    "from random import random\n",
    "\n",
    "def fetch_url(url):\n",
    "    sleep(random())\n",
    "    return url\n",
    "\n",
    "urls = range(100)\n",
    "urls2 = range(100)"
   ]
  },
  {
   "cell_type": "code",
   "execution_count": 9,
   "metadata": {
    "collapsed": false
   },
   "outputs": [
    {
     "name": "stdout",
     "output_type": "stream",
     "text": [
      "Starting job # 0 in a separate thread.\n"
     ]
    }
   ],
   "source": [
    "%job [fetch_url(_) for _ in log_progress(urls, every=1)]"
   ]
  },
  {
   "cell_type": "code",
   "execution_count": 10,
   "metadata": {
    "collapsed": true
   },
   "outputs": [],
   "source": [
    "kill_thread(jobs.running[0])"
   ]
  },
  {
   "cell_type": "code",
   "execution_count": 11,
   "metadata": {
    "collapsed": false
   },
   "outputs": [
    {
     "name": "stdout",
     "output_type": "stream",
     "text": [
      "Starting job # 2 in a separate thread.\n",
      "Starting job # 3 in a separate thread.\n",
      "Starting job # 4 in a separate thread.\n"
     ]
    }
   ],
   "source": [
    "for chunk in get_chunks(urls, 3):\n",
    "    %job [fetch_url(_) for _ in log_progress(chunk, every=1)]"
   ]
  },
  {
   "cell_type": "code",
   "execution_count": 12,
   "metadata": {
    "collapsed": true
   },
   "outputs": [],
   "source": [
    "for job in jobs.running:\n",
    "    kill_thread(job)"
   ]
  },
  {
   "cell_type": "markdown",
   "metadata": {},
   "source": [
    "## But tqdm is still better and simpler to use"
   ]
  },
  {
   "cell_type": "code",
   "execution_count": 13,
   "metadata": {
    "collapsed": false
   },
   "outputs": [],
   "source": [
    "from tqdm import tqdm\n",
    "from time import sleep"
   ]
  },
  {
   "cell_type": "code",
   "execution_count": 14,
   "metadata": {
    "collapsed": false
   },
   "outputs": [
    {
     "name": "stderr",
     "output_type": "stream",
     "text": [
      "100%|██████████| 10/10 [00:10<00:00,  1.00s/it]\n"
     ]
    }
   ],
   "source": [
    "for i in tqdm(range(10)):\n",
    "    sleep(1)\n",
    "    "
   ]
  },
  {
   "cell_type": "markdown",
   "metadata": {},
   "source": [
    "## Знакомство с данными"
   ]
  },
  {
   "cell_type": "code",
   "execution_count": 15,
   "metadata": {
    "collapsed": false
   },
   "outputs": [
    {
     "name": "stdout",
     "output_type": "stream",
     "text": [
      "(352278, 2)\n",
      "                                                   Reviews_Summary  Prediction\n",
      "ID                                                                            \n",
      "230872  Babies love these                                           3         \n",
      "344823  Salmon Trout                                                0         \n",
      "211754  disappointment                                              1         \n",
      "259421  Doesn't taste like Cinnabon; tastes like Waffle Crisp       2         \n",
      "253418  Delicious San Daniele prosciutto and good customer service  3         \n",
      "                             Reviews_Summary  Prediction\n",
      "ID                                                      \n",
      "110273  We enjoy this coffee                  3         \n",
      "259187  Satisfied                             2         \n",
      "365859  quite good                            3         \n",
      "131937  Great yummy treat for my little ones  3         \n",
      "121963  Disappointed                          1         \n"
     ]
    }
   ],
   "source": [
    "data = pandas.read_csv(\"kaggle_data/train.csv\", index_col=0, na_values=\"NaN\")\n",
    "\n",
    "print(data.shape)\n",
    "print(data.head())\n",
    "print(data.tail())"
   ]
  },
  {
   "cell_type": "markdown",
   "metadata": {},
   "source": [
    "### Seems that there aren't any missing values.."
   ]
  },
  {
   "cell_type": "code",
   "execution_count": 16,
   "metadata": {
    "collapsed": false
   },
   "outputs": [
    {
     "name": "stdout",
     "output_type": "stream",
     "text": [
      "Delicious!                                                       1627\n",
      "Delicious                                                        1529\n",
      "Yummy!                                                           1039\n",
      "Yummy                                                            826 \n",
      "Yum!                                                             733 \n",
      "Great product                                                    703 \n",
      "Excellent                                                        637 \n",
      "Great Product                                                    622 \n",
      "Love it!                                                         605 \n",
      "Great!                                                           527 \n",
      "Great                                                            486 \n",
      "Tasty                                                            422 \n",
      "Yum                                                              412 \n",
      "Excellent!                                                       376 \n",
      "Great Coffee                                                     372 \n",
      "Awesome                                                          362 \n",
      "Good stuff                                                       360 \n",
      "Disappointed                                                     349 \n",
      "Awesome!                                                         347 \n",
      "yummy                                                            337 \n",
      "Great product!                                                   325 \n",
      "Good Stuff                                                       317 \n",
      "Great coffee                                                     302 \n",
      "YUM!                                                             300 \n",
      "great product                                                    299 \n",
      "Love it                                                          297 \n",
      "delicious                                                        288 \n",
      "Very good                                                        288 \n",
      "The Best                                                         261 \n",
      "Amazing                                                          250 \n",
      "                                                                ...  \n",
      "Don't use for Tiramisu Recipe                                    1   \n",
      "good texture and good taste                                      1   \n",
      "not great ... but good for the price                             1   \n",
      "Benecol - works for me!                                          1   \n",
      "A great alternative to coffee                                    1   \n",
      "Perfect grain-free treats                                        1   \n",
      "10 stars!                                                        1   \n",
      "LOVE it, great for toddlers too                                  1   \n",
      "Super filling!                                                   1   \n",
      "Disappointing, low quality                                       1   \n",
      "False statement and inflated price!!!                            1   \n",
      "Get some!                                                        1   \n",
      "A sample got us hooked!                                          1   \n",
      "very low quality Tea                                             1   \n",
      "These saved my relationship with my cat!                         1   \n",
      "The Flames of Hell in a Bottle                                   1   \n",
      "Perfect healthy sugar replacement                                1   \n",
      "Got the wheat and the rye                                        1   \n",
      "Fantastic flavor and value!                                      1   \n",
      "It May Be Low Acid, but it Still Gave Me Heartburn               1   \n",
      "Horrid!=( Actually....zero stars.                                1   \n",
      "Incredible Mango flavor                                          1   \n",
      "AMAZING COFFEE!!                                                 1   \n",
      "Remember biting the top and pretending to drink the cola out?    1   \n",
      "Disappointed, not the classic flavor                             1   \n",
      "simply addicting delicous.                                       1   \n",
      "THE best gluten-free cookie!                                     1   \n",
      "Gritty and Gross                                                 1   \n",
      "i like it ICED!!!!                                               1   \n",
      "ST. DALFOUR Golden Peach is Delicious                            1   \n",
      "Name: Reviews_Summary, dtype: int64\n",
      "3    243136\n",
      "2    53979 \n",
      "0    35097 \n",
      "1    20066 \n",
      "Name: Prediction, dtype: int64\n"
     ]
    }
   ],
   "source": [
    "print(data.Reviews_Summary.value_counts()) # no NaN\n",
    "# print(data.Reviews_Summary.value_counts()[\"NaN\"]) # -- KeyError\n",
    "print(data.Prediction.value_counts()) # no NaN\n",
    "# print(data.Prediction.value_counts()[\"NaN\"]) # -- KeyError"
   ]
  },
  {
   "cell_type": "code",
   "execution_count": 17,
   "metadata": {
    "collapsed": false
   },
   "outputs": [],
   "source": [
    "corpus = data[\"Reviews_Summary\"].values[:1000]\n",
    "score = data[\"Prediction\"].values[:1000]"
   ]
  },
  {
   "cell_type": "code",
   "execution_count": 18,
   "metadata": {
    "collapsed": false
   },
   "outputs": [
    {
     "name": "stdout",
     "output_type": "stream",
     "text": [
      "[3 0 1 2 3 2 3 2 2 3]\n",
      "['Babies love these' 'Salmon Trout' 'disappointment'\n",
      " \"Doesn't taste like Cinnabon; tastes like Waffle Crisp\"\n",
      " 'Delicious San Daniele prosciutto and good customer service'\n",
      " 'My Dog Loves Them' \"My husband's new favorite coffee.\"\n",
      " 'Good Job, Betty Crocker' 'Good chips, more cheese'\n",
      " \"Nature's Hallow Sugar Free Jam\"]\n"
     ]
    }
   ],
   "source": [
    "print(score[:10])\n",
    "print(corpus[:10])"
   ]
  },
  {
   "cell_type": "markdown",
   "metadata": {},
   "source": [
    "Как видите, каждый объект представляет собой отзыв о продукте и оценку по шкале от 0 до 3. Выдвинем гипотезу, что слова, используемые в написании отзыва коррелируют с оценкой, которая была поставлена. Поставим задачу - предсказать оценку, по тексту отзыва."
   ]
  },
  {
   "cell_type": "markdown",
   "metadata": {},
   "source": [
    "## 1. Извлечение признаков - 10 Баллов\n",
    " \n",
    "\n",
    "1. Для решения задачи классификации необходимо преобразовать каждый отзыв (документ) в вектор. Размерность данного вектора будет равна количеству слов используемых в корпусе (все документы). Каждая координата соответствует слову, значение в координает равно количеству раз, слово используется в документе. \n",
    "\n",
    "Для решения данной задачи вам необходимо написать код, который преобразовывает матрицу документов в численную матрицу.\n",
    "\n",
    "Дополнительная информация для решения задачи:\n",
    "\n",
    "- Подробнее про векторное представление документов: http://scikit-learn.org/stable/modules/feature_extraction.html#text-feature-extraction\n",
    "- Используйте данный трансформер: http://scikit-learn.org/stable/modules/feature_extraction.html#common-vectorizer-usage\n",
    "- Подробнее про разреженные матрицы: http://docs.scipy.org/doc/scipy-0.14.0/reference/sparse.html\n",
    "- Hashing trick: https://en.wikipedia.org/wiki/Feature_hashing\n",
    "\n",
    "Используйте n_features = 3000"
   ]
  },
  {
   "cell_type": "code",
   "execution_count": 19,
   "metadata": {
    "collapsed": false
   },
   "outputs": [
    {
     "name": "stdout",
     "output_type": "stream",
     "text": [
      "  (0, 79)\t1\n",
      "  (0, 666)\t1\n",
      "  (0, 1115)\t1\n",
      "  (1, 938)\t1\n",
      "  (1, 1150)\t1\n",
      "  (2, 318)\t1\n",
      "  (3, 330)\t1\n",
      "  (3, 1094)\t1\n",
      "  (3, 648)\t2\n",
      "  (3, 220)\t1\n",
      "  (3, 1096)\t1\n",
      "  (3, 1196)\t1\n",
      "  (3, 269)\t1\n",
      "  (4, 301)\t1\n",
      "  (4, 943)\t1\n",
      "  (4, 288)\t1\n",
      "  (4, 880)\t1\n",
      "  (4, 50)\t1\n",
      "  (4, 489)\t1\n",
      "  (4, 282)\t1\n",
      "  (4, 969)\t1\n",
      "  (5, 744)\t1\n",
      "  (5, 331)\t1\n",
      "  (5, 672)\t1\n",
      "  (5, 1114)\t1\n",
      "  :\t:\n",
      "  (995, 437)\t1\n",
      "  (996, 672)\t1\n",
      "  (996, 153)\t1\n",
      "  (996, 440)\t1\n",
      "  (996, 1075)\t1\n",
      "  (996, 471)\t1\n",
      "  (996, 1225)\t1\n",
      "  (996, 458)\t1\n",
      "  (996, 1033)\t1\n",
      "  (996, 1021)\t1\n",
      "  (996, 486)\t1\n",
      "  (997, 744)\t1\n",
      "  (997, 331)\t1\n",
      "  (997, 592)\t1\n",
      "  (997, 1118)\t1\n",
      "  (997, 788)\t1\n",
      "  (997, 1215)\t1\n",
      "  (997, 626)\t1\n",
      "  (997, 649)\t1\n",
      "  (998, 503)\t1\n",
      "  (998, 1133)\t1\n",
      "  (998, 41)\t1\n",
      "  (998, 450)\t1\n",
      "  (999, 489)\t1\n",
      "  (999, 232)\t1\n"
     ]
    }
   ],
   "source": [
    "from sklearn.feature_extraction.text import CountVectorizer\n",
    "\n",
    "vectorizer = CountVectorizer(min_df=1)\n",
    "\n",
    "corpus_vect = vectorizer.fit_transform(corpus)\n",
    "\n",
    "print(corpus_vect)\n",
    "\n",
    "mean_matrix_vect = corpus_vect.mean(axis = 1)\n",
    "\n",
    "# print(vectorizer.get_feature_names())\n",
    "# print(corpus_vect.toarray())\n"
   ]
  },
  {
   "cell_type": "code",
   "execution_count": 20,
   "metadata": {
    "collapsed": false
   },
   "outputs": [
    {
     "name": "stdout",
     "output_type": "stream",
     "text": [
      "<type 'numpy.ndarray'>\n",
      "  (0, 1134)\t0.57735026919\n",
      "  (0, 2170)\t0.57735026919\n",
      "  (0, 2201)\t-0.57735026919\n",
      "  (1, 1353)\t-0.707106781187\n",
      "  (1, 1857)\t-0.707106781187\n",
      "  (2, 1544)\t1.0\n",
      "  (3, 1465)\t-0.316227766017\n",
      "  (3, 1473)\t-0.316227766017\n",
      "  (3, 1480)\t-0.316227766017\n",
      "  (3, 1534)\t-0.316227766017\n",
      "  (3, 1706)\t0.316227766017\n",
      "  (3, 1855)\t-0.632455532034\n",
      "  (3, 2437)\t0.316227766017\n",
      "  (4, 72)\t0.353553390593\n",
      "  (4, 442)\t-0.353553390593\n",
      "  (4, 448)\t-0.353553390593\n",
      "  (4, 845)\t-0.353553390593\n",
      "  (4, 1729)\t0.353553390593\n",
      "  (4, 2369)\t0.353553390593\n",
      "  (4, 2381)\t-0.353553390593\n",
      "  (4, 2860)\t-0.353553390593\n",
      "  (5, 93)\t-0.5\n",
      "  (5, 719)\t-0.5\n",
      "  (5, 1490)\t0.5\n",
      "  (5, 1591)\t0.5\n",
      "  :\t:\n",
      "  (995, 2704)\t-0.4472135955\n",
      "  (996, 49)\t-0.316227766017\n",
      "  (996, 275)\t0.316227766017\n",
      "  (996, 861)\t0.316227766017\n",
      "  (996, 985)\t-0.316227766017\n",
      "  (996, 1092)\t-0.316227766017\n",
      "  (996, 1212)\t0.316227766017\n",
      "  (996, 1563)\t-0.316227766017\n",
      "  (996, 1591)\t0.316227766017\n",
      "  (996, 2344)\t0.316227766017\n",
      "  (996, 2462)\t0.316227766017\n",
      "  (997, 93)\t-0.353553390593\n",
      "  (997, 897)\t-0.353553390593\n",
      "  (997, 918)\t0.353553390593\n",
      "  (997, 1124)\t-0.353553390593\n",
      "  (997, 1490)\t0.353553390593\n",
      "  (997, 2201)\t0.353553390593\n",
      "  (997, 2531)\t-0.353553390593\n",
      "  (997, 2763)\t-0.353553390593\n",
      "  (998, 691)\t0.5\n",
      "  (998, 1000)\t-0.5\n",
      "  (998, 2027)\t0.5\n",
      "  (998, 2388)\t0.5\n",
      "  (999, 1729)\t0.707106781187\n",
      "  (999, 2704)\t-0.707106781187\n"
     ]
    }
   ],
   "source": [
    "from sklearn.feature_extraction.text import HashingVectorizer\n",
    "\n",
    "hash_vectorizer = HashingVectorizer(n_features=3000)\n",
    "print(type(corpus))\n",
    "\n",
    "corpus_hashed = hash_vectorizer.transform(corpus)\n",
    "\n",
    "print(corpus_hashed)\n",
    "\n",
    "mean_matrix_hash = corpus_hashed.mean(axis = 1)"
   ]
  },
  {
   "cell_type": "code",
   "execution_count": 21,
   "metadata": {
    "collapsed": false
   },
   "outputs": [
    {
     "data": {
      "text/plain": [
       "matrix([[ 0.00019245],\n",
       "        [-0.0004714 ],\n",
       "        [ 0.00033333],\n",
       "        [-0.00042164],\n",
       "        [-0.0002357 ],\n",
       "        [ 0.        ],\n",
       "        [-0.00014907],\n",
       "        [ 0.00066667],\n",
       "        [ 0.        ],\n",
       "        [ 0.00044721]])"
      ]
     },
     "execution_count": 21,
     "metadata": {},
     "output_type": "execute_result"
    }
   ],
   "source": [
    "mean_matrix_hash[:10]"
   ]
  },
  {
   "cell_type": "markdown",
   "metadata": {
    "collapsed": true
   },
   "source": [
    "Для учета важности редких, но показательных слов (термов), используется схема взвешивания TF-IDF. Напишите код, принимающий на вход разреженную матрицу векторного представления документов и возвращающий разреженную матрицу документов, частоты термов которых взвешенны по TF-IDF.\n",
    "\n",
    "Дополнительная информация для решения задачи:\n",
    "\n",
    "- Подробнее про TF-IDF: https://en.wikipedia.org/wiki/Tf%E2%80%93idf\n",
    "- Используйте трансформер: http://scikit-learn.org/stable/modules/feature_extraction.html#tfidf-term-weighting"
   ]
  },
  {
   "cell_type": "code",
   "execution_count": 22,
   "metadata": {
    "collapsed": false
   },
   "outputs": [
    {
     "name": "stdout",
     "output_type": "stream",
     "text": [
      "  (0, 2201)\t-0.390666501164\n",
      "  (0, 2170)\t0.779067464351\n",
      "  (0, 1134)\t0.490340260287\n",
      "  (1, 1857)\t-0.707106781187\n",
      "  (1, 1353)\t-0.707106781187\n",
      "  (2, 1544)\t1.0\n",
      "  (3, 2437)\t0.400179329608\n",
      "  (3, 1855)\t-0.511667069701\n",
      "  (3, 1706)\t0.251870403554\n",
      "  (3, 1534)\t-0.281490746435\n",
      "  (3, 1480)\t-0.400179329608\n",
      "  (3, 1473)\t-0.400179329608\n",
      "  (3, 1465)\t-0.339250028345\n",
      "  (4, 2860)\t-0.398862124748\n",
      "  (4, 2381)\t-0.42260974453\n",
      "  (4, 2369)\t0.241570983252\n",
      "  (4, 1729)\t0.196491295799\n",
      "  (4, 845)\t-0.221485108061\n",
      "  (4, 448)\t-0.398862124748\n",
      "  (4, 442)\t-0.42260974453\n",
      "  (4, 72)\t0.42260974453\n",
      "  (5, 1591)\t0.561683898009\n",
      "  (5, 1490)\t0.41152000634\n",
      "  (5, 719)\t-0.523493979178\n",
      "  (5, 93)\t-0.491036186919\n",
      "  :\t:\n",
      "  (995, 179)\t-0.436247113522\n",
      "  (996, 2462)\t0.223607164312\n",
      "  (996, 2344)\t0.37541247004\n",
      "  (996, 1591)\t0.286718110855\n",
      "  (996, 1563)\t-0.184805274749\n",
      "  (996, 1212)\t0.327739843415\n",
      "  (996, 1092)\t-0.327739843415\n",
      "  (996, 985)\t-0.339349520165\n",
      "  (996, 861)\t0.354316996698\n",
      "  (996, 275)\t0.310233920079\n",
      "  (996, 49)\t-0.37541247004\n",
      "  (997, 2763)\t-0.420486443733\n",
      "  (997, 2531)\t-0.378820253791\n",
      "  (997, 2201)\t0.248724097697\n",
      "  (997, 1490)\t0.277544209108\n",
      "  (997, 1124)\t-0.367336841689\n",
      "  (997, 918)\t0.277544209108\n",
      "  (997, 897)\t-0.468133855274\n",
      "  (997, 93)\t-0.33117284225\n",
      "  (998, 2388)\t0.28699434447\n",
      "  (998, 2027)\t0.629513686819\n",
      "  (998, 1000)\t-0.602921027075\n",
      "  (998, 691)\t0.397282015024\n",
      "  (999, 2704)\t-0.765929143778\n",
      "  (999, 1729)\t0.642924993067\n"
     ]
    }
   ],
   "source": [
    "from sklearn.feature_extraction.text import TfidfTransformer\n",
    "\n",
    "TFIDFtransformer = TfidfTransformer()\n",
    "\n",
    "corpus_TFIDF = TFIDFtransformer.fit_transform(corpus_hashed)\n",
    "\n",
    "print(corpus_TFIDF)\n",
    "corpus_TFIDF\n",
    "\n",
    "\n",
    "mean_matrix_TFIDF = corpus_TFIDF.mean(axis = 1)"
   ]
  },
  {
   "cell_type": "code",
   "execution_count": 23,
   "metadata": {
    "collapsed": false
   },
   "outputs": [
    {
     "name": "stdout",
     "output_type": "stream",
     "text": [
      "[[ 0.00236035]\n",
      " [ 0.00157356]\n",
      " [ 0.00078678]\n",
      " [ 0.00629426]\n",
      " [ 0.00629426]\n",
      " [ 0.00314713]\n",
      " [ 0.00393391]\n",
      " [ 0.00314713]\n",
      " [ 0.00314713]\n",
      " [ 0.00393391]]\n",
      "[[ 0.00019245]\n",
      " [-0.0004714 ]\n",
      " [ 0.00033333]\n",
      " [-0.00042164]\n",
      " [-0.0002357 ]\n",
      " [ 0.        ]\n",
      " [-0.00014907]\n",
      " [ 0.00066667]\n",
      " [ 0.        ]\n",
      " [ 0.00044721]]\n",
      "[[  2.92913741e-04]\n",
      " [ -4.71404521e-04]\n",
      " [  3.33333333e-04]\n",
      " [ -4.26905590e-04]\n",
      " [ -3.34585608e-04]\n",
      " [ -1.37754206e-05]\n",
      " [ -1.31798867e-04]\n",
      " [  6.44775804e-04]\n",
      " [ -7.92367694e-05]\n",
      " [  4.08042424e-04]]\n"
     ]
    }
   ],
   "source": [
    "print(mean_matrix_vect[:10])\n",
    "print(mean_matrix_hash[:10])\n",
    "print(mean_matrix_TFIDF[:10])"
   ]
  },
  {
   "cell_type": "markdown",
   "metadata": {},
   "source": [
    "Преобразуем csc матрицу в numpy array"
   ]
  },
  {
   "cell_type": "code",
   "execution_count": 24,
   "metadata": {
    "collapsed": false
   },
   "outputs": [
    {
     "name": "stdout",
     "output_type": "stream",
     "text": [
      "[[ 0.  0.  0. ...,  0.  0.  0.]\n",
      " [ 0.  0.  0. ...,  0.  0.  0.]\n",
      " [ 0.  0.  0. ...,  0.  0.  0.]\n",
      " ..., \n",
      " [ 0.  0.  0. ...,  0.  0.  0.]\n",
      " [ 0.  0.  0. ...,  0.  0.  0.]\n",
      " [ 0.  0.  0. ...,  0.  0.  0.]]\n",
      "(1000, 3000)\n"
     ]
    }
   ],
   "source": [
    "corpus_np = corpus_TFIDF.toarray()\n",
    "\n",
    "print(corpus_np)\n",
    "print(corpus_np.shape)"
   ]
  },
  {
   "cell_type": "markdown",
   "metadata": {},
   "source": [
    "## 2. Код для SVM и логистической регресии - 40 Баллов\n",
    "\n",
    "После того, как вы получили матрицу признаков, вам необходимо реализовать алгоритм обучения SVM и логистической регрессии. Обе модели являются линейными и отличаются функциями потерь. Для решения оптимизационных задач в обеих моделей будет использоваться стохастический градиентный спуск.\n",
    "\n",
    "Дополнительная информация для решения задачи:\n",
    "\n",
    "- Линейные модели: http://cs231n.github.io/linear-classify/\n",
    "- SGD: http://cs231n.github.io/optimization-1"
   ]
  },
  {
   "cell_type": "markdown",
   "metadata": {},
   "source": [
    "Начнем с SVM стартовый код находится в файле cs231n/classifiers/linear_svm.py вашей задачей является реализация подсчета функции потерь для SVM"
   ]
  },
  {
   "cell_type": "markdown",
   "metadata": {},
   "source": [
    "Разбейте обучающую выборку на 2 части train и test\n",
    "\n",
    "Дополнительная информация для решения задачи:\n",
    "- Используйте трансформер: http://scikit-learn.org/stable/modules/generated/sklearn.cross_validation.train_test_split.html#sklearn.cross_validation.train_test_split"
   ]
  },
  {
   "cell_type": "code",
   "execution_count": 25,
   "metadata": {
    "collapsed": false
   },
   "outputs": [],
   "source": [
    "from sklearn import cross_validation\n",
    "\n",
    "X_train, X_test, y_train, y_test = cross_validation.train_test_split(corpus_np, score)"
   ]
  },
  {
   "cell_type": "code",
   "execution_count": 26,
   "metadata": {
    "collapsed": false
   },
   "outputs": [
    {
     "name": "stdout",
     "output_type": "stream",
     "text": [
      "(750, 3000)\n",
      "(250, 3000)\n",
      "(750,)\n",
      "(250,)\n"
     ]
    }
   ],
   "source": [
    "print(X_train.shape)\n",
    "print(X_test.shape)\n",
    "print(y_train.shape)\n",
    "print(y_test.shape)"
   ]
  },
  {
   "cell_type": "markdown",
   "metadata": {},
   "source": [
    "Транспонируем матрицы с данными, т.к. так будет проще реализовать код SVM"
   ]
  },
  {
   "cell_type": "code",
   "execution_count": 27,
   "metadata": {
    "collapsed": false
   },
   "outputs": [],
   "source": [
    "X_train = X_train.transpose()\n",
    "X_test = X_test.transpose()"
   ]
  },
  {
   "cell_type": "markdown",
   "metadata": {},
   "source": [
    "Возьмем подвыборки из обучающей выборки, для быстрой проверки кода."
   ]
  },
  {
   "cell_type": "code",
   "execution_count": 28,
   "metadata": {
    "collapsed": false
   },
   "outputs": [],
   "source": [
    "X_train_sample = X_train[:, 0:1000]\n",
    "y_train_sample = y_train[0:1000]"
   ]
  },
  {
   "cell_type": "code",
   "execution_count": 29,
   "metadata": {
    "collapsed": false
   },
   "outputs": [
    {
     "name": "stdout",
     "output_type": "stream",
     "text": [
      "(3000, 750)\n",
      "(750,)\n"
     ]
    }
   ],
   "source": [
    "print(X_train_sample.shape)\n",
    "print(y_train_sample.shape)"
   ]
  },
  {
   "cell_type": "markdown",
   "metadata": {},
   "source": [
    "Найдем чему равен градиент:"
   ]
  },
  {
   "cell_type": "code",
   "execution_count": 30,
   "metadata": {
    "collapsed": false
   },
   "outputs": [
    {
     "name": "stdout",
     "output_type": "stream",
     "text": [
      "loss: 3.000200\n"
     ]
    }
   ],
   "source": [
    "from cs231n.classifiers.linear_svm import svm_loss_naive\n",
    "import time\n",
    "\n",
    "# generate a random SVM weight matrix of small numbers\n",
    "W = numpy.random.randn(4, X_train_sample.shape[0]) * 0.01 \n",
    "loss, grad = svm_loss_naive(W, X_train_sample, y_train_sample, 0.00001)\n",
    "print 'loss: %f' % (loss, )"
   ]
  },
  {
   "cell_type": "markdown",
   "metadata": {},
   "source": [
    "Градиент равен 0, т.к. код который должен его считать отсутствует. Реализуйте наивную версию и проверьте результат с помощью численного метода расчета. Градиенты должны почти совпадать."
   ]
  },
  {
   "cell_type": "code",
   "execution_count": 31,
   "metadata": {
    "collapsed": false
   },
   "outputs": [
    {
     "name": "stdout",
     "output_type": "stream",
     "text": [
      "numerical: 0.000000 analytic: 0.000000, relative error: nan\n",
      "numerical: 0.000000 analytic: 0.000000, relative error: nan\n",
      "numerical: 0.000000 analytic: 0.000000, relative error: nan\n",
      "numerical: 0.000000 analytic: 0.000000, relative error: nan\n",
      "numerical: 0.000800 analytic: 0.000800, relative error: 7.134922e-09\n"
     ]
    }
   ],
   "source": [
    "# Once you've implemented the gradient, recompute it with the code below\n",
    "# and gradient check it with the function we provided for you\n",
    "\n",
    "# Compute the loss and its gradient at W.\n",
    "loss, grad = svm_loss_naive(W, X_train_sample, y_train_sample, 0.0)\n",
    "\n",
    "# Numerically compute the gradient along several randomly chosen dimensions, and\n",
    "# compare them with your analytically computed gradient. The numbers should match\n",
    "# almost exactly along all dimensions.\n",
    "from cs231n.gradient_check import grad_check_sparse\n",
    "f = lambda w: svm_loss_naive(w, X_train_sample, y_train_sample, 0.0)[0]\n",
    "grad_numerical = grad_check_sparse(f, W, grad, 5)"
   ]
  },
  {
   "cell_type": "markdown",
   "metadata": {},
   "source": [
    "Теперь реализуйте векторизованную версию расчета фунции потерь - svm_loss_vectorized"
   ]
  },
  {
   "cell_type": "code",
   "execution_count": 32,
   "metadata": {
    "collapsed": false
   },
   "outputs": [
    {
     "name": "stdout",
     "output_type": "stream",
     "text": [
      "Naive loss: 3.000200e+00 computed in 0.039408s\n",
      "Vectorized loss: 3.000200e+00 computed in 0.022170s\n",
      "difference: -0.000000\n"
     ]
    }
   ],
   "source": [
    "tic = time.time()\n",
    "loss_naive, grad_naive = svm_loss_naive(W, X_train_sample, y_train_sample, 0.00001)\n",
    "toc = time.time()\n",
    "print 'Naive loss: %e computed in %fs' % (loss_naive, toc - tic)\n",
    "\n",
    "from cs231n.classifiers.linear_svm import svm_loss_vectorized\n",
    "tic = time.time()\n",
    "loss_vectorized, _ = svm_loss_vectorized(W, X_train_sample, y_train_sample, 0.00001)\n",
    "toc = time.time()\n",
    "print 'Vectorized loss: %e computed in %fs' % (loss_vectorized, toc - tic)\n",
    "\n",
    "# The losses should match but your vectorized implementation should be much faster.\n",
    "print 'difference: %f' % (loss_naive - loss_vectorized)"
   ]
  },
  {
   "cell_type": "markdown",
   "metadata": {},
   "source": [
    "Завершите реализацию SVM, реализуйте векторизированную версию расчета градиента."
   ]
  },
  {
   "cell_type": "code",
   "execution_count": 33,
   "metadata": {
    "collapsed": false,
    "scrolled": true
   },
   "outputs": [
    {
     "name": "stdout",
     "output_type": "stream",
     "text": [
      "Naive loss and gradient: computed in 0.034995s\n",
      "Vectorized loss and gradient: computed in 0.022172s\n",
      "difference: 0.000011\n"
     ]
    }
   ],
   "source": [
    "tic = time.time()\n",
    "_, grad_naive = svm_loss_naive(W, X_train_sample, y_train_sample, 0.00001)\n",
    "toc = time.time()\n",
    "print 'Naive loss and gradient: computed in %fs' % (toc - tic)\n",
    "\n",
    "tic = time.time()\n",
    "_, grad_vectorized = svm_loss_vectorized(W, X_train_sample, y_train_sample, 0.00001)\n",
    "toc = time.time()\n",
    "print 'Vectorized loss and gradient: computed in %fs' % (toc - tic)\n",
    "\n",
    "# The loss is a single number, so it is easy to compare the values computed\n",
    "# by the two implementations. The gradient on the other hand is a matrix, so\n",
    "# we use the Frobenius norm to compare them.\n",
    "difference = numpy.linalg.norm(grad_naive - grad_vectorized, ord='fro')\n",
    "print 'difference: %f' % difference"
   ]
  },
  {
   "cell_type": "markdown",
   "metadata": {},
   "source": [
    "## Stochastic Gradient Descent"
   ]
  },
  {
   "cell_type": "code",
   "execution_count": 36,
   "metadata": {
    "collapsed": false,
    "scrolled": true
   },
   "outputs": [
    {
     "name": "stdout",
     "output_type": "stream",
     "text": [
      "iteration 0 / 500: loss 2.999926\n",
      "iteration 100 / 500: loss 2.498815\n",
      "iteration 200 / 500: loss 2.075648\n",
      "iteration 300 / 500: loss 1.858928\n",
      "iteration 400 / 500: loss 1.731245\n",
      "That took 410.631081s\n",
      "Current loss is 1.654567\n"
     ]
    }
   ],
   "source": [
    "# Now implement SGD in LinearSVM.train() function and run it with the code below\n",
    "from cs231n.classifiers import LinearSVM\n",
    "svm = LinearSVM()\n",
    "tic = time.time()\n",
    "loss_hist = svm.train(X_train, y_train, learning_rate=5e-2, reg=0.01,\n",
    "                      num_iters=500, verbose=True, batch_size=20000)\n",
    "\n",
    "toc = time.time()\n",
    "print 'That took %fs' % (toc - tic)\n",
    "print 'Current loss is %f' % loss_hist[-1]"
   ]
  },
  {
   "cell_type": "code",
   "execution_count": 37,
   "metadata": {
    "collapsed": false
   },
   "outputs": [
    {
     "data": {
      "text/plain": [
       "<matplotlib.text.Text at 0x7f1bc9c10750>"
      ]
     },
     "execution_count": 37,
     "metadata": {},
     "output_type": "execute_result"
    },
    {
     "data": {
      "image/png": "[encoded data removed]",
      "text/plain": [
       "<matplotlib.figure.Figure at 0x7f1bcb3b8790>"
      ]
     },
     "metadata": {},
     "output_type": "display_data"
    }
   ],
   "source": [
    "# A useful debugging strategy is to plot the loss as a function of\n",
    "# iteration number:\n",
    "plt.plot(loss_hist)\n",
    "plt.xlabel('Iteration number')\n",
    "plt.ylabel('Loss value')"
   ]
  },
  {
   "cell_type": "code",
   "execution_count": 38,
   "metadata": {
    "collapsed": false
   },
   "outputs": [],
   "source": [
    "# Write the LinearSVM.predict function \n",
    "y_train_pred = svm.predict(X_train)\n",
    "y_test_pred = svm.predict(X_test)"
   ]
  },
  {
   "cell_type": "code",
   "execution_count": 39,
   "metadata": {
    "collapsed": false
   },
   "outputs": [],
   "source": [
    "#and evaluate the performance on both the test set\n",
    "from sklearn.metrics import classification_report"
   ]
  },
  {
   "cell_type": "code",
   "execution_count": 40,
   "metadata": {
    "collapsed": false
   },
   "outputs": [
    {
     "name": "stdout",
     "output_type": "stream",
     "text": [
      "             precision    recall  f1-score   support\n",
      "\n",
      "          0       0.40      0.24      0.30        25\n",
      "          1       0.14      0.07      0.10        14\n",
      "          2       0.13      0.07      0.09        30\n",
      "          3       0.76      0.89      0.82       181\n",
      "\n",
      "avg / total       0.61      0.68      0.64       250\n",
      "\n"
     ]
    }
   ],
   "source": [
    "print classification_report(y_test, y_test_pred)"
   ]
  },
  {
   "cell_type": "code",
   "execution_count": 41,
   "metadata": {
    "collapsed": false
   },
   "outputs": [
    {
     "name": "stdout",
     "output_type": "stream",
     "text": [
      "             precision    recall  f1-score   support\n",
      "\n",
      "          0       0.00      0.00      0.00        25\n",
      "          1       0.00      0.00      0.00        14\n",
      "          2       0.00      0.00      0.00        30\n",
      "          3       0.72      1.00      0.84       181\n",
      "\n",
      "avg / total       0.52      0.72      0.61       250\n",
      "\n"
     ]
    },
    {
     "name": "stderr",
     "output_type": "stream",
     "text": [
      "/usr/lib/python2.7/site-packages/sklearn/metrics/classification.py:1074: UndefinedMetricWarning: Precision and F-score are ill-defined and being set to 0.0 in labels with no predicted samples.\n",
      "  'precision', 'predicted', average, warn_for)\n"
     ]
    }
   ],
   "source": [
    "# compare result with the most common dummy classifier\n",
    "print classification_report(y_test, [3]*len(y_test))"
   ]
  },
  {
   "cell_type": "markdown",
   "metadata": {},
   "source": [
    "## Softmax Classifier"
   ]
  },
  {
   "cell_type": "code",
   "execution_count": 42,
   "metadata": {
    "collapsed": false
   },
   "outputs": [
    {
     "name": "stdout",
     "output_type": "stream",
     "text": [
      "loss: 1.386475\n",
      "sanity check: 2.302585\n"
     ]
    }
   ],
   "source": [
    "# First implement the naive softmax loss function with nested loops.\n",
    "# Open the file cs231n/classifiers/softmax.py and implement the\n",
    "# softmax_loss_naive function.\n",
    "\n",
    "from cs231n.classifiers.softmax import softmax_loss_naive\n",
    "import time\n",
    "\n",
    "# Generate a random softmax weight matrix and use it to compute the loss.\n",
    "W = numpy.random.randn(4, X_train_sample.shape[0]) * 0.01 \n",
    "loss, grad = softmax_loss_naive(W, X_train_sample, y_train_sample, 0.0)\n",
    "\n",
    "# As a rough sanity check, our loss should be something close to -log(0.1).\n",
    "print 'loss: %f' % loss\n",
    "print 'sanity check: %f' % (-numpy.log(0.1))"
   ]
  },
  {
   "cell_type": "code",
   "execution_count": 43,
   "metadata": {
    "collapsed": false
   },
   "outputs": [
    {
     "name": "stdout",
     "output_type": "stream",
     "text": [
      "numerical: -0.000327 analytic: -0.000327, relative error: 8.012937e-09\n",
      "numerical: 0.000000 analytic: 0.000000, relative error: nan\n",
      "numerical: 0.000621 analytic: 0.000621, relative error: 9.943626e-10\n",
      "numerical: 0.000000 analytic: 0.000000, relative error: nan\n",
      "numerical: 0.000000 analytic: 0.000000, relative error: nan\n"
     ]
    }
   ],
   "source": [
    "# Complete the implementation of softmax_loss_naive and implement a (naive)\n",
    "# version of the gradient that uses nested loops.\n",
    "loss, grad = softmax_loss_naive(W, X_train_sample, y_train_sample, 0.0)\n",
    "\n",
    "# As we did for the SVM, use numeric gradient checking as a debugging tool.\n",
    "# The numeric gradient should be close to the analytic gradient.\n",
    "from cs231n.gradient_check import grad_check_sparse\n",
    "f = lambda w: softmax_loss_naive(w, X_train_sample, y_train_sample, 0.0)[0]\n",
    "grad_numerical = grad_check_sparse(f, W, grad, 5)"
   ]
  },
  {
   "cell_type": "code",
   "execution_count": 45,
   "metadata": {
    "collapsed": false
   },
   "outputs": [
    {
     "name": "stdout",
     "output_type": "stream",
     "text": [
      "naive loss: 1.386481e+00 computed in 0.054284s\n",
      "vectorized loss: 1.386481e+00 computed in 0.033899s\n",
      "Loss difference: 0.000000\n",
      "Gradient difference: 0.000000\n"
     ]
    }
   ],
   "source": [
    "# Now that we have a naive implementation of the softmax loss function and its gradient,\n",
    "# implement a vectorized version in softmax_loss_vectorized.\n",
    "# The two versions should compute the same results, but the vectorized version should be\n",
    "# much faster.\n",
    "tic = time.time()\n",
    "loss_naive, grad_naive = softmax_loss_naive(W, X_train_sample, y_train_sample, 0.00001)\n",
    "toc = time.time()\n",
    "print 'naive loss: %e computed in %fs' % (loss_naive, toc - tic)\n",
    "\n",
    "from cs231n.classifiers.softmax import softmax_loss_vectorized\n",
    "tic = time.time()\n",
    "loss_vectorized, grad_vectorized = softmax_loss_vectorized(W, X_train_sample, y_train_sample, 0.00001)\n",
    "toc = time.time()\n",
    "print 'vectorized loss: %e computed in %fs' % (loss_vectorized, toc - tic)\n",
    "\n",
    "# As we did for the SVM, we use the Frobenius norm to compare the two versions\n",
    "# of the gradient.\n",
    "grad_difference = numpy.linalg.norm(grad_naive - grad_vectorized, ord='fro')\n",
    "print 'Loss difference: %f' % numpy.abs(loss_naive - loss_vectorized)\n",
    "print 'Gradient difference: %f' % grad_difference"
   ]
  },
  {
   "cell_type": "code",
   "execution_count": 46,
   "metadata": {
    "collapsed": false
   },
   "outputs": [
    {
     "name": "stdout",
     "output_type": "stream",
     "text": [
      "iteration 0 / 500: loss 1.386206\n",
      "iteration 100 / 500: loss 1.356404\n",
      "iteration 200 / 500: loss 1.330890\n",
      "iteration 300 / 500: loss 1.309366\n",
      "iteration 400 / 500: loss 1.290849\n",
      "That took 515.802718s\n",
      "Current loss is 1.278269\n"
     ]
    }
   ],
   "source": [
    "from cs231n.classifiers import Softmax\n",
    "sm = Softmax()\n",
    "tic = time.time()\n",
    "loss_hist = sm.train(X_train, y_train, learning_rate=5e-2, reg=0.01,\n",
    "                      num_iters=500, verbose=True, batch_size=20000)\n",
    "\n",
    "toc = time.time()\n",
    "print 'That took %fs' % (toc - tic)\n",
    "print 'Current loss is %f' % loss_hist[-1]"
   ]
  },
  {
   "cell_type": "code",
   "execution_count": 47,
   "metadata": {
    "collapsed": false
   },
   "outputs": [
    {
     "data": {
      "text/plain": [
       "<matplotlib.text.Text at 0x7f1bc9ac3750>"
      ]
     },
     "execution_count": 47,
     "metadata": {},
     "output_type": "execute_result"
    },
    {
     "data": {
      "image/png": "[encoded data removed]",
      "text/plain": [
       "<matplotlib.figure.Figure at 0x7f1bc9b69ad0>"
      ]
     },
     "metadata": {},
     "output_type": "display_data"
    }
   ],
   "source": [
    "# A useful debugging strategy is to plot the loss as a function of\n",
    "# iteration number:\n",
    "plt.plot(loss_hist)\n",
    "plt.xlabel('Iteration number')\n",
    "plt.ylabel('Loss value')"
   ]
  },
  {
   "cell_type": "code",
   "execution_count": 48,
   "metadata": {
    "collapsed": true
   },
   "outputs": [],
   "source": [
    "# Write the LinearSVM.predict function \n",
    "y_train_pred = sm.predict(X_train)\n",
    "y_test_pred = sm.predict(X_test)"
   ]
  },
  {
   "cell_type": "code",
   "execution_count": 49,
   "metadata": {
    "collapsed": false
   },
   "outputs": [
    {
     "name": "stdout",
     "output_type": "stream",
     "text": [
      "             precision    recall  f1-score   support\n",
      "\n",
      "          0       0.38      0.20      0.26        25\n",
      "          1       0.14      0.07      0.10        14\n",
      "          2       0.07      0.03      0.05        30\n",
      "          3       0.75      0.90      0.82       181\n",
      "\n",
      "avg / total       0.60      0.68      0.63       250\n",
      "\n"
     ]
    }
   ],
   "source": [
    "print classification_report(y_test, y_test_pred)"
   ]
  },
  {
   "cell_type": "code",
   "execution_count": 50,
   "metadata": {
    "collapsed": false
   },
   "outputs": [
    {
     "name": "stdout",
     "output_type": "stream",
     "text": [
      "             precision    recall  f1-score   support\n",
      "\n",
      "          0       0.00      0.00      0.00        25\n",
      "          1       0.00      0.00      0.00        14\n",
      "          2       0.00      0.00      0.00        30\n",
      "          3       0.72      1.00      0.84       181\n",
      "\n",
      "avg / total       0.52      0.72      0.61       250\n",
      "\n"
     ]
    }
   ],
   "source": [
    "# compare result with the most common dummy classifier\n",
    "print classification_report(y_test, [3]*len(y_test))"
   ]
  },
  {
   "cell_type": "markdown",
   "metadata": {},
   "source": [
    "## Cross-validation"
   ]
  },
  {
   "cell_type": "code",
   "execution_count": 51,
   "metadata": {
    "collapsed": false
   },
   "outputs": [
    {
     "name": "stdout",
     "output_type": "stream",
     "text": [
      "(352278, 2)\n",
      "                                                   Reviews_Summary  Prediction\n",
      "ID                                                                            \n",
      "230872  Babies love these                                           3         \n",
      "344823  Salmon Trout                                                0         \n",
      "211754  disappointment                                              1         \n",
      "259421  Doesn't taste like Cinnabon; tastes like Waffle Crisp       2         \n",
      "253418  Delicious San Daniele prosciutto and good customer service  3         \n",
      "                             Reviews_Summary  Prediction\n",
      "ID                                                      \n",
      "110273  We enjoy this coffee                  3         \n",
      "259187  Satisfied                             2         \n",
      "365859  quite good                            3         \n",
      "131937  Great yummy treat for my little ones  3         \n",
      "121963  Disappointed                          1         \n"
     ]
    }
   ],
   "source": [
    "data = pandas.read_csv(\"kaggle_data/train.csv\", index_col=0, na_values=\"NaN\")\n",
    "\n",
    "print(data.shape)\n",
    "print(data.head())\n",
    "print(data.tail())"
   ]
  },
  {
   "cell_type": "code",
   "execution_count": 52,
   "metadata": {
    "collapsed": false
   },
   "outputs": [],
   "source": [
    "corpus = data[\"Reviews_Summary\"].values[:1000]\n",
    "score = data[\"Prediction\"].values[:1000]"
   ]
  },
  {
   "cell_type": "code",
   "execution_count": 53,
   "metadata": {
    "collapsed": true
   },
   "outputs": [],
   "source": [
    "from sklearn.feature_extraction.text import HashingVectorizer\n",
    "\n",
    "hash_vectorizer = HashingVectorizer(n_features=3000)\n",
    "\n",
    "corpus_hashed = hash_vectorizer.transform(corpus)\n",
    "\n",
    "# print(corpus_hashed)\n",
    "\n",
    "mean_matrix_hash = corpus_hashed.mean(axis = 1)"
   ]
  },
  {
   "cell_type": "code",
   "execution_count": 54,
   "metadata": {
    "collapsed": false
   },
   "outputs": [
    {
     "name": "stdout",
     "output_type": "stream",
     "text": [
      "  (0, 2201)\t-0.390666501164\n",
      "  (0, 2170)\t0.779067464351\n",
      "  (0, 1134)\t0.490340260287\n",
      "  (1, 1857)\t-0.707106781187\n",
      "  (1, 1353)\t-0.707106781187\n",
      "  (2, 1544)\t1.0\n",
      "  (3, 2437)\t0.400179329608\n",
      "  (3, 1855)\t-0.511667069701\n",
      "  (3, 1706)\t0.251870403554\n",
      "  (3, 1534)\t-0.281490746435\n",
      "  (3, 1480)\t-0.400179329608\n",
      "  (3, 1473)\t-0.400179329608\n",
      "  (3, 1465)\t-0.339250028345\n",
      "  (4, 2860)\t-0.398862124748\n",
      "  (4, 2381)\t-0.42260974453\n",
      "  (4, 2369)\t0.241570983252\n",
      "  (4, 1729)\t0.196491295799\n",
      "  (4, 845)\t-0.221485108061\n",
      "  (4, 448)\t-0.398862124748\n",
      "  (4, 442)\t-0.42260974453\n",
      "  (4, 72)\t0.42260974453\n",
      "  (5, 1591)\t0.561683898009\n",
      "  (5, 1490)\t0.41152000634\n",
      "  (5, 719)\t-0.523493979178\n",
      "  (5, 93)\t-0.491036186919\n",
      "  :\t:\n",
      "  (995, 179)\t-0.436247113522\n",
      "  (996, 2462)\t0.223607164312\n",
      "  (996, 2344)\t0.37541247004\n",
      "  (996, 1591)\t0.286718110855\n",
      "  (996, 1563)\t-0.184805274749\n",
      "  (996, 1212)\t0.327739843415\n",
      "  (996, 1092)\t-0.327739843415\n",
      "  (996, 985)\t-0.339349520165\n",
      "  (996, 861)\t0.354316996698\n",
      "  (996, 275)\t0.310233920079\n",
      "  (996, 49)\t-0.37541247004\n",
      "  (997, 2763)\t-0.420486443733\n",
      "  (997, 2531)\t-0.378820253791\n",
      "  (997, 2201)\t0.248724097697\n",
      "  (997, 1490)\t0.277544209108\n",
      "  (997, 1124)\t-0.367336841689\n",
      "  (997, 918)\t0.277544209108\n",
      "  (997, 897)\t-0.468133855274\n",
      "  (997, 93)\t-0.33117284225\n",
      "  (998, 2388)\t0.28699434447\n",
      "  (998, 2027)\t0.629513686819\n",
      "  (998, 1000)\t-0.602921027075\n",
      "  (998, 691)\t0.397282015024\n",
      "  (999, 2704)\t-0.765929143778\n",
      "  (999, 1729)\t0.642924993067\n"
     ]
    }
   ],
   "source": [
    "from sklearn.feature_extraction.text import TfidfTransformer\n",
    "\n",
    "TFIDFtransformer = TfidfTransformer()\n",
    "\n",
    "corpus_TFIDF = TFIDFtransformer.fit_transform(corpus_hashed)\n",
    "\n",
    "print(corpus_TFIDF)\n",
    "corpus_TFIDF\n",
    "\n",
    "\n",
    "mean_matrix_TFIDF = corpus_TFIDF.mean(axis = 1)"
   ]
  },
  {
   "cell_type": "code",
   "execution_count": 55,
   "metadata": {
    "collapsed": false
   },
   "outputs": [
    {
     "name": "stdout",
     "output_type": "stream",
     "text": [
      "[[ 0.  0.  0. ...,  0.  0.  0.]\n",
      " [ 0.  0.  0. ...,  0.  0.  0.]\n",
      " [ 0.  0.  0. ...,  0.  0.  0.]\n",
      " ..., \n",
      " [ 0.  0.  0. ...,  0.  0.  0.]\n",
      " [ 0.  0.  0. ...,  0.  0.  0.]\n",
      " [ 0.  0.  0. ...,  0.  0.  0.]]\n",
      "(1000, 3000)\n"
     ]
    }
   ],
   "source": [
    "corpus_np = corpus_TFIDF.toarray()\n",
    "\n",
    "print(corpus_np)\n",
    "print(corpus_np.shape)"
   ]
  },
  {
   "cell_type": "code",
   "execution_count": 56,
   "metadata": {
    "collapsed": false
   },
   "outputs": [],
   "source": [
    "CVX_train = corpus_np\n",
    "CVy_train = score"
   ]
  },
  {
   "cell_type": "code",
   "execution_count": 57,
   "metadata": {
    "collapsed": true
   },
   "outputs": [],
   "source": [
    "CVX_train = CVX_train.transpose()\n",
    "CVy_train = CVy_train.transpose()"
   ]
  },
  {
   "cell_type": "code",
   "execution_count": 58,
   "metadata": {
    "collapsed": false
   },
   "outputs": [],
   "source": [
    "\n",
    "from sklearn import metrics\n",
    "\n",
    "def accuracy(y_true, y_predict):\n",
    "    return metrics.accuracy_score(y_true, y_predict)\n",
    "\n"
   ]
  },
  {
   "cell_type": "code",
   "execution_count": 62,
   "metadata": {
    "collapsed": true
   },
   "outputs": [],
   "source": [
    "# Cross validation\n",
    "from sklearn import cross_validation\n",
    "from datetime import datetime\n",
    "\n",
    "def my_cross_validation(X, y, predictor, batch_size, q_fold = 5, r_fold = 5):\n",
    "    \n",
    "    scores = []\n",
    "    \n",
    "    total_size = X.shape[1]\n",
    "    \n",
    "    seed = datetime.now().microsecond + datetime.now().second * 1000000\n",
    "    \n",
    "    shuffled_split = cross_validation.ShuffleSplit(total_size, n_iter=r_fold, test_size=1.0/q_fold, random_state=seed)\n",
    "    \n",
    "    for train_index, test_index in shuffled_split:\n",
    "#         print(train_index, test_index)\n",
    "#         print(X.shape)\n",
    "        X_train = X[:, train_index]\n",
    "        y_train = y[train_index]\n",
    "        X_test = X[:, test_index]\n",
    "        y_test = y[test_index]\n",
    "        \n",
    "        predictor.train(X_train, y_train, learning_rate=5e-2, reg=0.01,\n",
    "                      num_iters=500, verbose=True, batch_size=20000)\n",
    "        \n",
    "        y_predicted = predictor.predict(X_test)\n",
    "        \n",
    "#         predictor = predictor.fit(X_train, y_train)\n",
    "#         predictor = predictor.calc_dist(X_test, metric)\n",
    "#         y_predicted = predictor.predict_labels(X_test)\n",
    "        \n",
    "        scores.append(accuracy(y_test, y_predicted))\n",
    "    \n",
    "    return np.mean(scores)"
   ]
  },
  {
   "cell_type": "code",
   "execution_count": 66,
   "metadata": {
    "collapsed": false
   },
   "outputs": [
    {
     "name": "stdout",
     "output_type": "stream",
     "text": [
      "0.74\n"
     ]
    }
   ],
   "source": [
    "from cs231n.classifiers import Softmax\n",
    "\n",
    "my_cross_validation(CVX_train, CVy_train, Softmax(), 2500)"
   ]
  },
  {
   "cell_type": "code",
   "execution_count": 67,
   "metadata": {
    "collapsed": false
   },
   "outputs": [
    {
     "name": "stdout",
     "output_type": "stream",
     "text": [
      "Starting job # 5 in a separate thread.\n",
      "Starting job # 6 in a separate thread.\n",
      "Starting job # 7 in a separate thread.\n",
      "Starting job # 8 in a separate thread.\n"
     ]
    }
   ],
   "source": [
    "# for chunk in get_chunks(urls, 3):\n",
    "#     %job [fetch_url(_) for _ in log_progress(chunk, every=1)]\n",
    "\n",
    "import sys\n",
    "\n",
    "for batch_size in [10, 15, 20, 25]:#[10000, 15000, 20000, 25000]:\n",
    "    %job [sys.stderr.print(my_cross_validation(CVX_train, CVy_train, Softmax(), _)) for _ in log_progress(batch, every=1)]\n",
    "    "
   ]
  },
  {
   "cell_type": "code",
   "execution_count": 68,
   "metadata": {
    "collapsed": true
   },
   "outputs": [],
   "source": [
    "for job in jobs.running:\n",
    "    kill_thread(job)"
   ]
  },
  {
   "cell_type": "markdown",
   "metadata": {},
   "source": [
    "## 3. Kaggle In Class - 50 Баллов\n",
    "\n",
    "Используйте полученные модели для решения контеста. Выберете одну из моделей, реализуйте настройку гиперпараметров и пайплайн для предсказания классов тестовой выборки для сабмита в систему."
   ]
  },
  {
   "cell_type": "markdown",
   "metadata": {},
   "source": [
    "## Disclaimer\n",
    "\n",
    "Финальные результаты для контеста я получал на другом, более мощном компе (здесь датасет не влезал в оперативку, начинался лютый swap, трешинг и оно могло продолжаться вечно).\n",
    "\n",
    "Поэтому в этом ноутбуке эта часть не исполнялась.\n",
    "\n",
    "Однако, в архиве лежит та самая посылка, кажется."
   ]
  },
  {
   "cell_type": "code",
   "execution_count": 3,
   "metadata": {
    "collapsed": true
   },
   "outputs": [],
   "source": [
    "corpus = data[\"Reviews_Summary\"].values[:150000]\n",
    "score = data[\"Prediction\"].values[:150000]"
   ]
  },
  {
   "cell_type": "code",
   "execution_count": 4,
   "metadata": {
    "collapsed": true
   },
   "outputs": [],
   "source": [
    "from sklearn.feature_extraction.text import HashingVectorizer\n",
    "\n",
    "hash_vectorizer = HashingVectorizer(n_features=3000)\n",
    "\n",
    "corpus_hashed = hash_vectorizer.transform(corpus)\n",
    "\n",
    "# print(corpus_hashed)\n",
    "\n",
    "mean_matrix_hash = corpus_hashed.mean(axis = 1)"
   ]
  },
  {
   "cell_type": "code",
   "execution_count": 5,
   "metadata": {
    "collapsed": false
   },
   "outputs": [
    {
     "name": "stdout",
     "output_type": "stream",
     "text": [
      "  (0, 2201)\t-0.388087041871\n",
      "  (0, 2170)\t0.797261449037\n",
      "  (0, 1134)\t0.46234470886\n",
      "  (1, 1857)\t-0.585449721059\n",
      "  (1, 1353)\t-0.810708717181\n",
      "  (2, 1544)\t1.0\n",
      "  (3, 2437)\t0.406636837688\n",
      "  (3, 1855)\t-0.472879818054\n",
      "  (3, 1706)\t0.223009443256\n",
      "  (3, 1534)\t-0.276326371382\n",
      "  (3, 1480)\t-0.427133236033\n",
      "  (3, 1473)\t-0.429236822175\n",
      "  (3, 1465)\t-0.343881714801\n",
      "  (4, 2860)\t-0.415063911996\n",
      "  (4, 2381)\t-0.479051022982\n",
      "  (4, 2369)\t0.208293833248\n",
      "  (4, 1729)\t0.166347090244\n",
      "  (4, 845)\t-0.181486200877\n",
      "  (4, 448)\t-0.315606706645\n",
      "  (4, 442)\t-0.35157973944\n",
      "  (4, 72)\t0.520597006681\n",
      "  (5, 1591)\t0.528041718732\n",
      "  (5, 1490)\t0.405698776136\n",
      "  (5, 719)\t-0.567388184332\n",
      "  (5, 93)\t-0.484407983627\n",
      "  :\t:\n",
      "  (149994, 811)\t0.36106911323\n",
      "  (149994, 582)\t0.246338063177\n",
      "  (149994, 522)\t-0.257311653332\n",
      "  (149994, 312)\t0.514746539396\n",
      "  (149995, 2294)\t1.0\n",
      "  (149996, 2388)\t0.341739803231\n",
      "  (149996, 1801)\t0.778369270629\n",
      "  (149996, 972)\t0.526645217797\n",
      "  (149997, 2958)\t-0.338519179805\n",
      "  (149997, 1298)\t-0.494010033191\n",
      "  (149997, 735)\t0.666610424603\n",
      "  (149997, 277)\t0.443834872246\n",
      "  (149998, 2729)\t0.750388410987\n",
      "  (149998, 1209)\t0.660997150264\n",
      "  (149999, 2996)\t0.301877382692\n",
      "  (149999, 2958)\t-0.166352860126\n",
      "  (149999, 2284)\t-0.276875393828\n",
      "  (149999, 1682)\t0.315189493813\n",
      "  (149999, 1568)\t0.335193964914\n",
      "  (149999, 1298)\t-0.242763148605\n",
      "  (149999, 1209)\t0.271153695427\n",
      "  (149999, 1118)\t-0.406101180722\n",
      "  (149999, 869)\t0.316097711125\n",
      "  (149999, 534)\t-0.384672288263\n",
      "  (149999, 277)\t0.218106402315\n"
     ]
    }
   ],
   "source": [
    "from sklearn.feature_extraction.text import TfidfTransformer\n",
    "\n",
    "TFIDFtransformer = TfidfTransformer()\n",
    "\n",
    "corpus_TFIDF = TFIDFtransformer.fit_transform(corpus_hashed)\n",
    "\n",
    "print(corpus_TFIDF)\n",
    "corpus_TFIDF\n",
    "\n",
    "\n",
    "mean_matrix_TFIDF = corpus_TFIDF.mean(axis = 1)"
   ]
  },
  {
   "cell_type": "code",
   "execution_count": 6,
   "metadata": {
    "collapsed": false
   },
   "outputs": [
    {
     "name": "stdout",
     "output_type": "stream",
     "text": [
      "[[ 0.  0.  0. ...,  0.  0.  0.]\n",
      " [ 0.  0.  0. ...,  0.  0.  0.]\n",
      " [ 0.  0.  0. ...,  0.  0.  0.]\n",
      " ..., \n",
      " [ 0.  0.  0. ...,  0.  0.  0.]\n",
      " [ 0.  0.  0. ...,  0.  0.  0.]\n",
      " [ 0.  0.  0. ...,  0.  0.  0.]]\n",
      "(150000, 3000)\n"
     ]
    }
   ],
   "source": [
    "corpus_np = corpus_TFIDF.toarray()\n",
    "\n",
    "print(corpus_np)\n",
    "print(corpus_np.shape)"
   ]
  },
  {
   "cell_type": "code",
   "execution_count": 70,
   "metadata": {
    "collapsed": false
   },
   "outputs": [],
   "source": [
    "KX_train = corpus_np[:10]\n",
    "Ky_train = score[:10]"
   ]
  },
  {
   "cell_type": "code",
   "execution_count": 71,
   "metadata": {
    "collapsed": true
   },
   "outputs": [],
   "source": [
    "KX_train = KX_train.transpose()\n",
    "Ky_train = Ky_train.transpose()"
   ]
  },
  {
   "cell_type": "code",
   "execution_count": null,
   "metadata": {
    "collapsed": false
   },
   "outputs": [
    {
     "name": "stdout",
     "output_type": "stream",
     "text": [
      "iteration 0 / 500: loss 1.386600\n"
     ]
    }
   ],
   "source": [
    "from cs231n.classifiers import Softmax\n",
    "import time\n",
    "sm = Softmax()\n",
    "tic = time.time()\n",
    "loss_hist = sm.train(KX_train, Ky_train, learning_rate=5e-2, reg=0.01,\n",
    "                      num_iters=500, verbose=True, batch_size=20000)\n",
    "\n",
    "toc = time.time()\n",
    "print 'That took %fs' % (toc - tic)\n",
    "print 'Current loss is %f' % loss_hist[-1]"
   ]
  },
  {
   "cell_type": "code",
   "execution_count": null,
   "metadata": {
    "collapsed": false
   },
   "outputs": [],
   "source": [
    "data_test = pandas.read_csv(\"kaggle_data/test.csv\", na_values=\"NaN\")\n",
    "\n",
    "print(data_test.shape)\n",
    "print(data_test.head())\n",
    "print(data_test.tail())"
   ]
  },
  {
   "cell_type": "code",
   "execution_count": null,
   "metadata": {
    "collapsed": false
   },
   "outputs": [],
   "source": [
    "KX_test = data_test[\"Reviews_Summary\"]\n",
    "KIDs = data_test[\"ID\"]"
   ]
  },
  {
   "cell_type": "code",
   "execution_count": null,
   "metadata": {
    "collapsed": true
   },
   "outputs": [],
   "source": [
    "from sklearn.feature_extraction.text import HashingVectorizer\n",
    "\n",
    "hash_vectorizer = HashingVectorizer(n_features=3000)\n",
    "\n",
    "KX_test_hashed = hash_vectorizer.transform(KX_test)\n",
    "\n",
    "# print(corpus_hashed)\n",
    "\n",
    "mean_matrix_hash = KX_test_hashed.mean(axis = 1)"
   ]
  },
  {
   "cell_type": "code",
   "execution_count": null,
   "metadata": {
    "collapsed": false
   },
   "outputs": [],
   "source": [
    "from sklearn.feature_extraction.text import TfidfTransformer\n",
    "\n",
    "TFIDFtransformer = TfidfTransformer()\n",
    "\n",
    "KX_test_TFIDF = TFIDFtransformer.fit_transform(KX_test_hashed)\n",
    "\n",
    "print(KX_test_TFIDF)\n",
    "KX_test_TFIDF\n",
    "\n",
    "\n",
    "mean_matrix_TFIDF = KX_test_TFIDF.mean(axis = 1)"
   ]
  },
  {
   "cell_type": "code",
   "execution_count": null,
   "metadata": {
    "collapsed": false
   },
   "outputs": [],
   "source": [
    "KX_test = KX_test_TFIDF.toarray()\n",
    "\n",
    "print(KX_test)\n",
    "print(KX_test.shape)"
   ]
  },
  {
   "cell_type": "code",
   "execution_count": null,
   "metadata": {
    "collapsed": false
   },
   "outputs": [],
   "source": [
    "KX_test = KX_test.transpose()\n",
    "\n",
    "print(KX_test.shape)"
   ]
  },
  {
   "cell_type": "code",
   "execution_count": null,
   "metadata": {
    "collapsed": false
   },
   "outputs": [],
   "source": [
    "Ky_test_pred = sm.predict(KX_test)"
   ]
  },
  {
   "cell_type": "code",
   "execution_count": null,
   "metadata": {
    "collapsed": false
   },
   "outputs": [],
   "source": [
    "print(Ky_test_pred)\n",
    "print(Ky_test_pred.shape)\n"
   ]
  },
  {
   "cell_type": "code",
   "execution_count": null,
   "metadata": {
    "collapsed": false
   },
   "outputs": [],
   "source": [
    "print(numpy.unique(Ky_test_pred, return_counts = True)) # no NaN"
   ]
  },
  {
   "cell_type": "code",
   "execution_count": null,
   "metadata": {
    "collapsed": false
   },
   "outputs": [],
   "source": [
    "import sys\n",
    "\n",
    "ans = open(\"kaggle_prediction.csv\", \"w\")\n",
    "\n",
    "ans.write(\"ID,class_0,class_1,class_2,class_3\\n\")\n",
    "\n",
    "for index in range(KIDs.size):\n",
    "    ID = KIDs[index]\n",
    "    class_0 = float(Ky_test_pred[index] == 0)\n",
    "    class_1 = float(Ky_test_pred[index] == 1)\n",
    "    class_2 = float(Ky_test_pred[index] == 2)\n",
    "    class_3 = float(Ky_test_pred[index] == 3)\n",
    "    ans.write(\"%d,%.1f,%.1f,%.1f,%.1f\\n\" % (ID, class_0, class_1, class_2, class_3))\n",
    "    \n",
    "ans.close()\n",
    "    "
   ]
  },
  {
   "cell_type": "markdown",
   "metadata": {},
   "source": [
    "## Fin"
   ]
  }
 ],
 "metadata": {
  "kernelspec": {
   "display_name": "Python 2",
   "language": "python",
   "name": "python2"
  },
  "language_info": {
   "codemirror_mode": {
    "name": "ipython",
    "version": 2
   },
   "file_extension": ".py",
   "mimetype": "text/x-python",
   "name": "python",
   "nbconvert_exporter": "python",
   "pygments_lexer": "ipython2",
   "version": "2.7.11"
  }
 },
 "nbformat": 4,
 "nbformat_minor": 0
}
