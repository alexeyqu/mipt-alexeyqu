{
 "cells": [
  {
   "cell_type": "markdown",
   "metadata": {},
   "source": [
    "# KNN -- Digit Recognizer\n",
    "## Kulikov Alex, gr. 397"
   ]
  },
  {
   "cell_type": "code",
   "execution_count": 1,
   "metadata": {
    "collapsed": false
   },
   "outputs": [
    {
     "name": "stdout",
     "output_type": "stream",
     "text": [
      "Populating the interactive namespace from numpy and matplotlib\n"
     ]
    },
    {
     "data": {
      "text/html": [
       "<style>.container { width:90% !important; }</style>"
      ],
      "text/plain": [
       "<IPython.core.display.HTML object>"
      ]
     },
     "execution_count": 1,
     "metadata": {},
     "output_type": "execute_result"
    }
   ],
   "source": [
    "import matplotlib\n",
    "import numpy\n",
    "import pandas\n",
    "from knn import MatrixBasedKNearestNeighbor, KDBasedKNearestNeighbor\n",
    "\n",
    "%pylab inline\n",
    "%load_ext autoreload\n",
    "%autoreload 2\n",
    "\n",
    "pandas.options.display.max_colwidth = 0\n",
    "\n",
    "from IPython.core.display import HTML\n",
    "HTML(\"<style>.container { width:90% !important; }</style>\")"
   ]
  },
  {
   "cell_type": "markdown",
   "metadata": {},
   "source": [
    "## Let's get some data!"
   ]
  },
  {
   "cell_type": "code",
   "execution_count": 2,
   "metadata": {
    "collapsed": false
   },
   "outputs": [],
   "source": [
    "df = pandas.read_csv(\"kaggle_data/train.csv\")"
   ]
  },
  {
   "cell_type": "code",
   "execution_count": 3,
   "metadata": {
    "collapsed": false
   },
   "outputs": [
    {
     "data": {
      "text/html": [
       "<div>\n",
       "<table border=\"1\" class=\"dataframe\">\n",
       "  <thead>\n",
       "    <tr style=\"text-align: right;\">\n",
       "      <th></th>\n",
       "      <th>label</th>\n",
       "      <th>pixel0</th>\n",
       "      <th>pixel1</th>\n",
       "      <th>pixel2</th>\n",
       "      <th>pixel3</th>\n",
       "      <th>pixel4</th>\n",
       "      <th>pixel5</th>\n",
       "      <th>pixel6</th>\n",
       "      <th>pixel7</th>\n",
       "      <th>pixel8</th>\n",
       "      <th>...</th>\n",
       "      <th>pixel774</th>\n",
       "      <th>pixel775</th>\n",
       "      <th>pixel776</th>\n",
       "      <th>pixel777</th>\n",
       "      <th>pixel778</th>\n",
       "      <th>pixel779</th>\n",
       "      <th>pixel780</th>\n",
       "      <th>pixel781</th>\n",
       "      <th>pixel782</th>\n",
       "      <th>pixel783</th>\n",
       "    </tr>\n",
       "  </thead>\n",
       "  <tbody>\n",
       "    <tr>\n",
       "      <th>0</th>\n",
       "      <td>5</td>\n",
       "      <td>0</td>\n",
       "      <td>0</td>\n",
       "      <td>0</td>\n",
       "      <td>0</td>\n",
       "      <td>0</td>\n",
       "      <td>0</td>\n",
       "      <td>0</td>\n",
       "      <td>0</td>\n",
       "      <td>0</td>\n",
       "      <td>...</td>\n",
       "      <td>0</td>\n",
       "      <td>0</td>\n",
       "      <td>0</td>\n",
       "      <td>0</td>\n",
       "      <td>0</td>\n",
       "      <td>0</td>\n",
       "      <td>0</td>\n",
       "      <td>0</td>\n",
       "      <td>0</td>\n",
       "      <td>0</td>\n",
       "    </tr>\n",
       "    <tr>\n",
       "      <th>1</th>\n",
       "      <td>0</td>\n",
       "      <td>0</td>\n",
       "      <td>0</td>\n",
       "      <td>0</td>\n",
       "      <td>0</td>\n",
       "      <td>0</td>\n",
       "      <td>0</td>\n",
       "      <td>0</td>\n",
       "      <td>0</td>\n",
       "      <td>0</td>\n",
       "      <td>...</td>\n",
       "      <td>0</td>\n",
       "      <td>0</td>\n",
       "      <td>0</td>\n",
       "      <td>0</td>\n",
       "      <td>0</td>\n",
       "      <td>0</td>\n",
       "      <td>0</td>\n",
       "      <td>0</td>\n",
       "      <td>0</td>\n",
       "      <td>0</td>\n",
       "    </tr>\n",
       "    <tr>\n",
       "      <th>2</th>\n",
       "      <td>4</td>\n",
       "      <td>0</td>\n",
       "      <td>0</td>\n",
       "      <td>0</td>\n",
       "      <td>0</td>\n",
       "      <td>0</td>\n",
       "      <td>0</td>\n",
       "      <td>0</td>\n",
       "      <td>0</td>\n",
       "      <td>0</td>\n",
       "      <td>...</td>\n",
       "      <td>0</td>\n",
       "      <td>0</td>\n",
       "      <td>0</td>\n",
       "      <td>0</td>\n",
       "      <td>0</td>\n",
       "      <td>0</td>\n",
       "      <td>0</td>\n",
       "      <td>0</td>\n",
       "      <td>0</td>\n",
       "      <td>0</td>\n",
       "    </tr>\n",
       "    <tr>\n",
       "      <th>3</th>\n",
       "      <td>1</td>\n",
       "      <td>0</td>\n",
       "      <td>0</td>\n",
       "      <td>0</td>\n",
       "      <td>0</td>\n",
       "      <td>0</td>\n",
       "      <td>0</td>\n",
       "      <td>0</td>\n",
       "      <td>0</td>\n",
       "      <td>0</td>\n",
       "      <td>...</td>\n",
       "      <td>0</td>\n",
       "      <td>0</td>\n",
       "      <td>0</td>\n",
       "      <td>0</td>\n",
       "      <td>0</td>\n",
       "      <td>0</td>\n",
       "      <td>0</td>\n",
       "      <td>0</td>\n",
       "      <td>0</td>\n",
       "      <td>0</td>\n",
       "    </tr>\n",
       "    <tr>\n",
       "      <th>4</th>\n",
       "      <td>9</td>\n",
       "      <td>0</td>\n",
       "      <td>0</td>\n",
       "      <td>0</td>\n",
       "      <td>0</td>\n",
       "      <td>0</td>\n",
       "      <td>0</td>\n",
       "      <td>0</td>\n",
       "      <td>0</td>\n",
       "      <td>0</td>\n",
       "      <td>...</td>\n",
       "      <td>0</td>\n",
       "      <td>0</td>\n",
       "      <td>0</td>\n",
       "      <td>0</td>\n",
       "      <td>0</td>\n",
       "      <td>0</td>\n",
       "      <td>0</td>\n",
       "      <td>0</td>\n",
       "      <td>0</td>\n",
       "      <td>0</td>\n",
       "    </tr>\n",
       "  </tbody>\n",
       "</table>\n",
       "<p>5 rows × 785 columns</p>\n",
       "</div>"
      ],
      "text/plain": [
       "   label  pixel0  pixel1  pixel2  pixel3  pixel4  pixel5  pixel6  pixel7  \\\n",
       "0  5      0       0       0       0       0       0       0       0        \n",
       "1  0      0       0       0       0       0       0       0       0        \n",
       "2  4      0       0       0       0       0       0       0       0        \n",
       "3  1      0       0       0       0       0       0       0       0        \n",
       "4  9      0       0       0       0       0       0       0       0        \n",
       "\n",
       "   pixel8    ...     pixel774  pixel775  pixel776  pixel777  pixel778  \\\n",
       "0  0         ...     0         0         0         0         0          \n",
       "1  0         ...     0         0         0         0         0          \n",
       "2  0         ...     0         0         0         0         0          \n",
       "3  0         ...     0         0         0         0         0          \n",
       "4  0         ...     0         0         0         0         0          \n",
       "\n",
       "   pixel779  pixel780  pixel781  pixel782  pixel783  \n",
       "0  0         0         0         0         0         \n",
       "1  0         0         0         0         0         \n",
       "2  0         0         0         0         0         \n",
       "3  0         0         0         0         0         \n",
       "4  0         0         0         0         0         \n",
       "\n",
       "[5 rows x 785 columns]"
      ]
     },
     "execution_count": 3,
     "metadata": {},
     "output_type": "execute_result"
    }
   ],
   "source": [
    "df.head()"
   ]
  },
  {
   "cell_type": "code",
   "execution_count": 4,
   "metadata": {
    "collapsed": false
   },
   "outputs": [
    {
     "name": "stdout",
     "output_type": "stream",
     "text": [
      "Head:\n",
      "   label  pixel0  pixel1  pixel2  pixel3  pixel4  pixel5  pixel6  pixel7  \\\n",
      "0  5      0       0       0       0       0       0       0       0        \n",
      "1  0      0       0       0       0       0       0       0       0        \n",
      "2  4      0       0       0       0       0       0       0       0        \n",
      "3  1      0       0       0       0       0       0       0       0        \n",
      "4  9      0       0       0       0       0       0       0       0        \n",
      "\n",
      "   pixel8    ...     pixel774  pixel775  pixel776  pixel777  pixel778  \\\n",
      "0  0         ...     0         0         0         0         0          \n",
      "1  0         ...     0         0         0         0         0          \n",
      "2  0         ...     0         0         0         0         0          \n",
      "3  0         ...     0         0         0         0         0          \n",
      "4  0         ...     0         0         0         0         0          \n",
      "\n",
      "   pixel779  pixel780  pixel781  pixel782  pixel783  \n",
      "0  0         0         0         0         0         \n",
      "1  0         0         0         0         0         \n",
      "2  0         0         0         0         0         \n",
      "3  0         0         0         0         0         \n",
      "4  0         0         0         0         0         \n",
      "\n",
      "[5 rows x 785 columns]\n",
      "Shape:\n",
      "(20000, 785)\n"
     ]
    }
   ],
   "source": [
    "print \"Head:\"\n",
    "print df.head()\n",
    "print \"Shape:\"\n",
    "print shape(df)"
   ]
  },
  {
   "cell_type": "code",
   "execution_count": 5,
   "metadata": {
    "collapsed": false
   },
   "outputs": [],
   "source": [
    "X_train, y_train = df[df.columns[1:]].values, df[\"label\"].values"
   ]
  },
  {
   "cell_type": "markdown",
   "metadata": {},
   "source": [
    "### OK, we have the initial data and we understand its structure"
   ]
  },
  {
   "cell_type": "markdown",
   "metadata": {},
   "source": [
    "## Visualizing it \"as is\", binarized and with image centering"
   ]
  },
  {
   "cell_type": "code",
   "execution_count": 6,
   "metadata": {
    "collapsed": false
   },
   "outputs": [],
   "source": [
    "def plot_image(img, im_size=28):\n",
    "    pylab.imshow(img.reshape(im_size, im_size), cmap = \"gray\")\n",
    "    \n",
    "def plot_grid(imgs, nrows, ncols, dataset = X_train, im_size = 28):\n",
    "    fig = pyplot.gcf()\n",
    "    fig.set_size_inches(17.5,15.5)\n",
    "    for pylab_index, img in enumerate(imgs):\n",
    "        pylab.subplot(nrows, ncols, pylab_index + 1)\n",
    "        plot_image(img)\n",
    "        pylab.axis('off')"
   ]
  },
  {
   "cell_type": "code",
   "execution_count": 7,
   "metadata": {
    "collapsed": false
   },
   "outputs": [
    {
     "data": {
      "image/png": "[encoded data removed]",
      "text/plain": [
       "<matplotlib.figure.Figure at 0x7f4ab4e41e50>"
      ]
     },
     "metadata": {},
     "output_type": "display_data"
    }
   ],
   "source": [
    "plot_grid(X_train[0:10], 1, 10)"
   ]
  },
  {
   "cell_type": "code",
   "execution_count": 16,
   "metadata": {
    "collapsed": false
   },
   "outputs": [
    {
     "name": "stderr",
     "output_type": "stream",
     "text": [
      "ERROR: Line magic function `%job` not found.\n"
     ]
    }
   ],
   "source": [
    "def jobs_manager():\n",
    "    from IPython.lib.backgroundjobs import BackgroundJobManager\n",
    "    from IPython.core.magic import register_line_magic\n",
    "    from IPython import get_ipython\n",
    "\n",
    "    jobs = BackgroundJobManager()\n",
    "\n",
    "    @register_line_magic\n",
    "    def job(line):\n",
    "        ip = get_ipython()\n",
    "        jobs.new(line, ip.user_global_ns)\n",
    "\n",
    "    return jobs\n",
    "\n",
    "lst = [100:110]\n",
    "\n",
    "%job [fact(num) for num in lst]"
   ]
  },
  {
   "cell_type": "code",
   "execution_count": 15,
   "metadata": {
    "collapsed": true
   },
   "outputs": [],
   "source": [
    "def binarize(img, bborder = 100):\n",
    "    binarizator = MatrixBasedKNearestNeighbor(k = 3)\n",
    "    img = img.reshape(binarizator.size, binarizator.size)\n",
    "    img = binarizator.center_image(img)\n",
    "    img = binarizator.binarize(img, black_border = bborder)\n",
    "    \n",
    "    img = img.reshape(binarizator.size * binarizator.size)\n",
    "    \n",
    "    return img"
   ]
  },
  {
   "cell_type": "code",
   "execution_count": 17,
   "metadata": {
    "collapsed": true
   },
   "outputs": [],
   "source": [
    "def binarize_batch(img_set, bborder = 100):\n",
    "    for index, img in enumerate(img_set):\n",
    "        img_set[index] = binarize(img.copy(), bborder)\n",
    "    return img_set"
   ]
  },
  {
   "cell_type": "code",
   "execution_count": 18,
   "metadata": {
    "collapsed": false
   },
   "outputs": [],
   "source": [
    "def plot_grid_bin(imgs, nrows, ncols, bborder = 100, dataset = X_train, im_size = 28):\n",
    "    fig = pyplot.gcf()\n",
    "    fig.set_size_inches(17.5,15.5)\n",
    "    binarizator = MatrixBasedKNearestNeighbor(k = 3)\n",
    "    for pylab_index, img in enumerate(imgs):\n",
    "        img = img.reshape(binarizator.size, binarizator.size)\n",
    "        img = binarizator.binarize(img, bborder)\n",
    "        pylab.subplot(nrows, ncols, pylab_index + 1)\n",
    "        plot_image(img)\n",
    "        pylab.axis('off')"
   ]
  },
  {
   "cell_type": "code",
   "execution_count": 19,
   "metadata": {
    "collapsed": false
   },
   "outputs": [
    {
     "data": {
      "image/png": "[encoded data removed]",
      "text/plain": [
       "<matplotlib.figure.Figure at 0x7f68ff352750>"
      ]
     },
     "metadata": {},
     "output_type": "display_data"
    }
   ],
   "source": [
    "\n",
    "plot_grid_bin(X_train[0:20].copy(), 1, 20, bborder = 0)"
   ]
  },
  {
   "cell_type": "code",
   "execution_count": 29,
   "metadata": {
    "collapsed": false
   },
   "outputs": [
    {
     "data": {
      "image/png": "[encoded data removed]",
      "text/plain": [
       "<matplotlib.figure.Figure at 0x7f64e9af4bd0>"
      ]
     },
     "metadata": {},
     "output_type": "display_data"
    }
   ],
   "source": [
    "\n",
    "plot_grid_bin(X_train[0:20].copy(), 1, 20, bborder = 100)"
   ]
  },
  {
   "cell_type": "code",
   "execution_count": 385,
   "metadata": {
    "collapsed": false
   },
   "outputs": [
    {
     "data": {
      "image/png": "[encoded data removed]",
      "text/plain": [
       "<matplotlib.figure.Figure at 0x7fcee9503bd0>"
      ]
     },
     "metadata": {},
     "output_type": "display_data"
    }
   ],
   "source": [
    "\n",
    "plot_grid_bin(X_train[0:20].copy(), 1, 20, bborder = 200)"
   ]
  },
  {
   "cell_type": "code",
   "execution_count": 20,
   "metadata": {
    "collapsed": false
   },
   "outputs": [],
   "source": [
    "def plot_grid_bin_centered(imgs, nrows, ncols, bborder = 100, dataset = X_train, im_size = 28):\n",
    "    fig = pyplot.gcf()\n",
    "    fig.set_size_inches(17.5,15.5)\n",
    "    for pylab_index, img in enumerate(imgs):\n",
    "        img = binarize(img, bborder)\n",
    "        pylab.subplot(nrows, ncols, pylab_index + 1)\n",
    "        plot_image(img)\n",
    "        pylab.axis('off')"
   ]
  },
  {
   "cell_type": "code",
   "execution_count": 387,
   "metadata": {
    "collapsed": false
   },
   "outputs": [
    {
     "data": {
      "image/png": "[encoded data removed]",
      "text/plain": [
       "<matplotlib.figure.Figure at 0x7fcee30c5b10>"
      ]
     },
     "metadata": {},
     "output_type": "display_data"
    }
   ],
   "source": [
    "plot_grid_bin_centered(X_train[0:20].copy(), 1, 20, bborder = 0)"
   ]
  },
  {
   "cell_type": "markdown",
   "metadata": {},
   "source": [
    "### OK, now we can transform images in a simple way (binarization, centering) and draw them. Hopefully, this helps."
   ]
  },
  {
   "cell_type": "markdown",
   "metadata": {},
   "source": [
    "## Plot means"
   ]
  },
  {
   "cell_type": "code",
   "execution_count": 388,
   "metadata": {
    "collapsed": false
   },
   "outputs": [],
   "source": [
    "average_class_imgs = []\n",
    "\n",
    "figures = [[] for i in xrange (0, 10)]\n",
    "\n",
    "for cur_fig in xrange(0, 10):\n",
    "    for image_id in xrange (1, len (X_train)):\n",
    "        if (y_train[image_id] == cur_fig):\n",
    "            figures[cur_fig].append (X_train[image_id])\n",
    "\n",
    "    np_figures = np.array (figures[cur_fig])\n",
    "    np_figures = np.mean (np_figures, axis = 0)\n",
    "    average_class_imgs.append (np_figures)\n",
    "    pass\n",
    "\n",
    "average_class_imgs = np.array (average_class_imgs)"
   ]
  },
  {
   "cell_type": "code",
   "execution_count": 389,
   "metadata": {
    "collapsed": false
   },
   "outputs": [
    {
     "data": {
      "image/png": "[encoded data removed]",
      "text/plain": [
       "<matplotlib.figure.Figure at 0x7fcee9058990>"
      ]
     },
     "metadata": {},
     "output_type": "display_data"
    }
   ],
   "source": [
    "# Plot your means, note that is should be similar on to real smooth numbers -- done\n",
    "plot_grid(average_class_imgs, nrows = 1, ncols = 10)"
   ]
  },
  {
   "cell_type": "code",
   "execution_count": 390,
   "metadata": {
    "collapsed": false
   },
   "outputs": [
    {
     "data": {
      "image/png": "[encoded data removed]",
      "text/plain": [
       "<matplotlib.figure.Figure at 0x7fcee99c7810>"
      ]
     },
     "metadata": {},
     "output_type": "display_data"
    }
   ],
   "source": [
    "plot_grid_bin_centered(average_class_imgs.copy(), 1, 10, bborder = 50)"
   ]
  },
  {
   "cell_type": "markdown",
   "metadata": {},
   "source": [
    "## Matrix-based KNN"
   ]
  },
  {
   "cell_type": "code",
   "execution_count": 391,
   "metadata": {
    "collapsed": true
   },
   "outputs": [],
   "source": [
    "# Code matrix-based KNN with L2 norm (see MatrixBasedKNearestNeighbor class)\n",
    "# Use predict on to X_train[:100] only for debug"
   ]
  },
  {
   "cell_type": "code",
   "execution_count": 392,
   "metadata": {
    "collapsed": false
   },
   "outputs": [
    {
     "data": {
      "image/png": "[encoded data removed]",
      "text/plain": [
       "<matplotlib.figure.Figure at 0x7fcee9938990>"
      ]
     },
     "metadata": {},
     "output_type": "display_data"
    }
   ],
   "source": [
    "plot_grid(X_train[110:120], 1, 10)\n"
   ]
  },
  {
   "cell_type": "code",
   "execution_count": 393,
   "metadata": {
    "collapsed": false
   },
   "outputs": [
    {
     "name": "stdout",
     "output_type": "stream",
     "text": [
      "CPU times: user 853 ms, sys: 43.3 ms, total: 897 ms\n",
      "Wall time: 794 ms\n",
      "[(9, 2)]\n",
      "[(3, 2)]\n",
      "[(1, 3)]\n",
      "[(1, 3)]\n",
      "[(0, 3)]\n",
      "[(4, 2)]\n",
      "[(9, 2)]\n",
      "[(2, 2)]\n",
      "[(0, 1)]\n",
      "[(0, 3)]\n",
      "CPU times: user 0 ns, sys: 0 ns, total: 0 ns\n",
      "Wall time: 703 µs\n",
      "[ 9.  3.  1.  1.  0.  4.  9.  2.  0.  0.]\n"
     ]
    }
   ],
   "source": [
    "# KNN two loops\n",
    "\n",
    "knn_clf_loop2 = MatrixBasedKNearestNeighbor(num_loops = 2, k = 3)\n",
    "knn_clf_loop2 = knn_clf_loop2.fit(X_train[:110], y_train[:110])\n",
    "%time knn_clf_loop2.calc_dist(X_train[110:120], metric=\"pixel_L1\")\n",
    "%time y_pred2 = knn_clf_loop2.predict_labels(X_train[110:120])\n",
    "print y_pred2"
   ]
  },
  {
   "cell_type": "code",
   "execution_count": 394,
   "metadata": {
    "collapsed": false
   },
   "outputs": [
    {
     "name": "stdout",
     "output_type": "stream",
     "text": [
      "CPU times: user 787 ms, sys: 30 ms, total: 817 ms\n",
      "Wall time: 763 ms\n",
      "[(9, 2)]\n",
      "[(3, 2)]\n",
      "[(1, 3)]\n",
      "[(1, 3)]\n",
      "[(0, 3)]\n",
      "[(4, 2)]\n",
      "[(9, 2)]\n",
      "[(2, 2)]\n",
      "[(0, 1)]\n",
      "[(0, 3)]\n",
      "CPU times: user 3.33 ms, sys: 0 ns, total: 3.33 ms\n",
      "Wall time: 648 µs\n",
      "[ 9.  3.  1.  1.  0.  4.  9.  2.  0.  0.]\n"
     ]
    }
   ],
   "source": [
    "# KNN one loop\n",
    "\n",
    "knn_clf_loop1 = MatrixBasedKNearestNeighbor(num_loops = 1, k = 3)\n",
    "knn_clf_loop1 = knn_clf_loop1.fit(X_train[:110], y_train[:110])\n",
    "%time knn_clf_loop1.calc_dist(X_train[110:120], metric=\"pixel_L1\")\n",
    "%time y_pred1 = knn_clf_loop1.predict_labels(X_train[110:120])\n",
    "print y_pred1"
   ]
  },
  {
   "cell_type": "code",
   "execution_count": 395,
   "metadata": {
    "collapsed": false
   },
   "outputs": [
    {
     "name": "stdout",
     "output_type": "stream",
     "text": [
      "good\n"
     ]
    }
   ],
   "source": [
    "print 'good' if np.linalg.norm(y_pred2 - y_pred1) < 1e-4 else 'fail'"
   ]
  },
  {
   "cell_type": "code",
   "execution_count": 396,
   "metadata": {
    "collapsed": false
   },
   "outputs": [
    {
     "name": "stdout",
     "output_type": "stream",
     "text": [
      "CPU times: user 707 ms, sys: 30 ms, total: 737 ms\n",
      "Wall time: 710 ms\n",
      "[(9, 2)]\n",
      "[(3, 2)]\n",
      "[(1, 3)]\n",
      "[(1, 3)]\n",
      "[(0, 3)]\n",
      "[(4, 2)]\n",
      "[(9, 2)]\n",
      "[(2, 2)]\n",
      "[(0, 1)]\n",
      "[(0, 3)]\n",
      "CPU times: user 0 ns, sys: 0 ns, total: 0 ns\n",
      "Wall time: 652 µs\n",
      "[ 9.  3.  1.  1.  0.  4.  9.  2.  0.  0.]\n"
     ]
    }
   ],
   "source": [
    "# KNN no loops\n",
    "\n",
    "knn_clf_loop0 = MatrixBasedKNearestNeighbor(num_loops = 0, k = 3)\n",
    "knn_clf_loop0 = knn_clf_loop0.fit(X_train[:110], y_train[:110])\n",
    "%time knn_clf_loop0.calc_dist(X_train[110:120], metric=\"pixel_L1\")\n",
    "%time y_pred0 = knn_clf_loop0.predict_labels(X_train[110:120])\n",
    "print y_pred0"
   ]
  },
  {
   "cell_type": "code",
   "execution_count": 397,
   "metadata": {
    "collapsed": false
   },
   "outputs": [
    {
     "name": "stdout",
     "output_type": "stream",
     "text": [
      "good\n"
     ]
    }
   ],
   "source": [
    "print 'good' if np.linalg.norm(y_pred1 - y_pred0) < 1e-4 else 'fail'"
   ]
  },
  {
   "cell_type": "markdown",
   "metadata": {},
   "source": [
    "### It works sometimes!"
   ]
  },
  {
   "cell_type": "markdown",
   "metadata": {},
   "source": [
    "### Lets' try the clever IMED metric\n",
    "#### http://www.cis.pku.edu.cn/faculty/vision/wangliwei/pdf/IMED.pdf"
   ]
  },
  {
   "cell_type": "code",
   "execution_count": 14,
   "metadata": {
    "collapsed": false
   },
   "outputs": [],
   "source": [
    "def precalc_G(sigma, size = 28):\n",
    "    \n",
    "    G = numpy.zeros(size * size * size * size).reshape(size, size, size, size)\n",
    "    sigma_squared = math.pow(sigma, 2)\n",
    "\n",
    "    # fill G\n",
    "    for row_i in range(size):\n",
    "        for col_i in range(size):\n",
    "            for row_j in range(size):\n",
    "                for col_j in range(size):\n",
    "                    G[row_i][col_i][row_j][col_j] = math.exp(((row_i - row_j) * (row_i - row_j) + (col_i - col_j) * (col_i - col_j))/(-2*sigma_squared))\n",
    "    \n",
    "    return G\n",
    "\n",
    "G_0p4 = precalc_G(0.4) # 0.04\n",
    "G_0p5 = precalc_G(0.5) # 0.14\n",
    "G_0p6 = precalc_G(0.6) # 0.25\n",
    "G_0p9 = precalc_G(0.9) # 0.53\n",
    "G_1p01 = precalc_G(1.01) #0.61"
   ]
  },
  {
   "cell_type": "code",
   "execution_count": 399,
   "metadata": {
    "collapsed": false
   },
   "outputs": [
    {
     "name": "stdout",
     "output_type": "stream",
     "text": [
      "[0, 1, 2, 3, 4, 5, 6, 7, 8, 9]\n",
      "[14, 17, 7, 12, 11, 6, 12, 12, 8, 11]\n"
     ]
    }
   ],
   "source": [
    "from collections import Counter\n",
    "print(Counter(y_train[:110]).keys())\n",
    "print(Counter(y_train[:110]).values())"
   ]
  },
  {
   "cell_type": "code",
   "execution_count": 403,
   "metadata": {
    "collapsed": false
   },
   "outputs": [
    {
     "name": "stdout",
     "output_type": "stream",
     "text": [
      "CPU times: user 56.7 ms, sys: 0 ns, total: 56.7 ms\n",
      "Wall time: 59 ms\n",
      "[(4, 1)]\n",
      "[(8, 1)]\n",
      "[(9, 1)]\n",
      "[(8, 1)]\n",
      "[(7, 1)]\n",
      "[(1, 1)]\n",
      "[(9, 1)]\n",
      "[(6, 1)]\n",
      "[(1, 1)]\n",
      "[(3, 1)]\n",
      "CPU times: user 3.33 ms, sys: 0 ns, total: 3.33 ms\n",
      "Wall time: 1.31 ms\n",
      "[ 4.  8.  9.  8.  7.  1.  9.  6.  1.  3.]\n"
     ]
    }
   ],
   "source": [
    "knn_IMED = MatrixBasedKNearestNeighbor(num_loops = 2, k = 1)\n",
    "knn_IMED = knn_IMED.init_G(G_1p5)\n",
    "# print(knn_IMED.G) # prints the pixel distance matrix\n",
    "knn_IMED = knn_IMED.fit(knn_IMED.ST_batch(X_train[:510].copy()), y_train[:510])\n",
    "%time knn_IMED = knn_IMED.calc_dist(X_train[1110:1120], metric=\"IMED\")\n",
    "%time y_predIMED = knn_IMED.predict_labels(X_train[1110:1120])\n",
    "print y_predIMED"
   ]
  },
  {
   "cell_type": "code",
   "execution_count": 356,
   "metadata": {
    "collapsed": false
   },
   "outputs": [
    {
     "data": {
      "image/png": "[encoded data removed]",
      "text/plain": [
       "<matplotlib.figure.Figure at 0x7fcee97ece90>"
      ]
     },
     "metadata": {},
     "output_type": "display_data"
    }
   ],
   "source": [
    "plot_grid(X_train[1110:1120], 1, 10)"
   ]
  },
  {
   "cell_type": "markdown",
   "metadata": {},
   "source": [
    "### Seems that this metric is also working"
   ]
  },
  {
   "cell_type": "markdown",
   "metadata": {},
   "source": [
    "## KDTree-based KNN"
   ]
  },
  {
   "cell_type": "code",
   "execution_count": 9,
   "metadata": {
    "collapsed": false
   },
   "outputs": [
    {
     "name": "stdout",
     "output_type": "stream",
     "text": [
      "CPU times: user 6.67 ms, sys: 0 ns, total: 6.67 ms\n",
      "Wall time: 7.76 ms\n",
      "[ 4.  5.  9.  6.  7.  1.  4.  1.  1.  0.]\n",
      "[[ 26  92  48]\n",
      " [ 11  99  35]\n",
      " [ 26  84  54]\n",
      " [ 73  66  22]\n",
      " [ 52  84 103]\n",
      " [ 59  23   3]\n",
      " [ 58  92   4]\n",
      " [105  77  59]\n",
      " [ 67  40  72]\n",
      " [  1  21   0]]\n"
     ]
    }
   ],
   "source": [
    "# KNN kd_tree\n",
    "\n",
    "knn_clf_Tree = KDBasedKNearestNeighbor(k = 3)\n",
    "knn_clf_Tree = knn_clf_Tree.fit(X_train[:110], y_train[:110])\n",
    "knn_clf_Tree = knn_clf_Tree.calc_dist(X_train[1110:1120], \"minkowski\")\n",
    "neighbors = knn_clf_Tree.get_neighbors(X_train[1110:1120])\n",
    "%time y_pred = knn_clf_Tree.predict_labels(X_train[1110:1120])\n",
    "print y_pred\n",
    "print neighbors"
   ]
  },
  {
   "cell_type": "code",
   "execution_count": 13,
   "metadata": {
    "collapsed": false
   },
   "outputs": [
    {
     "data": {
      "image/png": "[encoded data removed]",
      "text/plain": [
       "<matplotlib.figure.Figure at 0x7f651d9316d0>"
      ]
     },
     "metadata": {},
     "output_type": "display_data"
    }
   ],
   "source": [
    "plot_image(X_train[1110]) # one of the target images"
   ]
  },
  {
   "cell_type": "code",
   "execution_count": 14,
   "metadata": {
    "collapsed": false
   },
   "outputs": [
    {
     "data": {
      "image/png": "[encoded data removed]",
      "text/plain": [
       "<matplotlib.figure.Figure at 0x7f651caec8d0>"
      ]
     },
     "metadata": {},
     "output_type": "display_data"
    }
   ],
   "source": [
    "plot_grid(X_train[[26, 92, 48]], 1, 3) # and the 3 nearest neighbors (default 'minkowski' L2 metric)"
   ]
  },
  {
   "cell_type": "markdown",
   "metadata": {},
   "source": [
    "## It's time to test it 4real!\n",
    "## Code Accuracy score and Cross Validation Prosses"
   ]
  },
  {
   "cell_type": "code",
   "execution_count": 412,
   "metadata": {
    "collapsed": true
   },
   "outputs": [],
   "source": [
    "# Accuracy\n",
    "from sklearn import metrics\n",
    "\n",
    "def accuracy(y_true, y_predict):\n",
    "    return metrics.accuracy_score(y_true, y_predict)"
   ]
  },
  {
   "cell_type": "code",
   "execution_count": 413,
   "metadata": {
    "collapsed": false
   },
   "outputs": [
    {
     "name": "stdout",
     "output_type": "stream",
     "text": [
      "good\n"
     ]
    }
   ],
   "source": [
    "print 'good' if accuracy([1, 1, 1, 0], [1, 1, 1, 5]) == 0.75 else 'fail'"
   ]
  },
  {
   "cell_type": "code",
   "execution_count": 442,
   "metadata": {
    "collapsed": false
   },
   "outputs": [],
   "source": [
    "# Cross validation\n",
    "from sklearn import cross_validation\n",
    "from datetime import datetime\n",
    "\n",
    "def my_cross_validation(X, y, predictor, metric, q_fold = 5, r_fold = 5):\n",
    "    scores = []\n",
    "    \n",
    "    total_size = X.shape[0]\n",
    "    \n",
    "    seed = datetime.now().microsecond + datetime.now().second * 1000000\n",
    "    \n",
    "    shuffled_split = cross_validation.ShuffleSplit(total_size, n_iter=r_fold, test_size=1.0/q_fold, random_state=seed)\n",
    "    \n",
    "    for train_index, test_index in shuffled_split:\n",
    "        X_train = X[train_index]\n",
    "        y_train = y[train_index]\n",
    "        X_test = X[test_index]\n",
    "        y_test = y[test_index]\n",
    "        \n",
    "        predictor = predictor.fit(X_train, y_train)\n",
    "        predictor = predictor.calc_dist(X_test, metric)\n",
    "        y_predicted = predictor.predict_labels(X_test)\n",
    "        \n",
    "        scores.append(accuracy(y_test, y_predicted))\n",
    "    \n",
    "    return np.mean(scores)"
   ]
  },
  {
   "cell_type": "code",
   "execution_count": 473,
   "metadata": {
    "collapsed": false
   },
   "outputs": [
    {
     "name": "stdout",
     "output_type": "stream",
     "text": [
      "[0 6 3 5 9 7 1 2 4]\n",
      "[8]\n",
      "[5 1 3 8 4 0 7 2 9]\n",
      "[6]\n"
     ]
    }
   ],
   "source": [
    "# ShuffleSplit test using datetime.now() random seed\n",
    "\n",
    "seed = datetime.now().microsecond + datetime.now().second * 1000000\n",
    "shuffled_split = cross_validation.ShuffleSplit(10, n_iter=2, test_size=0.1, random_state=seed)\n",
    "for train_index, test_index in shuffled_split:\n",
    "    print(train_index)\n",
    "    print(test_index)"
   ]
  },
  {
   "cell_type": "markdown",
   "metadata": {},
   "source": [
    "## Knn Matrix stats plotting\n",
    "### Dumb L1, L2, L3 metrics\n",
    "\n",
    "Not a perfect metric for an image, frankly"
   ]
  },
  {
   "cell_type": "code",
   "execution_count": 475,
   "metadata": {
    "collapsed": false,
    "scrolled": true
   },
   "outputs": [
    {
     "name": "stdout",
     "output_type": "stream",
     "text": [
      "L1: 0.74\n",
      "L2: 0.48\n"
     ]
    }
   ],
   "source": [
    "predictor = MatrixBasedKNearestNeighbor(k = 3)\n",
    "print(\"L1: \" + str(my_cross_validation(X_train[:100], y_train[:100], predictor, \"pixel_L1\", q_fold = 10, r_fold = 5)))\n",
    "print(\"L2: \" + str(my_cross_validation(X_train[:100], y_train[:100], predictor, \"pixel_L2\", q_fold = 10, r_fold = 5)))"
   ]
  },
  {
   "cell_type": "code",
   "execution_count": 447,
   "metadata": {
    "collapsed": false
   },
   "outputs": [
    {
     "name": "stdout",
     "output_type": "stream",
     "text": [
      "L1 [0.85199999999999998, 0.82800000000000007, 0.82000000000000006, 0.80800000000000005, 0.79600000000000004]\n",
      "L2 [0.76400000000000001, 0.78400000000000003, 0.79599999999999993, 0.77600000000000002, 0.79200000000000004]\n",
      "L3 [0.78800000000000003, 0.75600000000000001, 0.72399999999999998, 0.73999999999999999, 0.66800000000000004]\n"
     ]
    },
    {
     "data": {
      "text/plain": [
       "[<matplotlib.lines.Line2D at 0x7fcee8d29710>]"
      ]
     },
     "execution_count": 447,
     "metadata": {},
     "output_type": "execute_result"
    },
    {
     "data": {
      "image/png": "[encoded data removed]",
      "text/plain": [
       "<matplotlib.figure.Figure at 0x7fcee98142d0>"
      ]
     },
     "metadata": {},
     "output_type": "display_data"
    }
   ],
   "source": [
    "# without binarization\n",
    "\n",
    "stats_k = [1, 3, 5, 7, 9]\n",
    "stats_result_L1 = []\n",
    "stats_result_L2 = []\n",
    "stats_result_L3 = []\n",
    "\n",
    "for k in stats_k:\n",
    "    predictor = MatrixBasedKNearestNeighbor(k)\n",
    "    stats_result_L1.append(my_cross_validation(X_train[:500], y_train[:500], predictor, \"pixel_L1\", q_fold = 10, r_fold = 5))\n",
    "    stats_result_L2.append(my_cross_validation(X_train[:500], y_train[:500], predictor, \"pixel_L2\", q_fold = 10, r_fold = 5))\n",
    "    stats_result_L3.append(my_cross_validation(X_train[:500], y_train[:500], predictor, \"pixel_L3\", q_fold = 10, r_fold = 5))\n",
    "\n",
    "print \"L1 \" + str(stats_result_L1)\n",
    "print \"L2 \" + str(stats_result_L2)\n",
    "print \"L3 \" + str(stats_result_L3)\n",
    "\n",
    "from matplotlib import pyplot\n",
    "\n",
    "f, axarr = plt.subplots(3, sharex=True)\n",
    "axarr[2].set_xlabel(\"k\")\n",
    "axarr[0].plot(stats_k, stats_result_L1)\n",
    "axarr[1].plot(stats_k, stats_result_L2)\n",
    "axarr[2].plot(stats_k, stats_result_L3)\n"
   ]
  },
  {
   "cell_type": "code",
   "execution_count": 448,
   "metadata": {
    "collapsed": false
   },
   "outputs": [
    {
     "data": {
      "image/png": "[encoded data removed]",
      "text/plain": [
       "<matplotlib.figure.Figure at 0x7fcee999e950>"
      ]
     },
     "metadata": {},
     "output_type": "display_data"
    }
   ],
   "source": [
    "plot_grid(binarize_batch(X_train[:500].copy(), 10)[0:10], 1, 10)"
   ]
  },
  {
   "cell_type": "code",
   "execution_count": 449,
   "metadata": {
    "collapsed": false
   },
   "outputs": [
    {
     "name": "stdout",
     "output_type": "stream",
     "text": [
      "bin [[0.8640000000000001, 0.8640000000000001, 0.87200000000000011, 0.88000000000000012, 0.82400000000000007, 0.83599999999999997], [0.8640000000000001, 0.90399999999999991, 0.88800000000000012, 0.80400000000000005, 0.81200000000000006, 0.80800000000000005], [0.88000000000000012, 0.84000000000000008, 0.88400000000000001, 0.79600000000000004, 0.83200000000000007, 0.83200000000000007], [0.83600000000000008, 0.84799999999999986, 0.80800000000000005, 0.84800000000000009, 0.82400000000000007, 0.79600000000000004], [0.83599999999999997, 0.85600000000000009, 0.79600000000000004, 0.81600000000000006, 0.77200000000000002, 0.76800000000000013]]\n"
     ]
    },
    {
     "data": {
      "image/png": "[encoded data removed]",
      "text/plain": [
       "<matplotlib.figure.Figure at 0x7fcee9fbad90>"
      ]
     },
     "metadata": {},
     "output_type": "display_data"
    }
   ],
   "source": [
    "# with binarization\n",
    "\n",
    "stats_k = [1, 3, 5, 7, 9]\n",
    "borders = [10, 25, 50, 75, 100, 150]\n",
    "stats_result_bin = []\n",
    "\n",
    "for k in stats_k:\n",
    "    this_result = []\n",
    "    predictor = MatrixBasedKNearestNeighbor(k)\n",
    "    \n",
    "    for b in borders:            \n",
    "        this_result.append(my_cross_validation(binarize_batch(X_train[:500].copy(), b), y_train[:500], predictor, \"pixel_L2\", q_fold = 10, r_fold = 5))\n",
    "    stats_result_bin.append(this_result)\n",
    "\n",
    "print \"bin \" + str(stats_result_bin)\n",
    "\n",
    "from matplotlib import pyplot\n",
    "\n",
    "plt.imshow(stats_result_bin,\n",
    "           interpolation=\"nearest\", cmap = \"Blues\")\n",
    "plt.show()\n"
   ]
  },
  {
   "cell_type": "code",
   "execution_count": 450,
   "metadata": {
    "collapsed": false
   },
   "outputs": [
    {
     "name": "stdout",
     "output_type": "stream",
     "text": [
      "[   [   0.8640000000000001,\n",
      "        0.8640000000000001,\n",
      "        0.87200000000000011,\n",
      "        0.88000000000000012,\n",
      "        0.82400000000000007,\n",
      "        0.83599999999999997],\n",
      "    [   0.8640000000000001,\n",
      "        0.90399999999999991,\n",
      "        0.88800000000000012,\n",
      "        0.80400000000000005,\n",
      "        0.81200000000000006,\n",
      "        0.80800000000000005],\n",
      "    [   0.88000000000000012,\n",
      "        0.84000000000000008,\n",
      "        0.88400000000000001,\n",
      "        0.79600000000000004,\n",
      "        0.83200000000000007,\n",
      "        0.83200000000000007],\n",
      "    [   0.83600000000000008,\n",
      "        0.84799999999999986,\n",
      "        0.80800000000000005,\n",
      "        0.84800000000000009,\n",
      "        0.82400000000000007,\n",
      "        0.79600000000000004],\n",
      "    [   0.83599999999999997,\n",
      "        0.85600000000000009,\n",
      "        0.79600000000000004,\n",
      "        0.81600000000000006,\n",
      "        0.77200000000000002,\n",
      "        0.76800000000000013]]\n"
     ]
    },
    {
     "data": {
      "image/png": "[encoded data removed]",
      "text/plain": [
       "<matplotlib.figure.Figure at 0x7fcee8f8a350>"
      ]
     },
     "metadata": {},
     "output_type": "display_data"
    }
   ],
   "source": [
    "import pprint\n",
    "\n",
    "pp = pprint.PrettyPrinter(indent=4)\n",
    "\n",
    "pp.pprint(stats_result_bin)\n",
    "\n",
    "from matplotlib import pyplot\n",
    "\n",
    "plt.imshow(stats_result_bin,\n",
    "           interpolation=\"nearest\", cmap = \"Blues\")\n",
    "plt.show()"
   ]
  },
  {
   "cell_type": "markdown",
   "metadata": {},
   "source": [
    "#### Seems that black_border = 20 is close to the best one"
   ]
  },
  {
   "cell_type": "code",
   "execution_count": 451,
   "metadata": {
    "collapsed": false
   },
   "outputs": [
    {
     "data": {
      "image/png": "[encoded data removed]",
      "text/plain": [
       "<matplotlib.figure.Figure at 0x7fcee9e02550>"
      ]
     },
     "metadata": {},
     "output_type": "display_data"
    }
   ],
   "source": [
    "plot_grid(binarize_batch(X_train[:500].copy(), 15)[0:10], 1, 10)"
   ]
  },
  {
   "cell_type": "code",
   "execution_count": 452,
   "metadata": {
    "collapsed": false
   },
   "outputs": [
    {
     "data": {
      "image/png": "[encoded data removed]",
      "text/plain": [
       "<matplotlib.figure.Figure at 0x7fcee9bb7550>"
      ]
     },
     "metadata": {},
     "output_type": "display_data"
    }
   ],
   "source": [
    "plot_grid(binarize_batch(X_train[:500].copy(), 20)[0:10], 1, 10)"
   ]
  },
  {
   "cell_type": "code",
   "execution_count": 453,
   "metadata": {
    "collapsed": false
   },
   "outputs": [
    {
     "data": {
      "image/png": "[encoded data removed]",
      "text/plain": [
       "<matplotlib.figure.Figure at 0x7fcee9bdd650>"
      ]
     },
     "metadata": {},
     "output_type": "display_data"
    }
   ],
   "source": [
    "plot_grid(binarize_batch(X_train[:500].copy(), 25)[0:10], 1, 10)"
   ]
  },
  {
   "cell_type": "markdown",
   "metadata": {},
   "source": [
    "### IMED metric -- time to set up some parameters"
   ]
  },
  {
   "cell_type": "code",
   "execution_count": 456,
   "metadata": {
    "collapsed": false
   },
   "outputs": [
    {
     "name": "stdout",
     "output_type": "stream",
     "text": [
      "IMED [0.87200000000000011, 0.84400000000000008, 0.85400000000000009, 0.86799999999999999, 0.82000000000000006]\n"
     ]
    },
    {
     "data": {
      "text/plain": [
       "[<matplotlib.lines.Line2D at 0x7fcee8f58f10>]"
      ]
     },
     "execution_count": 456,
     "metadata": {},
     "output_type": "execute_result"
    },
    {
     "data": {
      "image/png": "[encoded data removed]",
      "text/plain": [
       "<matplotlib.figure.Figure at 0x7fcee9a98fd0>"
      ]
     },
     "metadata": {},
     "output_type": "display_data"
    }
   ],
   "source": [
    "stats_k = [1, 3, 5, 7, 9]\n",
    "stats_result_IMED = []\n",
    "\n",
    "for k in stats_k:\n",
    "    predictor = MatrixBasedKNearestNeighbor(k)\n",
    "    predictor = predictor.init_G(G_0p5)\n",
    "    stats_result_IMED.append(my_cross_validation(predictor.ST_batch(X_train[:500].copy()), y_train[:500], predictor, \"IMED\", q_fold = 10, r_fold = 10))\n",
    "\n",
    "print \"IMED \" + str(stats_result_IMED)\n",
    "\n",
    "from matplotlib import pyplot\n",
    "\n",
    "f, ax = plt.subplots()\n",
    "ax.set_xlabel(\"k\")\n",
    "ax.plot(stats_k, stats_result_IMED)"
   ]
  },
  {
   "cell_type": "code",
   "execution_count": 458,
   "metadata": {
    "collapsed": false
   },
   "outputs": [
    {
     "name": "stdout",
     "output_type": "stream",
     "text": [
      "IMED [0.89400000000000013, 0.86299999999999988, 0.89100000000000001, 0.85299999999999998, 0.83899999999999986]\n"
     ]
    },
    {
     "data": {
      "text/plain": [
       "[<matplotlib.lines.Line2D at 0x7fcee9d28f90>]"
      ]
     },
     "execution_count": 458,
     "metadata": {},
     "output_type": "execute_result"
    },
    {
     "data": {
      "image/png": "[encoded data removed]",
      "text/plain": [
       "<matplotlib.figure.Figure at 0x7fcee97fca50>"
      ]
     },
     "metadata": {},
     "output_type": "display_data"
    }
   ],
   "source": [
    "stats_k = [1, 3, 5, 7, 9]\n",
    "stats_result_IMED = []\n",
    "\n",
    "for k in stats_k:\n",
    "    predictor = MatrixBasedKNearestNeighbor(k)\n",
    "    predictor = predictor.init_G(G_0p6)\n",
    "    stats_result_IMED.append(my_cross_validation(predictor.ST_batch(X_train[:1000].copy()), y_train[:1000], predictor, \"IMED\", q_fold = 10, r_fold = 10))\n",
    "\n",
    "print \"IMED \" + str(stats_result_IMED)\n",
    "\n",
    "from matplotlib import pyplot\n",
    "\n",
    "f, ax = plt.subplots()\n",
    "ax.set_xlabel(\"k\")\n",
    "ax.plot(stats_k, stats_result_IMED)"
   ]
  },
  {
   "cell_type": "code",
   "execution_count": 460,
   "metadata": {
    "collapsed": false
   },
   "outputs": [
    {
     "name": "stdout",
     "output_type": "stream",
     "text": [
      "CPU times: user 2.61 s, sys: 0 ns, total: 2.61 s\n",
      "Wall time: 2.62 s\n",
      "CPU times: user 2.62 s, sys: 0 ns, total: 2.62 s\n",
      "Wall time: 2.62 s\n",
      "CPU times: user 2.61 s, sys: 0 ns, total: 2.61 s\n",
      "Wall time: 2.61 s\n",
      "CPU times: user 3.81 s, sys: 0 ns, total: 3.81 s\n",
      "Wall time: 3.81 s\n",
      "CPU times: user 3.33 s, sys: 0 ns, total: 3.33 s\n",
      "Wall time: 3.33 s\n",
      "CPU times: user 3.2 s, sys: 0 ns, total: 3.2 s\n",
      "Wall time: 3.2 s\n",
      "CPU times: user 3.12 s, sys: 0 ns, total: 3.12 s\n",
      "Wall time: 3.12 s\n",
      "CPU times: user 3.6 s, sys: 0 ns, total: 3.6 s\n",
      "Wall time: 3.6 s\n",
      "CPU times: user 3.54 s, sys: 0 ns, total: 3.54 s\n",
      "Wall time: 3.54 s\n"
     ]
    }
   ],
   "source": [
    "G_0p4 = precalc_G(0.4) # 0.04\n",
    "G_0p6 = precalc_G(0.6) # 0.25\n",
    "G_0p9 = precalc_G(0.9) # 0.53\n",
    "G_1p01 = precalc_G(1.01) #0.61\n",
    "G_1p3 = precalc_G(1.3) #0.74\n",
    "G_1p5 = precalc_G(1.5) #0.8\n",
    "G_2 = precalc_G(2) #0.88\n",
    "G_10 = precalc_G(10) #0.99 -- bad\n",
    "\n",
    "stats_G = [G_0p4, G_0p5, G_0p6, G_0p9, G_1p01, G_1p3, G_1p5, G_2, G_10]\n",
    "stats_result_IMED_G = []\n",
    "\n",
    "for G in stats_G:\n",
    "    predictor = MatrixBasedKNearestNeighbor(k=3)\n",
    "    predictor = predictor.init_G(G)\n",
    "    %time stats_result_IMED_G.append(my_cross_validation(predictor.ST_batch(X_train[:500].copy()), y_train[:500], predictor, \"IMED\", q_fold = 10, r_fold = 10))"
   ]
  },
  {
   "cell_type": "code",
   "execution_count": 462,
   "metadata": {
    "collapsed": false
   },
   "outputs": [
    {
     "name": "stdout",
     "output_type": "stream",
     "text": [
      "IMED [0.83800000000000008, 0.86199999999999988, 0.85199999999999998, 0.85799999999999998, 0.89200000000000002, 0.87200000000000011, 0.86799999999999999, 0.88200000000000001, 0.58200000000000007]\n"
     ]
    },
    {
     "data": {
      "text/plain": [
       "[<matplotlib.lines.Line2D at 0x7fcee9c8ad50>]"
      ]
     },
     "execution_count": 462,
     "metadata": {},
     "output_type": "execute_result"
    },
    {
     "data": {
      "image/png": "[encoded data removed]",
      "text/plain": [
       "<matplotlib.figure.Figure at 0x7fcee95a9210>"
      ]
     },
     "metadata": {},
     "output_type": "display_data"
    }
   ],
   "source": [
    "# best G =  (G_1p01) -- 0.61\n",
    "\n",
    "print \"IMED \" + str(stats_result_IMED_G)\n",
    "\n",
    "from matplotlib import pyplot\n",
    "\n",
    "f, ax = plt.subplots()\n",
    "ax.set_xlabel(\"G\")\n",
    "ax.plot([0.04, 0.14, 0.25, 0.53, 0.61, 0.74, 0.8, 0.88, 0.99], stats_result_IMED_G)"
   ]
  },
  {
   "cell_type": "code",
   "execution_count": 463,
   "metadata": {
    "collapsed": false
   },
   "outputs": [
    {
     "name": "stdout",
     "output_type": "stream",
     "text": [
      "CPU times: user 0 ns, sys: 0 ns, total: 0 ns\n",
      "Wall time: 5.01 µs\n",
      "CPU times: user 0 ns, sys: 0 ns, total: 0 ns\n",
      "Wall time: 26 µs\n",
      "CPU times: user 0 ns, sys: 0 ns, total: 0 ns\n",
      "Wall time: 5.96 µs\n",
      "CPU times: user 0 ns, sys: 0 ns, total: 0 ns\n",
      "Wall time: 5.96 µs\n",
      "CPU times: user 0 ns, sys: 0 ns, total: 0 ns\n",
      "Wall time: 5.96 µs\n",
      "bin [[0.89200000000000002, 0.88000000000000012, 0.91199999999999992, 0.88000000000000012, 0.88200000000000001, 0.90999999999999992, 0.86999999999999988, 0.874], [0.88400000000000012, 0.87999999999999989, 0.87999999999999989, 0.87799999999999989, 0.87200000000000011, 0.88400000000000001, 0.84999999999999998, 0.85799999999999998], [0.84999999999999998, 0.88400000000000001, 0.85600000000000009, 0.876, 0.84399999999999997, 0.86599999999999999, 0.83800000000000008, 0.874], [0.8500000000000002, 0.83600000000000008, 0.85799999999999998, 0.84399999999999997, 0.85199999999999998, 0.8640000000000001, 0.85999999999999999, 0.88400000000000001], [0.85999999999999999, 0.83399999999999996, 0.85200000000000009, 0.83200000000000007, 0.82800000000000007, 0.82400000000000007, 0.84399999999999997, 0.83599999999999997]]\n"
     ]
    },
    {
     "data": {
      "image/png": "[encoded data removed]",
      "text/plain": [
       "<matplotlib.figure.Figure at 0x7fcee8fd0910>"
      ]
     },
     "metadata": {},
     "output_type": "display_data"
    }
   ],
   "source": [
    "#### Binarize!\n",
    "\n",
    "stats_k = [1, 3, 5, 7, 9]\n",
    "borders = [0, 10, 15, 20, 50, 80, 100, 120]\n",
    "stats_result_bin_IMED = []\n",
    "\n",
    "for k in stats_k:\n",
    "    this_result = []\n",
    "    predictor = MatrixBasedKNearestNeighbor(k)\n",
    "    predictor = predictor.init_G(G_1p01)\n",
    "    \n",
    "    for b in borders:            \n",
    "        this_result.append(my_cross_validation(predictor.ST_batch(binarize_batch(X_train[:500].copy(), b)), y_train[:500], predictor, \"IMED\", q_fold = 10, r_fold = 10))\n",
    "    %time stats_result_bin_IMED.append(this_result)\n",
    "\n",
    "print \"bin \" + str(stats_result_bin_IMED)\n",
    "\n",
    "from matplotlib import pyplot\n",
    "\n",
    "plt.imshow(stats_result_bin_IMED,\n",
    "           interpolation=\"nearest\", cmap = \"Blues\")\n",
    "plt.show()"
   ]
  },
  {
   "cell_type": "code",
   "execution_count": 465,
   "metadata": {
    "collapsed": false
   },
   "outputs": [
    {
     "name": "stdout",
     "output_type": "stream",
     "text": [
      "CPU times: user 4min 25s, sys: 223 ms, total: 4min 26s\n",
      "Wall time: 4min 26s\n",
      "CPU times: user 4min 17s, sys: 257 ms, total: 4min 17s\n",
      "Wall time: 4min 17s\n",
      "CPU times: user 4min 4s, sys: 337 ms, total: 4min 5s\n",
      "Wall time: 4min 5s\n",
      "CPU times: user 4min 8s, sys: 163 ms, total: 4min 8s\n",
      "Wall time: 4min 8s\n",
      "CPU times: user 4min 9s, sys: 233 ms, total: 4min 9s\n",
      "Wall time: 4min 9s\n",
      "IMED [0.95939999999999992, 0.95660000000000012, 0.95559999999999989, 0.94539999999999991, 0.94779999999999998]\n"
     ]
    },
    {
     "data": {
      "text/plain": [
       "[<matplotlib.lines.Line2D at 0x7fcee8f9b3d0>]"
      ]
     },
     "execution_count": 465,
     "metadata": {},
     "output_type": "execute_result"
    },
    {
     "data": {
      "image/png": "[encoded data removed]",
      "text/plain": [
       "<matplotlib.figure.Figure at 0x7fcee8f9b750>"
      ]
     },
     "metadata": {},
     "output_type": "display_data"
    }
   ],
   "source": [
    "# best b = 15\n",
    "\n",
    "stats_k = [1, 3, 5, 7, 9]\n",
    "stats_result_IMED = []\n",
    "\n",
    "for k in stats_k:\n",
    "    predictor = MatrixBasedKNearestNeighbor(k)\n",
    "    predictor = predictor.init_G(G_1p01)\n",
    "    %time stats_result_IMED.append(my_cross_validation(predictor.ST_batch(binarize_batch(X_train[:5000].copy(), 15)), y_train[:5000], predictor, \"IMED\", q_fold = 10, r_fold = 10))\n",
    "\n",
    "print \"IMED \" + str(stats_result_IMED)\n",
    "\n",
    "from matplotlib import pyplot\n",
    "\n",
    "f, ax = plt.subplots()\n",
    "ax.set_xlabel(\"k\")\n",
    "ax.plot(stats_k, stats_result_IMED)"
   ]
  },
  {
   "cell_type": "markdown",
   "metadata": {},
   "source": [
    "### Perfect result! About 95.9% based on a quarter of the set!"
   ]
  },
  {
   "cell_type": "markdown",
   "metadata": {},
   "source": [
    "## KDTree stats plotting\n",
    "### Chebyshev, Manhattan, Minkowski p=2 metrics"
   ]
  },
  {
   "cell_type": "code",
   "execution_count": 466,
   "metadata": {
    "collapsed": false
   },
   "outputs": [
    {
     "name": "stdout",
     "output_type": "stream",
     "text": [
      "Cheb [0.57200000000000006, 0.55000000000000004, 0.53600000000000003, 0.52600000000000002, 0.53400000000000003]\n",
      "Manh [0.85799999999999998, 0.80999999999999994, 0.82800000000000007, 0.80999999999999994, 0.77400000000000002]\n",
      "Mink [0.85199999999999998, 0.84600000000000009, 0.83399999999999996, 0.80999999999999994, 0.84199999999999997]\n"
     ]
    },
    {
     "data": {
      "text/plain": [
       "[<matplotlib.lines.Line2D at 0x7fcee8d2ff10>]"
      ]
     },
     "execution_count": 466,
     "metadata": {},
     "output_type": "execute_result"
    },
    {
     "data": {
      "image/png": "[encoded data removed]",
      "text/plain": [
       "<matplotlib.figure.Figure at 0x7fcee9bba210>"
      ]
     },
     "metadata": {},
     "output_type": "display_data"
    }
   ],
   "source": [
    "stats_k = [1, 3, 5, 7, 9]\n",
    "stats_result_Ch = []\n",
    "stats_result_Ma = []\n",
    "stats_result_Mi = []\n",
    "\n",
    "for k in stats_k:\n",
    "    predictor = KDBasedKNearestNeighbor(k)\n",
    "    stats_result_Ch.append(my_cross_validation(X_train[:500], y_train[:500], predictor, \"chebyshev\", q_fold = 10, r_fold = 10))\n",
    "    stats_result_Ma.append(my_cross_validation(X_train[:500], y_train[:500], predictor, \"manhattan\", q_fold = 10, r_fold = 10))\n",
    "    stats_result_Mi.append(my_cross_validation(X_train[:500], y_train[:500], predictor, \"minkowski\", q_fold = 10, r_fold = 10))\n",
    "\n",
    "print \"Cheb \" + str(stats_result_Ch)\n",
    "print \"Manh \" + str(stats_result_Ma)\n",
    "print \"Mink \" + str(stats_result_Mi)\n",
    "\n",
    "from matplotlib import pyplot\n",
    "\n",
    "f, axarr = plt.subplots(3, sharex=True)\n",
    "axarr[0].plot(stats_k, stats_result_Ch)\n",
    "axarr[1].plot(stats_k, stats_result_Ma)\n",
    "axarr[2].plot(stats_k, stats_result_Mi)"
   ]
  },
  {
   "cell_type": "code",
   "execution_count": 467,
   "metadata": {
    "collapsed": false
   },
   "outputs": [
    {
     "name": "stdout",
     "output_type": "stream",
     "text": [
      "Cheb [0.62899999999999989, 0.56900000000000006, 0.58099999999999996, 0.58000000000000007, 0.56100000000000005]\n",
      "Manh [0.87100000000000011, 0.8640000000000001, 0.85899999999999999, 0.84999999999999998, 0.85999999999999999]\n",
      "Mink [0.88000000000000012, 0.873, 0.8859999999999999, 0.87000000000000011, 0.84699999999999986]\n"
     ]
    },
    {
     "data": {
      "text/plain": [
       "[<matplotlib.lines.Line2D at 0x7fcee91704d0>]"
      ]
     },
     "execution_count": 467,
     "metadata": {},
     "output_type": "execute_result"
    },
    {
     "data": {
      "image/png": "[encoded data removed]",
      "text/plain": [
       "<matplotlib.figure.Figure at 0x7fcee9645210>"
      ]
     },
     "metadata": {},
     "output_type": "display_data"
    }
   ],
   "source": [
    "stats_k = [1, 3, 5, 7, 9]\n",
    "stats_result_Ch = []\n",
    "stats_result_Ma = []\n",
    "stats_result_Mi = []\n",
    "\n",
    "for k in stats_k:\n",
    "    predictor = KDBasedKNearestNeighbor(k)\n",
    "    stats_result_Ch.append(my_cross_validation(X_train[:1000], y_train[:1000], predictor, \"chebyshev\", q_fold = 10, r_fold = 10))\n",
    "    stats_result_Ma.append(my_cross_validation(X_train[:1000], y_train[:1000], predictor, \"manhattan\", q_fold = 10, r_fold = 10))\n",
    "    stats_result_Mi.append(my_cross_validation(X_train[:1000], y_train[:1000], predictor, \"minkowski\", q_fold = 10, r_fold = 10))\n",
    "\n",
    "print \"Cheb \" + str(stats_result_Ch)\n",
    "print \"Manh \" + str(stats_result_Ma)\n",
    "print \"Mink \" + str(stats_result_Mi)\n",
    "\n",
    "from matplotlib import pyplot\n",
    "\n",
    "f, axarr = plt.subplots(3, sharex=True)\n",
    "axarr[0].plot(stats_k, stats_result_Ch)\n",
    "axarr[1].plot(stats_k, stats_result_Ma)\n",
    "axarr[2].plot(stats_k, stats_result_Mi)"
   ]
  },
  {
   "cell_type": "code",
   "execution_count": 471,
   "metadata": {
    "collapsed": false
   },
   "outputs": [
    {
     "name": "stdout",
     "output_type": "stream",
     "text": [
      "Cheb [0.69560000000000011, 0.66300000000000003, 0.66720000000000002, 0.6734, 0.6704]\n",
      "Manh [0.93740000000000001, 0.92400000000000015, 0.93060000000000009, 0.92840000000000011, 0.92160000000000009]\n",
      "Mink [0.94179999999999997, 0.93600000000000017, 0.93219999999999992, 0.9353999999999999, 0.93379999999999996]\n"
     ]
    },
    {
     "data": {
      "text/plain": [
       "[<matplotlib.lines.Line2D at 0x7fcee90fad10>]"
      ]
     },
     "execution_count": 471,
     "metadata": {},
     "output_type": "execute_result"
    },
    {
     "data": {
      "image/png": "[encoded data removed]",
      "text/plain": [
       "<matplotlib.figure.Figure at 0x7fcee9bddf10>"
      ]
     },
     "metadata": {},
     "output_type": "display_data"
    }
   ],
   "source": [
    "stats_k = [1, 3, 5, 7, 9]\n",
    "stats_result_Ch = []\n",
    "stats_result_Ma = []\n",
    "stats_result_Mi = []\n",
    "\n",
    "for k in stats_k:\n",
    "    predictor = KDBasedKNearestNeighbor(k)\n",
    "    stats_result_Ch.append(my_cross_validation(X_train[:5000], y_train[:5000], predictor, \"chebyshev\", q_fold = 10, r_fold = 10))\n",
    "    stats_result_Ma.append(my_cross_validation(X_train[:5000], y_train[:5000], predictor, \"manhattan\", q_fold = 10, r_fold = 10))\n",
    "    stats_result_Mi.append(my_cross_validation(X_train[:5000], y_train[:5000], predictor, \"minkowski\", q_fold = 10, r_fold = 10))\n",
    "\n",
    "print \"Cheb \" + str(stats_result_Ch)\n",
    "print \"Manh \" + str(stats_result_Ma)\n",
    "print \"Mink \" + str(stats_result_Mi)\n",
    "\n",
    "from matplotlib import pyplot\n",
    "\n",
    "f, axarr = plt.subplots(3, sharex=True)\n",
    "axarr[0].plot(stats_k, stats_result_Ch)\n",
    "axarr[1].plot(stats_k, stats_result_Ma)\n",
    "axarr[2].plot(stats_k, stats_result_Mi)"
   ]
  },
  {
   "cell_type": "code",
   "execution_count": null,
   "metadata": {
    "collapsed": false
   },
   "outputs": [],
   "source": [
    "stats_k = [1, 3, 5, 7, 9]\n",
    "stats_result_Ch = []\n",
    "stats_result_Ma = []\n",
    "stats_result_Mi = []\n",
    "\n",
    "for k in stats_k:\n",
    "    predictor = KDBasedKNearestNeighbor(k)\n",
    "    stats_result_Ch.append(my_cross_validation(X_train, y_train, predictor, \"chebyshev\", q_fold = 10, r_fold = 10))\n",
    "    stats_result_Ma.append(my_cross_validation(X_train, y_train, predictor, \"manhattan\", q_fold = 10, r_fold = 10))\n",
    "    stats_result_Mi.append(my_cross_validation(X_train, y_train, predictor, \"minkowski\", q_fold = 10, r_fold = 10))\n",
    "\n",
    "print \"Cheb \" + str(stats_result_Ch)\n",
    "print \"Manh \" + str(stats_result_Ma)\n",
    "print \"Mink \" + str(stats_result_Mi)\n",
    "\n",
    "from matplotlib import pyplot\n",
    "\n",
    "f, axarr = plt.subplots(3, sharex=True)\n",
    "axarr[0].plot(stats_k, stats_result_Ch)\n",
    "axarr[1].plot(stats_k, stats_result_Ma)\n",
    "axarr[2].plot(stats_k, stats_result_Mi)\n"
   ]
  },
  {
   "cell_type": "code",
   "execution_count": 469,
   "metadata": {
    "collapsed": false
   },
   "outputs": [
    {
     "name": "stdout",
     "output_type": "stream",
     "text": [
      "CPU times: user 0 ns, sys: 0 ns, total: 0 ns\n",
      "Wall time: 6.91 µs\n",
      "CPU times: user 0 ns, sys: 0 ns, total: 0 ns\n",
      "Wall time: 9.06 µs\n",
      "CPU times: user 0 ns, sys: 0 ns, total: 0 ns\n",
      "Wall time: 6.91 µs\n",
      "CPU times: user 0 ns, sys: 0 ns, total: 0 ns\n",
      "Wall time: 5.96 µs\n",
      "CPU times: user 0 ns, sys: 0 ns, total: 0 ns\n",
      "Wall time: 5.96 µs\n",
      "bin [[0.8899999999999999, 0.88400000000000001, 0.89600000000000013, 0.8879999999999999, 0.8640000000000001, 0.876, 0.87200000000000011, 0.85999999999999999], [0.88400000000000001, 0.8640000000000001, 0.86199999999999988, 0.84199999999999997, 0.874, 0.84199999999999997, 0.83599999999999997, 0.83399999999999996], [0.86999999999999988, 0.84600000000000009, 0.84999999999999998, 0.84999999999999998, 0.80999999999999994, 0.83800000000000008, 0.80200000000000016, 0.81600000000000006], [0.84399999999999997, 0.85600000000000009, 0.83399999999999996, 0.81400000000000006, 0.82599999999999996, 0.81400000000000006, 0.80399999999999994, 0.82599999999999996], [0.85599999999999987, 0.84999999999999998, 0.81400000000000006, 0.82400000000000007, 0.79399999999999993, 0.80000000000000004, 0.76400000000000001, 0.79600000000000004]]\n"
     ]
    },
    {
     "data": {
      "image/png": "[encoded data removed]",
      "text/plain": [
       "<matplotlib.figure.Figure at 0x7fcee982f890>"
      ]
     },
     "metadata": {},
     "output_type": "display_data"
    }
   ],
   "source": [
    "# let's binarize! -- 15 topping\n",
    "\n",
    "stats_k = [1, 3, 5, 7, 9]\n",
    "borders = [0, 10, 15, 20, 50, 80, 100, 120]\n",
    "stats_result_bin = []\n",
    "\n",
    "for k in stats_k:\n",
    "    this_result = []\n",
    "    predictor = KDBasedKNearestNeighbor(k)\n",
    "    \n",
    "    for b in borders:            \n",
    "        this_result.append(my_cross_validation(binarize_batch(X_train[:500].copy(), b), y_train[:500], predictor, \"minkowski\", q_fold = 10, r_fold = 10))\n",
    "    %time stats_result_bin.append(this_result)\n",
    "\n",
    "print \"bin \" + str(stats_result_bin)\n",
    "\n",
    "from matplotlib import pyplot\n",
    "\n",
    "plt.imshow(stats_result_bin,\n",
    "           interpolation=\"nearest\", cmap = \"Blues\")\n",
    "plt.show()\n"
   ]
  },
  {
   "cell_type": "code",
   "execution_count": 470,
   "metadata": {
    "collapsed": false
   },
   "outputs": [
    {
     "name": "stdout",
     "output_type": "stream",
     "text": [
      "[   [   0.8899999999999999,\n",
      "        0.88400000000000001,\n",
      "        0.89600000000000013,\n",
      "        0.8879999999999999,\n",
      "        0.8640000000000001,\n",
      "        0.876,\n",
      "        0.87200000000000011,\n",
      "        0.85999999999999999],\n",
      "    [   0.88400000000000001,\n",
      "        0.8640000000000001,\n",
      "        0.86199999999999988,\n",
      "        0.84199999999999997,\n",
      "        0.874,\n",
      "        0.84199999999999997,\n",
      "        0.83599999999999997,\n",
      "        0.83399999999999996],\n",
      "    [   0.86999999999999988,\n",
      "        0.84600000000000009,\n",
      "        0.84999999999999998,\n",
      "        0.84999999999999998,\n",
      "        0.80999999999999994,\n",
      "        0.83800000000000008,\n",
      "        0.80200000000000016,\n",
      "        0.81600000000000006],\n",
      "    [   0.84399999999999997,\n",
      "        0.85600000000000009,\n",
      "        0.83399999999999996,\n",
      "        0.81400000000000006,\n",
      "        0.82599999999999996,\n",
      "        0.81400000000000006,\n",
      "        0.80399999999999994,\n",
      "        0.82599999999999996],\n",
      "    [   0.85599999999999987,\n",
      "        0.84999999999999998,\n",
      "        0.81400000000000006,\n",
      "        0.82400000000000007,\n",
      "        0.79399999999999993,\n",
      "        0.80000000000000004,\n",
      "        0.76400000000000001,\n",
      "        0.79600000000000004]]\n"
     ]
    },
    {
     "data": {
      "image/png": "[encoded data removed]",
      "text/plain": [
       "<matplotlib.figure.Figure at 0x7fcee91fcdd0>"
      ]
     },
     "metadata": {},
     "output_type": "display_data"
    }
   ],
   "source": [
    "import pprint\n",
    "\n",
    "pp = pprint.PrettyPrinter(indent=4)\n",
    "\n",
    "pp.pprint(stats_result_bin)\n",
    "\n",
    "from matplotlib import pyplot\n",
    "\n",
    "plt.imshow(stats_result_bin,\n",
    "           interpolation=\"nearest\", cmap = \"Blues\")\n",
    "plt.show()"
   ]
  },
  {
   "cell_type": "markdown",
   "metadata": {
    "collapsed": true
   },
   "source": [
    "## As long as IMED does realy good, here are the final tests of IMED on the whole dataset"
   ]
  },
  {
   "cell_type": "code",
   "execution_count": 493,
   "metadata": {
    "collapsed": false
   },
   "outputs": [
    {
     "name": "stdout",
     "output_type": "stream",
     "text": [
      "CPU times: user 57min 16s, sys: 4.92 s, total: 57min 21s\n",
      "Wall time: 57min 21s\n"
     ]
    }
   ],
   "source": [
    "predictor = MatrixBasedKNearestNeighbor(k=1)\n",
    "predictor = predictor.init_G(G_1p01)\n",
    "%time final_result = my_cross_validation(predictor.ST_batch(binarize_batch(X_train.copy(), 15)), y_train, predictor, \"IMED\", q_fold = 10, r_fold = 10)"
   ]
  },
  {
   "cell_type": "code",
   "execution_count": 264,
   "metadata": {
    "collapsed": false
   },
   "outputs": [
    {
     "name": "stdout",
     "output_type": "stream",
     "text": [
      "0.967166666667\n"
     ]
    }
   ],
   "source": [
    "print(final_result)"
   ]
  },
  {
   "cell_type": "markdown",
   "metadata": {},
   "source": [
    "# WOW that is WORTH it."
   ]
  },
  {
   "cell_type": "markdown",
   "metadata": {},
   "source": [
    "## Getting the final results"
   ]
  },
  {
   "cell_type": "code",
   "execution_count": 18,
   "metadata": {
    "collapsed": false
   },
   "outputs": [],
   "source": [
    "df = pandas.read_csv(\"kaggle_data/train.csv\")\n",
    "df_test = pandas.read_csv(\"kaggle_data/test.csv\")\n",
    "df_random = pandas.read_csv(\"kaggle_data/test_random_label.csv\")"
   ]
  },
  {
   "cell_type": "code",
   "execution_count": 19,
   "metadata": {
    "collapsed": false
   },
   "outputs": [
    {
     "data": {
      "text/html": [
       "<div>\n",
       "<table border=\"1\" class=\"dataframe\">\n",
       "  <thead>\n",
       "    <tr style=\"text-align: right;\">\n",
       "      <th></th>\n",
       "      <th>pixel0</th>\n",
       "      <th>pixel1</th>\n",
       "      <th>pixel2</th>\n",
       "      <th>pixel3</th>\n",
       "      <th>pixel4</th>\n",
       "      <th>pixel5</th>\n",
       "      <th>pixel6</th>\n",
       "      <th>pixel7</th>\n",
       "      <th>pixel8</th>\n",
       "      <th>pixel9</th>\n",
       "      <th>...</th>\n",
       "      <th>pixel774</th>\n",
       "      <th>pixel775</th>\n",
       "      <th>pixel776</th>\n",
       "      <th>pixel777</th>\n",
       "      <th>pixel778</th>\n",
       "      <th>pixel779</th>\n",
       "      <th>pixel780</th>\n",
       "      <th>pixel781</th>\n",
       "      <th>pixel782</th>\n",
       "      <th>pixel783</th>\n",
       "    </tr>\n",
       "  </thead>\n",
       "  <tbody>\n",
       "    <tr>\n",
       "      <th>0</th>\n",
       "      <td>0</td>\n",
       "      <td>0</td>\n",
       "      <td>0</td>\n",
       "      <td>0</td>\n",
       "      <td>0</td>\n",
       "      <td>0</td>\n",
       "      <td>0</td>\n",
       "      <td>0</td>\n",
       "      <td>0</td>\n",
       "      <td>0</td>\n",
       "      <td>...</td>\n",
       "      <td>0</td>\n",
       "      <td>0</td>\n",
       "      <td>0</td>\n",
       "      <td>0</td>\n",
       "      <td>0</td>\n",
       "      <td>0</td>\n",
       "      <td>0</td>\n",
       "      <td>0</td>\n",
       "      <td>0</td>\n",
       "      <td>0</td>\n",
       "    </tr>\n",
       "    <tr>\n",
       "      <th>1</th>\n",
       "      <td>0</td>\n",
       "      <td>0</td>\n",
       "      <td>0</td>\n",
       "      <td>0</td>\n",
       "      <td>0</td>\n",
       "      <td>0</td>\n",
       "      <td>0</td>\n",
       "      <td>0</td>\n",
       "      <td>0</td>\n",
       "      <td>0</td>\n",
       "      <td>...</td>\n",
       "      <td>0</td>\n",
       "      <td>0</td>\n",
       "      <td>0</td>\n",
       "      <td>0</td>\n",
       "      <td>0</td>\n",
       "      <td>0</td>\n",
       "      <td>0</td>\n",
       "      <td>0</td>\n",
       "      <td>0</td>\n",
       "      <td>0</td>\n",
       "    </tr>\n",
       "    <tr>\n",
       "      <th>2</th>\n",
       "      <td>0</td>\n",
       "      <td>0</td>\n",
       "      <td>0</td>\n",
       "      <td>0</td>\n",
       "      <td>0</td>\n",
       "      <td>0</td>\n",
       "      <td>0</td>\n",
       "      <td>0</td>\n",
       "      <td>0</td>\n",
       "      <td>0</td>\n",
       "      <td>...</td>\n",
       "      <td>0</td>\n",
       "      <td>0</td>\n",
       "      <td>0</td>\n",
       "      <td>0</td>\n",
       "      <td>0</td>\n",
       "      <td>0</td>\n",
       "      <td>0</td>\n",
       "      <td>0</td>\n",
       "      <td>0</td>\n",
       "      <td>0</td>\n",
       "    </tr>\n",
       "    <tr>\n",
       "      <th>3</th>\n",
       "      <td>0</td>\n",
       "      <td>0</td>\n",
       "      <td>0</td>\n",
       "      <td>0</td>\n",
       "      <td>0</td>\n",
       "      <td>0</td>\n",
       "      <td>0</td>\n",
       "      <td>0</td>\n",
       "      <td>0</td>\n",
       "      <td>0</td>\n",
       "      <td>...</td>\n",
       "      <td>0</td>\n",
       "      <td>0</td>\n",
       "      <td>0</td>\n",
       "      <td>0</td>\n",
       "      <td>0</td>\n",
       "      <td>0</td>\n",
       "      <td>0</td>\n",
       "      <td>0</td>\n",
       "      <td>0</td>\n",
       "      <td>0</td>\n",
       "    </tr>\n",
       "    <tr>\n",
       "      <th>4</th>\n",
       "      <td>0</td>\n",
       "      <td>0</td>\n",
       "      <td>0</td>\n",
       "      <td>0</td>\n",
       "      <td>0</td>\n",
       "      <td>0</td>\n",
       "      <td>0</td>\n",
       "      <td>0</td>\n",
       "      <td>0</td>\n",
       "      <td>0</td>\n",
       "      <td>...</td>\n",
       "      <td>0</td>\n",
       "      <td>0</td>\n",
       "      <td>0</td>\n",
       "      <td>0</td>\n",
       "      <td>0</td>\n",
       "      <td>0</td>\n",
       "      <td>0</td>\n",
       "      <td>0</td>\n",
       "      <td>0</td>\n",
       "      <td>0</td>\n",
       "    </tr>\n",
       "  </tbody>\n",
       "</table>\n",
       "<p>5 rows × 784 columns</p>\n",
       "</div>"
      ],
      "text/plain": [
       "   pixel0  pixel1  pixel2  pixel3  pixel4  pixel5  pixel6  pixel7  pixel8  \\\n",
       "0  0       0       0       0       0       0       0       0       0        \n",
       "1  0       0       0       0       0       0       0       0       0        \n",
       "2  0       0       0       0       0       0       0       0       0        \n",
       "3  0       0       0       0       0       0       0       0       0        \n",
       "4  0       0       0       0       0       0       0       0       0        \n",
       "\n",
       "   pixel9    ...     pixel774  pixel775  pixel776  pixel777  pixel778  \\\n",
       "0  0         ...     0         0         0         0         0          \n",
       "1  0         ...     0         0         0         0         0          \n",
       "2  0         ...     0         0         0         0         0          \n",
       "3  0         ...     0         0         0         0         0          \n",
       "4  0         ...     0         0         0         0         0          \n",
       "\n",
       "   pixel779  pixel780  pixel781  pixel782  pixel783  \n",
       "0  0         0         0         0         0         \n",
       "1  0         0         0         0         0         \n",
       "2  0         0         0         0         0         \n",
       "3  0         0         0         0         0         \n",
       "4  0         0         0         0         0         \n",
       "\n",
       "[5 rows x 784 columns]"
      ]
     },
     "execution_count": 19,
     "metadata": {},
     "output_type": "execute_result"
    }
   ],
   "source": [
    "df_test.head()"
   ]
  },
  {
   "cell_type": "code",
   "execution_count": 20,
   "metadata": {
    "collapsed": false
   },
   "outputs": [
    {
     "data": {
      "text/html": [
       "<div>\n",
       "<table border=\"1\" class=\"dataframe\">\n",
       "  <thead>\n",
       "    <tr style=\"text-align: right;\">\n",
       "      <th></th>\n",
       "      <th>label</th>\n",
       "      <th>pixel0</th>\n",
       "      <th>pixel1</th>\n",
       "      <th>pixel2</th>\n",
       "      <th>pixel3</th>\n",
       "      <th>pixel4</th>\n",
       "      <th>pixel5</th>\n",
       "      <th>pixel6</th>\n",
       "      <th>pixel7</th>\n",
       "      <th>pixel8</th>\n",
       "      <th>...</th>\n",
       "      <th>pixel774</th>\n",
       "      <th>pixel775</th>\n",
       "      <th>pixel776</th>\n",
       "      <th>pixel777</th>\n",
       "      <th>pixel778</th>\n",
       "      <th>pixel779</th>\n",
       "      <th>pixel780</th>\n",
       "      <th>pixel781</th>\n",
       "      <th>pixel782</th>\n",
       "      <th>pixel783</th>\n",
       "    </tr>\n",
       "  </thead>\n",
       "  <tbody>\n",
       "    <tr>\n",
       "      <th>0</th>\n",
       "      <td>5</td>\n",
       "      <td>0</td>\n",
       "      <td>0</td>\n",
       "      <td>0</td>\n",
       "      <td>0</td>\n",
       "      <td>0</td>\n",
       "      <td>0</td>\n",
       "      <td>0</td>\n",
       "      <td>0</td>\n",
       "      <td>0</td>\n",
       "      <td>...</td>\n",
       "      <td>0</td>\n",
       "      <td>0</td>\n",
       "      <td>0</td>\n",
       "      <td>0</td>\n",
       "      <td>0</td>\n",
       "      <td>0</td>\n",
       "      <td>0</td>\n",
       "      <td>0</td>\n",
       "      <td>0</td>\n",
       "      <td>0</td>\n",
       "    </tr>\n",
       "    <tr>\n",
       "      <th>1</th>\n",
       "      <td>0</td>\n",
       "      <td>0</td>\n",
       "      <td>0</td>\n",
       "      <td>0</td>\n",
       "      <td>0</td>\n",
       "      <td>0</td>\n",
       "      <td>0</td>\n",
       "      <td>0</td>\n",
       "      <td>0</td>\n",
       "      <td>0</td>\n",
       "      <td>...</td>\n",
       "      <td>0</td>\n",
       "      <td>0</td>\n",
       "      <td>0</td>\n",
       "      <td>0</td>\n",
       "      <td>0</td>\n",
       "      <td>0</td>\n",
       "      <td>0</td>\n",
       "      <td>0</td>\n",
       "      <td>0</td>\n",
       "      <td>0</td>\n",
       "    </tr>\n",
       "    <tr>\n",
       "      <th>2</th>\n",
       "      <td>4</td>\n",
       "      <td>0</td>\n",
       "      <td>0</td>\n",
       "      <td>0</td>\n",
       "      <td>0</td>\n",
       "      <td>0</td>\n",
       "      <td>0</td>\n",
       "      <td>0</td>\n",
       "      <td>0</td>\n",
       "      <td>0</td>\n",
       "      <td>...</td>\n",
       "      <td>0</td>\n",
       "      <td>0</td>\n",
       "      <td>0</td>\n",
       "      <td>0</td>\n",
       "      <td>0</td>\n",
       "      <td>0</td>\n",
       "      <td>0</td>\n",
       "      <td>0</td>\n",
       "      <td>0</td>\n",
       "      <td>0</td>\n",
       "    </tr>\n",
       "    <tr>\n",
       "      <th>3</th>\n",
       "      <td>1</td>\n",
       "      <td>0</td>\n",
       "      <td>0</td>\n",
       "      <td>0</td>\n",
       "      <td>0</td>\n",
       "      <td>0</td>\n",
       "      <td>0</td>\n",
       "      <td>0</td>\n",
       "      <td>0</td>\n",
       "      <td>0</td>\n",
       "      <td>...</td>\n",
       "      <td>0</td>\n",
       "      <td>0</td>\n",
       "      <td>0</td>\n",
       "      <td>0</td>\n",
       "      <td>0</td>\n",
       "      <td>0</td>\n",
       "      <td>0</td>\n",
       "      <td>0</td>\n",
       "      <td>0</td>\n",
       "      <td>0</td>\n",
       "    </tr>\n",
       "    <tr>\n",
       "      <th>4</th>\n",
       "      <td>9</td>\n",
       "      <td>0</td>\n",
       "      <td>0</td>\n",
       "      <td>0</td>\n",
       "      <td>0</td>\n",
       "      <td>0</td>\n",
       "      <td>0</td>\n",
       "      <td>0</td>\n",
       "      <td>0</td>\n",
       "      <td>0</td>\n",
       "      <td>...</td>\n",
       "      <td>0</td>\n",
       "      <td>0</td>\n",
       "      <td>0</td>\n",
       "      <td>0</td>\n",
       "      <td>0</td>\n",
       "      <td>0</td>\n",
       "      <td>0</td>\n",
       "      <td>0</td>\n",
       "      <td>0</td>\n",
       "      <td>0</td>\n",
       "    </tr>\n",
       "  </tbody>\n",
       "</table>\n",
       "<p>5 rows × 785 columns</p>\n",
       "</div>"
      ],
      "text/plain": [
       "   label  pixel0  pixel1  pixel2  pixel3  pixel4  pixel5  pixel6  pixel7  \\\n",
       "0  5      0       0       0       0       0       0       0       0        \n",
       "1  0      0       0       0       0       0       0       0       0        \n",
       "2  4      0       0       0       0       0       0       0       0        \n",
       "3  1      0       0       0       0       0       0       0       0        \n",
       "4  9      0       0       0       0       0       0       0       0        \n",
       "\n",
       "   pixel8    ...     pixel774  pixel775  pixel776  pixel777  pixel778  \\\n",
       "0  0         ...     0         0         0         0         0          \n",
       "1  0         ...     0         0         0         0         0          \n",
       "2  0         ...     0         0         0         0         0          \n",
       "3  0         ...     0         0         0         0         0          \n",
       "4  0         ...     0         0         0         0         0          \n",
       "\n",
       "   pixel779  pixel780  pixel781  pixel782  pixel783  \n",
       "0  0         0         0         0         0         \n",
       "1  0         0         0         0         0         \n",
       "2  0         0         0         0         0         \n",
       "3  0         0         0         0         0         \n",
       "4  0         0         0         0         0         \n",
       "\n",
       "[5 rows x 785 columns]"
      ]
     },
     "execution_count": 20,
     "metadata": {},
     "output_type": "execute_result"
    }
   ],
   "source": [
    "df.head()"
   ]
  },
  {
   "cell_type": "code",
   "execution_count": 21,
   "metadata": {
    "collapsed": false
   },
   "outputs": [
    {
     "data": {
      "text/plain": [
       "0    9\n",
       "1    1\n",
       "2    2\n",
       "3    7\n",
       "4    4\n",
       "Name: label, dtype: int64"
      ]
     },
     "execution_count": 21,
     "metadata": {},
     "output_type": "execute_result"
    }
   ],
   "source": [
    "df_random[\"label\"].head()"
   ]
  },
  {
   "cell_type": "code",
   "execution_count": 24,
   "metadata": {
    "collapsed": false
   },
   "outputs": [],
   "source": [
    "X_train, y_train = df[df.columns[1:]].values, df[\"label\"].values\n",
    "X_test = df_test[df_test.columns].values\n",
    "y_random = df_random[df_random.columns].values"
   ]
  },
  {
   "cell_type": "code",
   "execution_count": 31,
   "metadata": {
    "collapsed": false
   },
   "outputs": [
    {
     "name": "stdout",
     "output_type": "stream",
     "text": [
      "CPU times: user 2min 57s, sys: 193 ms, total: 2min 58s\n",
      "Wall time: 2min 58s\n"
     ]
    }
   ],
   "source": [
    "\n",
    "G_1p01 = precalc_G(1.01) #0.61\n",
    "\n",
    "predictor = MatrixBasedKNearestNeighbor(k=1)\n",
    "predictor = predictor.init_G(G_1p01)\n",
    "%time predictor = predictor.fit(predictor.ST_batch(binarize_batch(X_train.copy(), 15)), y_train)\n"
   ]
  },
  {
   "cell_type": "code",
   "execution_count": 32,
   "metadata": {
    "collapsed": false
   },
   "outputs": [
    {
     "name": "stdout",
     "output_type": "stream",
     "text": [
      "CPU times: user 3.65 s, sys: 0 ns, total: 3.65 s\n",
      "Wall time: 3.65 s\n"
     ]
    }
   ],
   "source": [
    "predictor = predictor.calc_dist(predictor.ST_batch(binarize_batch(X_test.copy(), 15)), \"IMED\")\n",
    "%time y_final = predictor.predict_labels(X_test)"
   ]
  },
  {
   "cell_type": "code",
   "execution_count": 36,
   "metadata": {
    "collapsed": false
   },
   "outputs": [
    {
     "name": "stdout",
     "output_type": "stream",
     "text": [
      "[ 7.  2.  1.  0.  4.  1.  4.  9.  5.  9.  0.  6.  9.  0.  1.  5.  9.  7.\n",
      "  3.  4.]\n"
     ]
    }
   ],
   "source": [
    "print(y_final[0:20]) #looks good"
   ]
  },
  {
   "cell_type": "code",
   "execution_count": 34,
   "metadata": {
    "collapsed": false
   },
   "outputs": [
    {
     "data": {
      "image/png": "[encoded data removed]",
      "text/plain": [
       "<matplotlib.figure.Figure at 0x7f651cc34250>"
      ]
     },
     "metadata": {},
     "output_type": "display_data"
    }
   ],
   "source": [
    "plot_grid(X_test[0:20], 1, 20)"
   ]
  },
  {
   "cell_type": "markdown",
   "metadata": {},
   "source": [
    "### Let's do some checking"
   ]
  },
  {
   "cell_type": "markdown",
   "metadata": {},
   "source": [
    "#### Statistically"
   ]
  },
  {
   "cell_type": "code",
   "execution_count": 530,
   "metadata": {
    "collapsed": false
   },
   "outputs": [
    {
     "data": {
      "text/plain": [
       "(array([0, 1, 2, 3, 4, 5, 6, 7, 8]),\n",
       " array([297, 270, 277, 292, 276, 277, 283, 259, 269]))"
      ]
     },
     "execution_count": 530,
     "metadata": {},
     "output_type": "execute_result"
    }
   ],
   "source": [
    "# random_label, strange..\n",
    "\n",
    "y_test = y_random[:, 1]\n",
    "\n",
    "numpy.unique(y_test, return_counts = True)\n"
   ]
  },
  {
   "cell_type": "code",
   "execution_count": 499,
   "metadata": {
    "collapsed": false
   },
   "outputs": [
    {
     "name": "stdout",
     "output_type": "stream",
     "text": [
      "[0.0, 1.0, 2.0, 3.0, 4.0, 5.0, 6.0, 7.0, 8.0, 9.0]\n",
      "[222, 300, 265, 266, 259, 221, 229, 250, 227, 261]\n"
     ]
    }
   ],
   "source": [
    "# predicted\n",
    "\n",
    "from collections import Counter\n",
    "print(Counter(y_final).keys())\n",
    "print(Counter(y_final).values())"
   ]
  },
  {
   "cell_type": "markdown",
   "metadata": {},
   "source": [
    "#### Manually"
   ]
  },
  {
   "cell_type": "code",
   "execution_count": 41,
   "metadata": {
    "collapsed": false
   },
   "outputs": [
    {
     "name": "stdout",
     "output_type": "stream",
     "text": [
      "[ 3.  9.  6.  1.  1.  2.  9.  0.  4.  3.  8.  6.  9.  5.  9.  3.  7.  7.\n",
      "  7.  8.]\n"
     ]
    },
    {
     "data": {
      "image/png": "[encoded data removed]",
      "text/plain": [
       "<matplotlib.figure.Figure at 0x7f651ce5bdd0>"
      ]
     },
     "metadata": {},
     "output_type": "display_data"
    }
   ],
   "source": [
    "#quite good\n",
    "\n",
    "start = 1480\n",
    "\n",
    "print(y_final[start:start + 20])\n",
    "\n",
    "plot_grid(X_test[start:start + 20], 1, 20)"
   ]
  },
  {
   "cell_type": "markdown",
   "metadata": {},
   "source": [
    "### Looks good, time to submit. :)"
   ]
  },
  {
   "cell_type": "markdown",
   "metadata": {},
   "source": [
    "### Result output"
   ]
  },
  {
   "cell_type": "code",
   "execution_count": 38,
   "metadata": {
    "collapsed": false,
    "scrolled": true
   },
   "outputs": [],
   "source": [
    "for val in y_final:\n",
    "    open(\"prediction.txt\", \"a\").write(str(int(val)) + '\\n')"
   ]
  },
  {
   "cell_type": "markdown",
   "metadata": {},
   "source": [
    "## Extra: Official kaggle results -- not yet submitted"
   ]
  },
  {
   "cell_type": "code",
   "execution_count": 2,
   "metadata": {
    "collapsed": true
   },
   "outputs": [],
   "source": [
    "kaggle_df = pandas.read_csv(\"kaggle_data/4real/train.csv\")\n",
    "kaggle_df_test = pandas.read_csv(\"kaggle_data/4real/test.csv\")"
   ]
  },
  {
   "cell_type": "code",
   "execution_count": 3,
   "metadata": {
    "collapsed": true
   },
   "outputs": [],
   "source": [
    "X_traink, y_traink = kaggle_df[kaggle_df.columns[1:]].values, kaggle_df[\"label\"].values\n",
    "X_testk = kaggle_df_test[kaggle_df_test.columns].values"
   ]
  },
  {
   "cell_type": "code",
   "execution_count": 21,
   "metadata": {
    "collapsed": false
   },
   "outputs": [
    {
     "name": "stdout",
     "output_type": "stream",
     "text": [
      "CPU times: user 5min 30s, sys: 580 ms, total: 5min 30s\n",
      "Wall time: 5min 30s\n"
     ]
    }
   ],
   "source": [
    "predictork = MatrixBasedKNearestNeighbor(k=1)\n",
    "predictork = predictork.init_G(G_1p01)\n",
    "%time predictork = predictork.fit(predictork.ST_batch(binarize_batch(X_traink.copy(), 15)), y_traink)\n"
   ]
  },
  {
   "cell_type": "code",
   "execution_count": 31,
   "metadata": {
    "collapsed": false
   },
   "outputs": [
    {
     "name": "stdout",
     "output_type": "stream",
     "text": [
      "(28000, 784)\n"
     ]
    }
   ],
   "source": [
    "print(X_testk.shape)"
   ]
  },
  {
   "cell_type": "code",
   "execution_count": 22,
   "metadata": {
    "collapsed": false
   },
   "outputs": [
    {
     "name": "stdout",
     "output_type": "stream",
     "text": [
      "CPU times: user 3.4 s, sys: 0 ns, total: 3.4 s\n",
      "Wall time: 3.41 s\n"
     ]
    }
   ],
   "source": [
    "predictork = predictork.calc_dist(predictork.ST_batch(binarize_batch(X_testk[:1000].copy(), 15)), \"IMED\")\n",
    "%time y_finalk1 = predictork.predict_labels(X_testk[:1000])"
   ]
  },
  {
   "cell_type": "code",
   "execution_count": 24,
   "metadata": {
    "collapsed": false
   },
   "outputs": [
    {
     "name": "stdout",
     "output_type": "stream",
     "text": [
      "[ 2.  0.  9.  0.  3.  7.  0.  3.  0.  3.  5.  7.  4.  0.  4.  5.  3.  1.\n",
      "  9.  0.]\n"
     ]
    }
   ],
   "source": [
    "print(y_finalk1[0:20])"
   ]
  },
  {
   "cell_type": "code",
   "execution_count": 29,
   "metadata": {
    "collapsed": false
   },
   "outputs": [
    {
     "data": {
      "image/png": "[encoded data removed]",
      "text/plain": [
       "<matplotlib.figure.Figure at 0x7f68ff352d90>"
      ]
     },
     "metadata": {},
     "output_type": "display_data"
    }
   ],
   "source": [
    "plot_grid(X_testk[900:920], 1, 20)"
   ]
  },
  {
   "cell_type": "code",
   "execution_count": 28,
   "metadata": {
    "collapsed": false
   },
   "outputs": [],
   "source": [
    "for index in range(len(y_finalk1)):\n",
    "    open(\"predictionkaggle33.csv\", \"a\").write(str(index) + \", \" + str(int(y_finalk1[index])) + '\\n')"
   ]
  },
  {
   "cell_type": "code",
   "execution_count": 9,
   "metadata": {
    "collapsed": false
   },
   "outputs": [
    {
     "data": {
      "text/plain": [
       "array([ 9.,  2.,  3., ...,  0.,  3.,  9.])"
      ]
     },
     "execution_count": 9,
     "metadata": {},
     "output_type": "execute_result"
    }
   ],
   "source": [
    "f = open(\"predictionkaggle.txt\", \"r\")\n",
    "numpy.loadtxt(f)"
   ]
  },
  {
   "cell_type": "code",
   "execution_count": null,
   "metadata": {
    "collapsed": true
   },
   "outputs": [],
   "source": []
  }
 ],
 "metadata": {
  "kernelspec": {
   "display_name": "Python 2",
   "language": "python",
   "name": "python2"
  },
  "language_info": {
   "codemirror_mode": {
    "name": "ipython",
    "version": 2
   },
   "file_extension": ".py",
   "mimetype": "text/x-python",
   "name": "python",
   "nbconvert_exporter": "python",
   "pygments_lexer": "ipython2",
   "version": "2.7.11"
  }
 },
 "nbformat": 4,
 "nbformat_minor": 0
}
