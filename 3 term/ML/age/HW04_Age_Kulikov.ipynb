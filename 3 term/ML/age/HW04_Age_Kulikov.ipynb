{
 "cells": [
  {
   "cell_type": "markdown",
   "metadata": {},
   "source": [
    "# Linear Regression + k-means -- Age prediction\n",
    "## Kulikov Alex, gr. 397"
   ]
  },
  {
   "cell_type": "code",
   "execution_count": 2,
   "metadata": {
    "collapsed": false
   },
   "outputs": [
    {
     "name": "stdout",
     "output_type": "stream",
     "text": [
      "Populating the interactive namespace from numpy and matplotlib\n"
     ]
    },
    {
     "data": {
      "text/html": [
       "<style>.container { width:90% !important; }</style>"
      ],
      "text/plain": [
       "<IPython.core.display.HTML object>"
      ]
     },
     "execution_count": 2,
     "metadata": {},
     "output_type": "execute_result"
    }
   ],
   "source": [
    "import numpy as np\n",
    "import pandas as pd\n",
    "from sklearn.linear_model import LinearRegression\n",
    "from sklearn.cross_validation import cross_val_score\n",
    "from sklearn.feature_extraction.text import HashingVectorizer\n",
    "\n",
    "%pylab inline\n",
    "%load_ext autoreload\n",
    "%autoreload 2\n",
    "\n",
    "from IPython.core.display import HTML\n",
    "HTML(\"<style>.container { width:90% !important; }</style>\")"
   ]
  },
  {
   "cell_type": "markdown",
   "metadata": {},
   "source": [
    "## Data analysis"
   ]
  },
  {
   "cell_type": "markdown",
   "metadata": {},
   "source": [
    "### age"
   ]
  },
  {
   "cell_type": "code",
   "execution_count": 35,
   "metadata": {
    "collapsed": false
   },
   "outputs": [],
   "source": [
    "age_train_df = pd.read_csv('kaggle_data/age_profile_train', header=None, delimiter='\\t')\n",
    "age_train_df.columns = ['id', 'age']"
   ]
  },
  {
   "cell_type": "code",
   "execution_count": 36,
   "metadata": {
    "collapsed": false
   },
   "outputs": [
    {
     "data": {
      "text/html": [
       "<div>\n",
       "<table border=\"1\" class=\"dataframe\">\n",
       "  <thead>\n",
       "    <tr style=\"text-align: right;\">\n",
       "      <th></th>\n",
       "      <th>id</th>\n",
       "      <th>age</th>\n",
       "    </tr>\n",
       "  </thead>\n",
       "  <tbody>\n",
       "    <tr>\n",
       "      <th>0</th>\n",
       "      <td>000000013CB5719C0000A2C90002C101</td>\n",
       "      <td>53</td>\n",
       "    </tr>\n",
       "    <tr>\n",
       "      <th>1</th>\n",
       "      <td>00000001442BE24000001B7D00F50801</td>\n",
       "      <td>48</td>\n",
       "    </tr>\n",
       "    <tr>\n",
       "      <th>2</th>\n",
       "      <td>00000001448580F800003F1B31FB0901</td>\n",
       "      <td>28</td>\n",
       "    </tr>\n",
       "    <tr>\n",
       "      <th>3</th>\n",
       "      <td>0000000145BDB2FF000157971645E901</td>\n",
       "      <td>44</td>\n",
       "    </tr>\n",
       "    <tr>\n",
       "      <th>4</th>\n",
       "      <td>000000014602771F0000DB9359714C01</td>\n",
       "      <td>48</td>\n",
       "    </tr>\n",
       "  </tbody>\n",
       "</table>\n",
       "</div>"
      ],
      "text/plain": [
       "                                 id  age\n",
       "0  000000013CB5719C0000A2C90002C101   53\n",
       "1  00000001442BE24000001B7D00F50801   48\n",
       "2  00000001448580F800003F1B31FB0901   28\n",
       "3  0000000145BDB2FF000157971645E901   44\n",
       "4  000000014602771F0000DB9359714C01   48"
      ]
     },
     "execution_count": 36,
     "metadata": {},
     "output_type": "execute_result"
    }
   ],
   "source": [
    "age_train_df.head()"
   ]
  },
  {
   "cell_type": "code",
   "execution_count": 37,
   "metadata": {
    "collapsed": false
   },
   "outputs": [
    {
     "data": {
      "text/plain": [
       "array([[<matplotlib.axes._subplots.AxesSubplot object at 0x7f42916b0f50>]], dtype=object)"
      ]
     },
     "execution_count": 37,
     "metadata": {},
     "output_type": "execute_result"
    },
    {
     "data": {
      "image/png": "[encoded data removed]",
      "text/plain": [
       "<matplotlib.figure.Figure at 0x7f429bdd6050>"
      ]
     },
     "metadata": {},
     "output_type": "display_data"
    }
   ],
   "source": [
    "age_train_df.hist(column=\"age\", bins=100)"
   ]
  },
  {
   "cell_type": "markdown",
   "metadata": {},
   "source": [
    "### urls"
   ]
  },
  {
   "cell_type": "code",
   "execution_count": 38,
   "metadata": {
    "collapsed": true
   },
   "outputs": [],
   "source": [
    "urls_train_df = pd.read_csv('kaggle_data/url_domain_train', header=None, delimiter='\\t')\n",
    "urls_train_df.columns = ['id', 'url', 'count']"
   ]
  },
  {
   "cell_type": "code",
   "execution_count": 39,
   "metadata": {
    "collapsed": false
   },
   "outputs": [
    {
     "data": {
      "text/html": [
       "<div>\n",
       "<table border=\"1\" class=\"dataframe\">\n",
       "  <thead>\n",
       "    <tr style=\"text-align: right;\">\n",
       "      <th></th>\n",
       "      <th>id</th>\n",
       "      <th>url</th>\n",
       "      <th>count</th>\n",
       "    </tr>\n",
       "  </thead>\n",
       "  <tbody>\n",
       "    <tr>\n",
       "      <th>0</th>\n",
       "      <td>000000014B60815F65B38258011B6C01</td>\n",
       "      <td>login.rutracker.org</td>\n",
       "      <td>1</td>\n",
       "    </tr>\n",
       "    <tr>\n",
       "      <th>1</th>\n",
       "      <td>000000014B60815F65B38258011B6C01</td>\n",
       "      <td>rutracker.org</td>\n",
       "      <td>4</td>\n",
       "    </tr>\n",
       "    <tr>\n",
       "      <th>2</th>\n",
       "      <td>000000014C03DA2A47AC433A0C755201</td>\n",
       "      <td>admin.tour-spb.net</td>\n",
       "      <td>1</td>\n",
       "    </tr>\n",
       "    <tr>\n",
       "      <th>3</th>\n",
       "      <td>000000014C03DA2A47AC433A0C755201</td>\n",
       "      <td>czinfo.ru</td>\n",
       "      <td>1</td>\n",
       "    </tr>\n",
       "    <tr>\n",
       "      <th>4</th>\n",
       "      <td>000000014C03DA2A47AC433A0C755201</td>\n",
       "      <td>forumsostav.ru</td>\n",
       "      <td>1</td>\n",
       "    </tr>\n",
       "  </tbody>\n",
       "</table>\n",
       "</div>"
      ],
      "text/plain": [
       "                                 id                  url  count\n",
       "0  000000014B60815F65B38258011B6C01  login.rutracker.org      1\n",
       "1  000000014B60815F65B38258011B6C01        rutracker.org      4\n",
       "2  000000014C03DA2A47AC433A0C755201   admin.tour-spb.net      1\n",
       "3  000000014C03DA2A47AC433A0C755201            czinfo.ru      1\n",
       "4  000000014C03DA2A47AC433A0C755201       forumsostav.ru      1"
      ]
     },
     "execution_count": 39,
     "metadata": {},
     "output_type": "execute_result"
    }
   ],
   "source": [
    "urls_train_df.head()"
   ]
  },
  {
   "cell_type": "code",
   "execution_count": 40,
   "metadata": {
    "collapsed": false
   },
   "outputs": [
    {
     "data": {
      "text/plain": [
       "array([[<matplotlib.axes._subplots.AxesSubplot object at 0x7f4290c75fd0>]], dtype=object)"
      ]
     },
     "execution_count": 40,
     "metadata": {},
     "output_type": "execute_result"
    },
    {
     "data": {
      "image/png": "[encoded data removed]",
      "text/plain": [
       "<matplotlib.figure.Figure at 0x7f42916c5510>"
      ]
     },
     "metadata": {},
     "output_type": "display_data"
    }
   ],
   "source": [
    "urls_train_df.hist(column=\"count\", bins=30)"
   ]
  },
  {
   "cell_type": "markdown",
   "metadata": {},
   "source": [
    "#### For this time, we omit the \"count\" column"
   ]
  },
  {
   "cell_type": "code",
   "execution_count": 41,
   "metadata": {
    "collapsed": false
   },
   "outputs": [],
   "source": [
    "urls_train_df = pd.DataFrame(urls_train_df.groupby('id')['url'].apply(lambda x: x.tolist()))\n",
    "urls_train_df['id'] = urls_train_df.index\n",
    "urls_train_df.index = range(len(urls_train_df))\n",
    "urls_train_df.columns = ['urls', 'id']"
   ]
  },
  {
   "cell_type": "code",
   "execution_count": 42,
   "metadata": {
    "collapsed": false
   },
   "outputs": [
    {
     "data": {
      "text/html": [
       "<div>\n",
       "<table border=\"1\" class=\"dataframe\">\n",
       "  <thead>\n",
       "    <tr style=\"text-align: right;\">\n",
       "      <th></th>\n",
       "      <th>urls</th>\n",
       "      <th>id</th>\n",
       "    </tr>\n",
       "  </thead>\n",
       "  <tbody>\n",
       "    <tr>\n",
       "      <th>0</th>\n",
       "      <td>[id.rambler.ru, mail.rambler.ru, r0.ru]</td>\n",
       "      <td>000000013CB5719C0000A2C90002C101</td>\n",
       "    </tr>\n",
       "    <tr>\n",
       "      <th>1</th>\n",
       "      <td>[1prime.ru, autorambler.ru, chellak.ru, docs.c...</td>\n",
       "      <td>00000001442BE24000001B7D00F50801</td>\n",
       "    </tr>\n",
       "    <tr>\n",
       "      <th>2</th>\n",
       "      <td>[bosch-korolev.ru]</td>\n",
       "      <td>00000001448580F800003F1B31FB0901</td>\n",
       "    </tr>\n",
       "    <tr>\n",
       "      <th>3</th>\n",
       "      <td>[aptekanizkihcen.ua, colady.ru, gorod.dp.ua, i...</td>\n",
       "      <td>0000000145BDB2FF000157971645E901</td>\n",
       "    </tr>\n",
       "    <tr>\n",
       "      <th>4</th>\n",
       "      <td>[astrorok.ru, diets.ru, edaplus.info, eshzdoro...</td>\n",
       "      <td>000000014602771F0000DB9359714C01</td>\n",
       "    </tr>\n",
       "  </tbody>\n",
       "</table>\n",
       "</div>"
      ],
      "text/plain": [
       "                                                urls  \\\n",
       "0            [id.rambler.ru, mail.rambler.ru, r0.ru]   \n",
       "1  [1prime.ru, autorambler.ru, chellak.ru, docs.c...   \n",
       "2                                 [bosch-korolev.ru]   \n",
       "3  [aptekanizkihcen.ua, colady.ru, gorod.dp.ua, i...   \n",
       "4  [astrorok.ru, diets.ru, edaplus.info, eshzdoro...   \n",
       "\n",
       "                                 id  \n",
       "0  000000013CB5719C0000A2C90002C101  \n",
       "1  00000001442BE24000001B7D00F50801  \n",
       "2  00000001448580F800003F1B31FB0901  \n",
       "3  0000000145BDB2FF000157971645E901  \n",
       "4  000000014602771F0000DB9359714C01  "
      ]
     },
     "execution_count": 42,
     "metadata": {},
     "output_type": "execute_result"
    }
   ],
   "source": [
    "urls_train_df.head()"
   ]
  },
  {
   "cell_type": "markdown",
   "metadata": {},
   "source": [
    "### titles"
   ]
  },
  {
   "cell_type": "code",
   "execution_count": 43,
   "metadata": {
    "collapsed": false
   },
   "outputs": [],
   "source": [
    "titles_train_df = pd.read_csv('kaggle_data/title_unify_train', header=None, delimiter='\\t')\n",
    "titles_train_df.columns = ['id', 'title', 'count']"
   ]
  },
  {
   "cell_type": "code",
   "execution_count": 44,
   "metadata": {
    "collapsed": false
   },
   "outputs": [
    {
     "data": {
      "text/html": [
       "<div>\n",
       "<table border=\"1\" class=\"dataframe\">\n",
       "  <thead>\n",
       "    <tr style=\"text-align: right;\">\n",
       "      <th></th>\n",
       "      <th>id</th>\n",
       "      <th>title</th>\n",
       "      <th>count</th>\n",
       "    </tr>\n",
       "  </thead>\n",
       "  <tbody>\n",
       "    <tr>\n",
       "      <th>0</th>\n",
       "      <td>000000014B6D41C13D777E8314725401</td>\n",
       "      <td>коляна лента прикол</td>\n",
       "      <td>1</td>\n",
       "    </tr>\n",
       "    <tr>\n",
       "      <th>1</th>\n",
       "      <td>0000000150707ACB8A82451C0307BC01</td>\n",
       "      <td>candi410 rambler ru входящая рамблер-почта</td>\n",
       "      <td>1</td>\n",
       "    </tr>\n",
       "    <tr>\n",
       "      <th>2</th>\n",
       "      <td>0000000150707ACB8A82451C0307BC01</td>\n",
       "      <td>cosmopolitan витамин волос для женщина журнал ...</td>\n",
       "      <td>1</td>\n",
       "    </tr>\n",
       "    <tr>\n",
       "      <th>3</th>\n",
       "      <td>0000000150707ACB8A82451C0307BC01</td>\n",
       "      <td>realbox бокс для интернет-магазин страница тов...</td>\n",
       "      <td>1</td>\n",
       "    </tr>\n",
       "    <tr>\n",
       "      <th>4</th>\n",
       "      <td>0000000150707ACB8A82451C0307BC01</td>\n",
       "      <td>realbox бокс для интернет-магазин товар экипир...</td>\n",
       "      <td>2</td>\n",
       "    </tr>\n",
       "  </tbody>\n",
       "</table>\n",
       "</div>"
      ],
      "text/plain": [
       "                                 id  \\\n",
       "0  000000014B6D41C13D777E8314725401   \n",
       "1  0000000150707ACB8A82451C0307BC01   \n",
       "2  0000000150707ACB8A82451C0307BC01   \n",
       "3  0000000150707ACB8A82451C0307BC01   \n",
       "4  0000000150707ACB8A82451C0307BC01   \n",
       "\n",
       "                                               title  count  \n",
       "0                                коляна лента прикол      1  \n",
       "1         candi410 rambler ru входящая рамблер-почта      1  \n",
       "2  cosmopolitan витамин волос для женщина журнал ...      1  \n",
       "3  realbox бокс для интернет-магазин страница тов...      1  \n",
       "4  realbox бокс для интернет-магазин товар экипир...      2  "
      ]
     },
     "execution_count": 44,
     "metadata": {},
     "output_type": "execute_result"
    }
   ],
   "source": [
    "titles_train_df.head()"
   ]
  },
  {
   "cell_type": "code",
   "execution_count": 45,
   "metadata": {
    "collapsed": false
   },
   "outputs": [
    {
     "data": {
      "text/plain": [
       "array([[<matplotlib.axes._subplots.AxesSubplot object at 0x7f4290c81d90>]], dtype=object)"
      ]
     },
     "execution_count": 45,
     "metadata": {},
     "output_type": "execute_result"
    },
    {
     "data": {
      "image/png": "[encoded data removed]",
      "text/plain": [
       "<matplotlib.figure.Figure at 0x7f426e1682d0>"
      ]
     },
     "metadata": {},
     "output_type": "display_data"
    }
   ],
   "source": [
    "titles_train_df.hist(column=\"count\", bins=30)"
   ]
  },
  {
   "cell_type": "markdown",
   "metadata": {},
   "source": [
    "#### Here too"
   ]
  },
  {
   "cell_type": "code",
   "execution_count": 46,
   "metadata": {
    "collapsed": false
   },
   "outputs": [],
   "source": [
    "titles_train_df = pd.DataFrame(titles_train_df.groupby('id')['title'].apply(lambda x: x.tolist()))\n",
    "titles_train_df['id'] = titles_train_df.index\n",
    "titles_train_df.index = range(len(titles_train_df))\n",
    "titles_train_df.columns = ['titles', 'id']"
   ]
  },
  {
   "cell_type": "code",
   "execution_count": 47,
   "metadata": {
    "collapsed": false
   },
   "outputs": [
    {
     "data": {
      "text/html": [
       "<div>\n",
       "<table border=\"1\" class=\"dataframe\">\n",
       "  <thead>\n",
       "    <tr style=\"text-align: right;\">\n",
       "      <th></th>\n",
       "      <th>titles</th>\n",
       "      <th>id</th>\n",
       "    </tr>\n",
       "  </thead>\n",
       "  <tbody>\n",
       "    <tr>\n",
       "      <th>0</th>\n",
       "      <td>[бесплатный надёжный почта рамблер электронный...</td>\n",
       "      <td>000000013CB5719C0000A2C90002C101</td>\n",
       "    </tr>\n",
       "    <tr>\n",
       "      <th>1</th>\n",
       "      <td>[24-х 34-х до договор неделя новость предложит...</td>\n",
       "      <td>00000001442BE24000001B7D00F50801</td>\n",
       "    </tr>\n",
       "    <tr>\n",
       "      <th>2</th>\n",
       "      <td>[авто бош контакт королёв сервис, авто бош кор...</td>\n",
       "      <td>00000001448580F800003F1B31FB0901</td>\n",
       "    </tr>\n",
       "    <tr>\n",
       "      <th>3</th>\n",
       "      <td>[ua втрать війни донбасі за на новини озвучить...</td>\n",
       "      <td>0000000145BDB2FF000157971645E901</td>\n",
       "    </tr>\n",
       "    <tr>\n",
       "      <th>4</th>\n",
       "      <td>[black walnut грецкий орех чёрный, inmoment ru...</td>\n",
       "      <td>000000014602771F0000DB9359714C01</td>\n",
       "    </tr>\n",
       "  </tbody>\n",
       "</table>\n",
       "</div>"
      ],
      "text/plain": [
       "                                              titles  \\\n",
       "0  [бесплатный надёжный почта рамблер электронный...   \n",
       "1  [24-х 34-х до договор неделя новость предложит...   \n",
       "2  [авто бош контакт королёв сервис, авто бош кор...   \n",
       "3  [ua втрать війни донбасі за на новини озвучить...   \n",
       "4  [black walnut грецкий орех чёрный, inmoment ru...   \n",
       "\n",
       "                                 id  \n",
       "0  000000013CB5719C0000A2C90002C101  \n",
       "1  00000001442BE24000001B7D00F50801  \n",
       "2  00000001448580F800003F1B31FB0901  \n",
       "3  0000000145BDB2FF000157971645E901  \n",
       "4  000000014602771F0000DB9359714C01  "
      ]
     },
     "execution_count": 47,
     "metadata": {},
     "output_type": "execute_result"
    }
   ],
   "source": [
    "titles_train_df.head()"
   ]
  },
  {
   "cell_type": "markdown",
   "metadata": {},
   "source": [
    "### merge it all!"
   ]
  },
  {
   "cell_type": "code",
   "execution_count": 48,
   "metadata": {
    "collapsed": false,
    "scrolled": false
   },
   "outputs": [],
   "source": [
    "# train_df = urls_train_df.merge(age_train_df, on='id', how='left') # to start, we'll consider only urls\n",
    "# train_df = titles_train_df.merge(age_train_df, on='id', how='left')\n",
    "train_df = urls_train_df.merge(titles_train_df.merge(age_train_df, on='id', how='inner'), on='id', how='inner')"
   ]
  },
  {
   "cell_type": "code",
   "execution_count": 49,
   "metadata": {
    "collapsed": false
   },
   "outputs": [
    {
     "data": {
      "text/html": [
       "<div>\n",
       "<table border=\"1\" class=\"dataframe\">\n",
       "  <thead>\n",
       "    <tr style=\"text-align: right;\">\n",
       "      <th></th>\n",
       "      <th>urls</th>\n",
       "      <th>id</th>\n",
       "      <th>titles</th>\n",
       "      <th>age</th>\n",
       "    </tr>\n",
       "  </thead>\n",
       "  <tbody>\n",
       "    <tr>\n",
       "      <th>0</th>\n",
       "      <td>[id.rambler.ru, mail.rambler.ru, r0.ru]</td>\n",
       "      <td>000000013CB5719C0000A2C90002C101</td>\n",
       "      <td>[бесплатный надёжный почта рамблер электронный...</td>\n",
       "      <td>53</td>\n",
       "    </tr>\n",
       "    <tr>\n",
       "      <th>1</th>\n",
       "      <td>[1prime.ru, autorambler.ru, chellak.ru, docs.c...</td>\n",
       "      <td>00000001442BE24000001B7D00F50801</td>\n",
       "      <td>[24-х 34-х до договор неделя новость предложит...</td>\n",
       "      <td>48</td>\n",
       "    </tr>\n",
       "    <tr>\n",
       "      <th>2</th>\n",
       "      <td>[bosch-korolev.ru]</td>\n",
       "      <td>00000001448580F800003F1B31FB0901</td>\n",
       "      <td>[авто бош контакт королёв сервис, авто бош кор...</td>\n",
       "      <td>28</td>\n",
       "    </tr>\n",
       "    <tr>\n",
       "      <th>3</th>\n",
       "      <td>[aptekanizkihcen.ua, colady.ru, gorod.dp.ua, i...</td>\n",
       "      <td>0000000145BDB2FF000157971645E901</td>\n",
       "      <td>[ua втрать війни донбасі за на новини озвучить...</td>\n",
       "      <td>44</td>\n",
       "    </tr>\n",
       "    <tr>\n",
       "      <th>4</th>\n",
       "      <td>[astrorok.ru, diets.ru, edaplus.info, eshzdoro...</td>\n",
       "      <td>000000014602771F0000DB9359714C01</td>\n",
       "      <td>[black walnut грецкий орех чёрный, inmoment ru...</td>\n",
       "      <td>48</td>\n",
       "    </tr>\n",
       "  </tbody>\n",
       "</table>\n",
       "</div>"
      ],
      "text/plain": [
       "                                                urls  \\\n",
       "0            [id.rambler.ru, mail.rambler.ru, r0.ru]   \n",
       "1  [1prime.ru, autorambler.ru, chellak.ru, docs.c...   \n",
       "2                                 [bosch-korolev.ru]   \n",
       "3  [aptekanizkihcen.ua, colady.ru, gorod.dp.ua, i...   \n",
       "4  [astrorok.ru, diets.ru, edaplus.info, eshzdoro...   \n",
       "\n",
       "                                 id  \\\n",
       "0  000000013CB5719C0000A2C90002C101   \n",
       "1  00000001442BE24000001B7D00F50801   \n",
       "2  00000001448580F800003F1B31FB0901   \n",
       "3  0000000145BDB2FF000157971645E901   \n",
       "4  000000014602771F0000DB9359714C01   \n",
       "\n",
       "                                              titles  age  \n",
       "0  [бесплатный надёжный почта рамблер электронный...   53  \n",
       "1  [24-х 34-х до договор неделя новость предложит...   48  \n",
       "2  [авто бош контакт королёв сервис, авто бош кор...   28  \n",
       "3  [ua втрать війни донбасі за на новини озвучить...   44  \n",
       "4  [black walnut грецкий орех чёрный, inmoment ru...   48  "
      ]
     },
     "execution_count": 49,
     "metadata": {},
     "output_type": "execute_result"
    }
   ],
   "source": [
    "train_df.head()"
   ]
  },
  {
   "cell_type": "code",
   "execution_count": 50,
   "metadata": {
    "collapsed": false
   },
   "outputs": [
    {
     "name": "stdout",
     "output_type": "stream",
     "text": [
      "(114090, 4)\n",
      "<class 'pandas.core.frame.DataFrame'>\n"
     ]
    }
   ],
   "source": [
    "print(train_df.shape)\n",
    "print(type(train_df))"
   ]
  },
  {
   "cell_type": "markdown",
   "metadata": {},
   "source": [
    "## A clever experiment"
   ]
  },
  {
   "cell_type": "code",
   "execution_count": 51,
   "metadata": {
    "collapsed": false
   },
   "outputs": [
    {
     "name": "stdout",
     "output_type": "stream",
     "text": [
      "['id.rambler.ru mail.rambler.ru r0.ru'\n",
      " '1prime.ru autorambler.ru chellak.ru docs.cntd.ru echo.msk.ru expert.ru finance.rambler.ru forbes.ru forum.ixbt.com garant.ru govoritmoskva.ru kommersant.ru kp.ru lenta.ru mait.ru metronews.ru mk.ru news.rambler.ru news.smi2.ru norm-load.ru pfr.kirov.ru pfrf.ru photography-on-the.ru realty.rambler.ru ren.tv riafan.ru rns.online rossbanki.ru secretmag.ru tehnorma.ru tiu.ru top68.ru tvc.ru tvzvezda.ru vesti.ru video.rambler.ru weekend.rambler.ru'\n",
      " 'bosch-korolev.ru' ...,\n",
      " 'aif.ru autochel.ru chelyabinsk.ru id.rambler.ru khl.ru m.rambler.ru m.rsport.ru mail-pda.rambler.ru news.rambler.ru pnevmoshop.ru'\n",
      " 'blog.partisani.ge li.ru tvrain.ru'\n",
      " 'doctorkirov.ru drive.ru extrim-park43.ru m.regions.pulset.ru mail-pda.rambler.ru reso.ru sberbank.ru']\n",
      "(114090,)\n",
      "<type 'numpy.ndarray'>\n",
      "CPU times: user 0 ns, sys: 0 ns, total: 0 ns\n",
      "Wall time: 41 µs\n",
      "CPU times: user 7.21 s, sys: 66.7 ms, total: 7.27 s\n",
      "Wall time: 7.38 s\n",
      "(114090, 1000)\n",
      "(114090, 1)\n"
     ]
    }
   ],
   "source": [
    "X_train_matrix, y_train = train_df.loc[:, [\"urls\"]].as_matrix(), train_df.loc[:, [\"age\"]]\n",
    "# print(X_train)\n",
    "# X_train_matrix, y_train = train_df.loc[:, [\"urls\", \"titles\"]].as_matrix(), train_df.loc[:, [\"label\"]]\n",
    "X_train = train_df.urls.values\n",
    "for index in range(X_train_matrix.shape[0]):\n",
    "    X_train[index] = map(lambda x: ' '.join(x), X_train_matrix[index])[0]\n",
    "print(X_train)\n",
    "print(X_train.shape)\n",
    "print(type(X_train))\n",
    "%time hw = HashingVectorizer(n_features=1000)\n",
    "%time X_train = hw.transform(X_train)\n",
    "print(X_train.shape)\n",
    "print(y_train.shape)"
   ]
  },
  {
   "cell_type": "code",
   "execution_count": 52,
   "metadata": {
    "collapsed": false
   },
   "outputs": [
    {
     "ename": "ValueError",
     "evalue": "need more than 1 value to unpack",
     "output_type": "error",
     "traceback": [
      "\u001b[1;31m---------------------------------------------------------------------------\u001b[0m",
      "\u001b[1;31mValueError\u001b[0m                                Traceback (most recent call last)",
      "\u001b[1;32m<ipython-input-52-1002085e58a9>\u001b[0m in \u001b[0;36m<module>\u001b[1;34m()\u001b[0m\n\u001b[1;32m----> 1\u001b[1;33m \u001b[0mdense_matrix\u001b[0m \u001b[1;33m=\u001b[0m \u001b[1;33m[\u001b[0m\u001b[1;33m[\u001b[0m\u001b[0mb\u001b[0m \u001b[1;32mfor\u001b[0m \u001b[0m_\u001b[0m\u001b[1;33m,\u001b[0m\u001b[0mb\u001b[0m \u001b[1;32min\u001b[0m \u001b[0msub\u001b[0m\u001b[1;33m]\u001b[0m \u001b[1;32mfor\u001b[0m \u001b[0msub\u001b[0m \u001b[1;32min\u001b[0m \u001b[0mX_train\u001b[0m\u001b[1;33m]\u001b[0m\u001b[1;33m\u001b[0m\u001b[0m\n\u001b[0m",
      "\u001b[1;31mValueError\u001b[0m: need more than 1 value to unpack"
     ]
    }
   ],
   "source": [
    "dense_matrix = [[b for _,b in sub] for sub in X_train]"
   ]
  },
  {
   "cell_type": "code",
   "execution_count": 33,
   "metadata": {
    "collapsed": false
   },
   "outputs": [
    {
     "ename": "ValueError",
     "evalue": "row, column, and data array must all be the same length",
     "output_type": "error",
     "traceback": [
      "\u001b[1;31m---------------------------------------------------------------------------\u001b[0m",
      "\u001b[1;31mValueError\u001b[0m                                Traceback (most recent call last)",
      "\u001b[1;32m<ipython-input-33-8a736f7f8db9>\u001b[0m in \u001b[0;36m<module>\u001b[1;34m()\u001b[0m\n\u001b[0;32m      1\u001b[0m \u001b[1;32mfrom\u001b[0m \u001b[0mmatplotlib\u001b[0m \u001b[1;32mimport\u001b[0m \u001b[0mpyplot\u001b[0m\u001b[1;33m\u001b[0m\u001b[0m\n\u001b[0;32m      2\u001b[0m \u001b[1;33m\u001b[0m\u001b[0m\n\u001b[1;32m----> 3\u001b[1;33m \u001b[0mX_train\u001b[0m\u001b[1;33m.\u001b[0m\u001b[0mtodense\u001b[0m\u001b[1;33m(\u001b[0m\u001b[1;33m)\u001b[0m\u001b[1;33m\u001b[0m\u001b[0m\n\u001b[0m\u001b[0;32m      4\u001b[0m \u001b[1;33m\u001b[0m\u001b[0m\n\u001b[0;32m      5\u001b[0m \u001b[0mint_X_train\u001b[0m \u001b[1;33m=\u001b[0m \u001b[0mnumpy\u001b[0m\u001b[1;33m.\u001b[0m\u001b[0mzeros\u001b[0m\u001b[1;33m(\u001b[0m\u001b[0mshape\u001b[0m \u001b[1;33m=\u001b[0m \u001b[1;33m(\u001b[0m\u001b[0mX_train\u001b[0m\u001b[1;33m.\u001b[0m\u001b[0mshape\u001b[0m\u001b[1;33m[\u001b[0m\u001b[1;36m0\u001b[0m\u001b[1;33m]\u001b[0m\u001b[1;33m,\u001b[0m \u001b[0mX_train\u001b[0m\u001b[1;33m.\u001b[0m\u001b[0mshape\u001b[0m\u001b[1;33m[\u001b[0m\u001b[1;36m1\u001b[0m\u001b[1;33m]\u001b[0m\u001b[1;33m)\u001b[0m\u001b[1;33m)\u001b[0m\u001b[1;33m\u001b[0m\u001b[0m\n",
      "\u001b[1;32m/usr/lib/python2.7/site-packages/scipy/sparse/base.pyc\u001b[0m in \u001b[0;36mtodense\u001b[1;34m(self, order, out)\u001b[0m\n\u001b[0;32m    629\u001b[0m             \u001b[1;33m`\u001b[0m\u001b[0mnumpy\u001b[0m\u001b[1;33m.\u001b[0m\u001b[0mmatrix\u001b[0m\u001b[1;33m`\u001b[0m \u001b[0mobject\u001b[0m \u001b[0mthat\u001b[0m \u001b[0mshares\u001b[0m \u001b[0mthe\u001b[0m \u001b[0msame\u001b[0m \u001b[0mmemory\u001b[0m\u001b[1;33m.\u001b[0m\u001b[1;33m\u001b[0m\u001b[0m\n\u001b[0;32m    630\u001b[0m         \"\"\"\n\u001b[1;32m--> 631\u001b[1;33m         \u001b[1;32mreturn\u001b[0m \u001b[0mnp\u001b[0m\u001b[1;33m.\u001b[0m\u001b[0masmatrix\u001b[0m\u001b[1;33m(\u001b[0m\u001b[0mself\u001b[0m\u001b[1;33m.\u001b[0m\u001b[0mtoarray\u001b[0m\u001b[1;33m(\u001b[0m\u001b[0morder\u001b[0m\u001b[1;33m=\u001b[0m\u001b[0morder\u001b[0m\u001b[1;33m,\u001b[0m \u001b[0mout\u001b[0m\u001b[1;33m=\u001b[0m\u001b[0mout\u001b[0m\u001b[1;33m)\u001b[0m\u001b[1;33m)\u001b[0m\u001b[1;33m\u001b[0m\u001b[0m\n\u001b[0m\u001b[0;32m    632\u001b[0m \u001b[1;33m\u001b[0m\u001b[0m\n\u001b[0;32m    633\u001b[0m     \u001b[1;32mdef\u001b[0m \u001b[0mtoarray\u001b[0m\u001b[1;33m(\u001b[0m\u001b[0mself\u001b[0m\u001b[1;33m,\u001b[0m \u001b[0morder\u001b[0m\u001b[1;33m=\u001b[0m\u001b[0mNone\u001b[0m\u001b[1;33m,\u001b[0m \u001b[0mout\u001b[0m\u001b[1;33m=\u001b[0m\u001b[0mNone\u001b[0m\u001b[1;33m)\u001b[0m\u001b[1;33m:\u001b[0m\u001b[1;33m\u001b[0m\u001b[0m\n",
      "\u001b[1;32m/usr/lib/python2.7/site-packages/scipy/sparse/compressed.pyc\u001b[0m in \u001b[0;36mtoarray\u001b[1;34m(self, order, out)\u001b[0m\n\u001b[0;32m    938\u001b[0m     \u001b[1;32mdef\u001b[0m \u001b[0mtoarray\u001b[0m\u001b[1;33m(\u001b[0m\u001b[0mself\u001b[0m\u001b[1;33m,\u001b[0m \u001b[0morder\u001b[0m\u001b[1;33m=\u001b[0m\u001b[0mNone\u001b[0m\u001b[1;33m,\u001b[0m \u001b[0mout\u001b[0m\u001b[1;33m=\u001b[0m\u001b[0mNone\u001b[0m\u001b[1;33m)\u001b[0m\u001b[1;33m:\u001b[0m\u001b[1;33m\u001b[0m\u001b[0m\n\u001b[0;32m    939\u001b[0m         \u001b[1;34m\"\"\"See the docstring for `spmatrix.toarray`.\"\"\"\u001b[0m\u001b[1;33m\u001b[0m\u001b[0m\n\u001b[1;32m--> 940\u001b[1;33m         \u001b[1;32mreturn\u001b[0m \u001b[0mself\u001b[0m\u001b[1;33m.\u001b[0m\u001b[0mtocoo\u001b[0m\u001b[1;33m(\u001b[0m\u001b[0mcopy\u001b[0m\u001b[1;33m=\u001b[0m\u001b[0mFalse\u001b[0m\u001b[1;33m)\u001b[0m\u001b[1;33m.\u001b[0m\u001b[0mtoarray\u001b[0m\u001b[1;33m(\u001b[0m\u001b[0morder\u001b[0m\u001b[1;33m=\u001b[0m\u001b[0morder\u001b[0m\u001b[1;33m,\u001b[0m \u001b[0mout\u001b[0m\u001b[1;33m=\u001b[0m\u001b[0mout\u001b[0m\u001b[1;33m)\u001b[0m\u001b[1;33m\u001b[0m\u001b[0m\n\u001b[0m\u001b[0;32m    941\u001b[0m \u001b[1;33m\u001b[0m\u001b[0m\n\u001b[0;32m    942\u001b[0m     \u001b[1;31m##############################################################\u001b[0m\u001b[1;33m\u001b[0m\u001b[1;33m\u001b[0m\u001b[0m\n",
      "\u001b[1;32m/usr/lib/python2.7/site-packages/scipy/sparse/compressed.pyc\u001b[0m in \u001b[0;36mtocoo\u001b[1;34m(self, copy)\u001b[0m\n\u001b[0;32m    934\u001b[0m \u001b[1;33m\u001b[0m\u001b[0m\n\u001b[0;32m    935\u001b[0m         \u001b[1;32mfrom\u001b[0m \u001b[1;33m.\u001b[0m\u001b[0mcoo\u001b[0m \u001b[1;32mimport\u001b[0m \u001b[0mcoo_matrix\u001b[0m\u001b[1;33m\u001b[0m\u001b[0m\n\u001b[1;32m--> 936\u001b[1;33m         \u001b[1;32mreturn\u001b[0m \u001b[0mcoo_matrix\u001b[0m\u001b[1;33m(\u001b[0m\u001b[1;33m(\u001b[0m\u001b[0mdata\u001b[0m\u001b[1;33m,\u001b[0m\u001b[1;33m(\u001b[0m\u001b[0mrow\u001b[0m\u001b[1;33m,\u001b[0m\u001b[0mcol\u001b[0m\u001b[1;33m)\u001b[0m\u001b[1;33m)\u001b[0m\u001b[1;33m,\u001b[0m \u001b[0mself\u001b[0m\u001b[1;33m.\u001b[0m\u001b[0mshape\u001b[0m\u001b[1;33m)\u001b[0m\u001b[1;33m\u001b[0m\u001b[0m\n\u001b[0m\u001b[0;32m    937\u001b[0m \u001b[1;33m\u001b[0m\u001b[0m\n\u001b[0;32m    938\u001b[0m     \u001b[1;32mdef\u001b[0m \u001b[0mtoarray\u001b[0m\u001b[1;33m(\u001b[0m\u001b[0mself\u001b[0m\u001b[1;33m,\u001b[0m \u001b[0morder\u001b[0m\u001b[1;33m=\u001b[0m\u001b[0mNone\u001b[0m\u001b[1;33m,\u001b[0m \u001b[0mout\u001b[0m\u001b[1;33m=\u001b[0m\u001b[0mNone\u001b[0m\u001b[1;33m)\u001b[0m\u001b[1;33m:\u001b[0m\u001b[1;33m\u001b[0m\u001b[0m\n",
      "\u001b[1;32m/usr/lib/python2.7/site-packages/scipy/sparse/coo.pyc\u001b[0m in \u001b[0;36m__init__\u001b[1;34m(self, arg1, shape, dtype, copy)\u001b[0m\n\u001b[0;32m    180\u001b[0m             \u001b[0mself\u001b[0m\u001b[1;33m.\u001b[0m\u001b[0mdata\u001b[0m \u001b[1;33m=\u001b[0m \u001b[0mself\u001b[0m\u001b[1;33m.\u001b[0m\u001b[0mdata\u001b[0m\u001b[1;33m.\u001b[0m\u001b[0mastype\u001b[0m\u001b[1;33m(\u001b[0m\u001b[0mdtype\u001b[0m\u001b[1;33m)\u001b[0m\u001b[1;33m\u001b[0m\u001b[0m\n\u001b[0;32m    181\u001b[0m \u001b[1;33m\u001b[0m\u001b[0m\n\u001b[1;32m--> 182\u001b[1;33m         \u001b[0mself\u001b[0m\u001b[1;33m.\u001b[0m\u001b[0m_check\u001b[0m\u001b[1;33m(\u001b[0m\u001b[1;33m)\u001b[0m\u001b[1;33m\u001b[0m\u001b[0m\n\u001b[0m\u001b[0;32m    183\u001b[0m \u001b[1;33m\u001b[0m\u001b[0m\n\u001b[0;32m    184\u001b[0m     \u001b[1;32mdef\u001b[0m \u001b[0mgetnnz\u001b[0m\u001b[1;33m(\u001b[0m\u001b[0mself\u001b[0m\u001b[1;33m,\u001b[0m \u001b[0maxis\u001b[0m\u001b[1;33m=\u001b[0m\u001b[0mNone\u001b[0m\u001b[1;33m)\u001b[0m\u001b[1;33m:\u001b[0m\u001b[1;33m\u001b[0m\u001b[0m\n",
      "\u001b[1;32m/usr/lib/python2.7/site-packages/scipy/sparse/coo.pyc\u001b[0m in \u001b[0;36m_check\u001b[1;34m(self)\u001b[0m\n\u001b[0;32m    217\u001b[0m     \u001b[1;32mdef\u001b[0m \u001b[0m_check\u001b[0m\u001b[1;33m(\u001b[0m\u001b[0mself\u001b[0m\u001b[1;33m)\u001b[0m\u001b[1;33m:\u001b[0m\u001b[1;33m\u001b[0m\u001b[0m\n\u001b[0;32m    218\u001b[0m         \u001b[1;34m\"\"\" Checks data structure for consistency \"\"\"\u001b[0m\u001b[1;33m\u001b[0m\u001b[0m\n\u001b[1;32m--> 219\u001b[1;33m         \u001b[0mnnz\u001b[0m \u001b[1;33m=\u001b[0m \u001b[0mself\u001b[0m\u001b[1;33m.\u001b[0m\u001b[0mnnz\u001b[0m\u001b[1;33m\u001b[0m\u001b[0m\n\u001b[0m\u001b[0;32m    220\u001b[0m \u001b[1;33m\u001b[0m\u001b[0m\n\u001b[0;32m    221\u001b[0m         \u001b[1;31m# index arrays should have integer data types\u001b[0m\u001b[1;33m\u001b[0m\u001b[1;33m\u001b[0m\u001b[0m\n",
      "\u001b[1;32m/usr/lib/python2.7/site-packages/scipy/sparse/coo.pyc\u001b[0m in \u001b[0;36mgetnnz\u001b[1;34m(self, axis)\u001b[0m\n\u001b[0;32m    194\u001b[0m             \u001b[0mnnz\u001b[0m \u001b[1;33m=\u001b[0m \u001b[0mlen\u001b[0m\u001b[1;33m(\u001b[0m\u001b[0mself\u001b[0m\u001b[1;33m.\u001b[0m\u001b[0mdata\u001b[0m\u001b[1;33m)\u001b[0m\u001b[1;33m\u001b[0m\u001b[0m\n\u001b[0;32m    195\u001b[0m             \u001b[1;32mif\u001b[0m \u001b[0mnnz\u001b[0m \u001b[1;33m!=\u001b[0m \u001b[0mlen\u001b[0m\u001b[1;33m(\u001b[0m\u001b[0mself\u001b[0m\u001b[1;33m.\u001b[0m\u001b[0mrow\u001b[0m\u001b[1;33m)\u001b[0m \u001b[1;32mor\u001b[0m \u001b[0mnnz\u001b[0m \u001b[1;33m!=\u001b[0m \u001b[0mlen\u001b[0m\u001b[1;33m(\u001b[0m\u001b[0mself\u001b[0m\u001b[1;33m.\u001b[0m\u001b[0mcol\u001b[0m\u001b[1;33m)\u001b[0m\u001b[1;33m:\u001b[0m\u001b[1;33m\u001b[0m\u001b[0m\n\u001b[1;32m--> 196\u001b[1;33m                 raise ValueError('row, column, and data array must all be the '\n\u001b[0m\u001b[0;32m    197\u001b[0m                                  'same length')\n\u001b[0;32m    198\u001b[0m \u001b[1;33m\u001b[0m\u001b[0m\n",
      "\u001b[1;31mValueError\u001b[0m: row, column, and data array must all be the same length"
     ]
    }
   ],
   "source": [
    "from matplotlib import pyplot\n",
    "\n",
    "X_train.todense()\n",
    "\n",
    "int_X_train = numpy.zeros(shape = (X_train.shape[0], X_train.shape[1]))\n",
    "\n",
    "for row in range(X_train.shape[0]):\n",
    "    int_X_train[row] = X_train[row].astype(int)\n",
    "    \n",
    "print(int_X_train)\n",
    "    \n",
    "\n",
    "plt.imshow(X_train.astype(int),\n",
    "           interpolation=\"nearest\", cmap = \"Blues\")\n",
    "plt.show()"
   ]
  },
  {
   "cell_type": "markdown",
   "metadata": {},
   "source": [
    "## Relabeling data into groups"
   ]
  },
  {
   "cell_type": "code",
   "execution_count": 20,
   "metadata": {
    "collapsed": false
   },
   "outputs": [],
   "source": [
    "train_df['label'] = pd.Series(np.zeros(train_df.shape[0]), index=train_df.index)"
   ]
  },
  {
   "cell_type": "code",
   "execution_count": 21,
   "metadata": {
    "collapsed": true
   },
   "outputs": [],
   "source": [
    "X_train, y_train = train_df.loc[:, [\"urls\", \"titles\"]], train_df.loc[:, [\"age\"]]"
   ]
  },
  {
   "cell_type": "code",
   "execution_count": 22,
   "metadata": {
    "collapsed": false
   },
   "outputs": [
    {
     "name": "stdout",
     "output_type": "stream",
     "text": [
      "        age\n",
      "0        53\n",
      "1        48\n",
      "2        28\n",
      "3        44\n",
      "4        48\n",
      "5        36\n",
      "6        33\n",
      "7        41\n",
      "8        51\n",
      "9        32\n",
      "10       29\n",
      "11       36\n",
      "12       35\n",
      "13       37\n",
      "14       37\n",
      "15       31\n",
      "16       34\n",
      "17       24\n",
      "18       34\n",
      "19       19\n",
      "20       40\n",
      "21       39\n",
      "22       43\n",
      "23       27\n",
      "24       26\n",
      "25       33\n",
      "26       51\n",
      "27       48\n",
      "28       23\n",
      "29       27\n",
      "...     ...\n",
      "114060   44\n",
      "114061   44\n",
      "114062   39\n",
      "114063   42\n",
      "114064   39\n",
      "114065    6\n",
      "114066   50\n",
      "114067   30\n",
      "114068   40\n",
      "114069   29\n",
      "114070   29\n",
      "114071   31\n",
      "114072   33\n",
      "114073   26\n",
      "114074   20\n",
      "114075   24\n",
      "114076   51\n",
      "114077   28\n",
      "114078   41\n",
      "114079   46\n",
      "114080   58\n",
      "114081   31\n",
      "114082   32\n",
      "114083   44\n",
      "114084   34\n",
      "114085   34\n",
      "114086   26\n",
      "114087   58\n",
      "114088   56\n",
      "114089   31\n",
      "\n",
      "[114090 rows x 1 columns]\n",
      "<class 'pandas.core.frame.DataFrame'>\n"
     ]
    }
   ],
   "source": [
    "print(y_train)\n",
    "print(type(y_train))"
   ]
  },
  {
   "cell_type": "code",
   "execution_count": 23,
   "metadata": {
    "collapsed": false
   },
   "outputs": [
    {
     "data": {
      "text/html": [
       "<div>\n",
       "<table border=\"1\" class=\"dataframe\">\n",
       "  <thead>\n",
       "    <tr style=\"text-align: right;\">\n",
       "      <th></th>\n",
       "      <th>urls</th>\n",
       "      <th>id</th>\n",
       "      <th>titles</th>\n",
       "      <th>age</th>\n",
       "      <th>label</th>\n",
       "    </tr>\n",
       "  </thead>\n",
       "  <tbody>\n",
       "    <tr>\n",
       "      <th>0</th>\n",
       "      <td>[id.rambler.ru, mail.rambler.ru, r0.ru]</td>\n",
       "      <td>000000013CB5719C0000A2C90002C101</td>\n",
       "      <td>[бесплатный надёжный почта рамблер электронный...</td>\n",
       "      <td>53</td>\n",
       "      <td>6</td>\n",
       "    </tr>\n",
       "    <tr>\n",
       "      <th>1</th>\n",
       "      <td>[1prime.ru, autorambler.ru, chellak.ru, docs.c...</td>\n",
       "      <td>00000001442BE24000001B7D00F50801</td>\n",
       "      <td>[24-х 34-х до договор неделя новость предложит...</td>\n",
       "      <td>48</td>\n",
       "      <td>5</td>\n",
       "    </tr>\n",
       "    <tr>\n",
       "      <th>2</th>\n",
       "      <td>[bosch-korolev.ru]</td>\n",
       "      <td>00000001448580F800003F1B31FB0901</td>\n",
       "      <td>[авто бош контакт королёв сервис, авто бош кор...</td>\n",
       "      <td>28</td>\n",
       "      <td>2</td>\n",
       "    </tr>\n",
       "    <tr>\n",
       "      <th>3</th>\n",
       "      <td>[aptekanizkihcen.ua, colady.ru, gorod.dp.ua, i...</td>\n",
       "      <td>0000000145BDB2FF000157971645E901</td>\n",
       "      <td>[ua втрать війни донбасі за на новини озвучить...</td>\n",
       "      <td>44</td>\n",
       "      <td>5</td>\n",
       "    </tr>\n",
       "    <tr>\n",
       "      <th>4</th>\n",
       "      <td>[astrorok.ru, diets.ru, edaplus.info, eshzdoro...</td>\n",
       "      <td>000000014602771F0000DB9359714C01</td>\n",
       "      <td>[black walnut грецкий орех чёрный, inmoment ru...</td>\n",
       "      <td>48</td>\n",
       "      <td>5</td>\n",
       "    </tr>\n",
       "    <tr>\n",
       "      <th>5</th>\n",
       "      <td>[agroru.com, donupak.ru, meteonova.ru, rus-map...</td>\n",
       "      <td>0000000147B2D6F311DB5C4201B7FB01</td>\n",
       "      <td>[апрель год день март месяц на неделя от погод...</td>\n",
       "      <td>36</td>\n",
       "      <td>4</td>\n",
       "    </tr>\n",
       "    <tr>\n",
       "      <th>6</th>\n",
       "      <td>[9tv.co.il, katalogturbaz.ru, nanotara.ru, ofi...</td>\n",
       "      <td>0000000147C68954150168D701A8B801</td>\n",
       "      <td>[rankw ru tovar xoz xoz-tovar анализ доход ком...</td>\n",
       "      <td>33</td>\n",
       "      <td>3</td>\n",
       "    </tr>\n",
       "    <tr>\n",
       "      <th>7</th>\n",
       "      <td>[arbitr.ru, consultant.ru, utexco.ru]</td>\n",
       "      <td>0000000147EB76D738CD80750C879701</td>\n",
       "      <td>[возможность госзакупка консультант малое плюс...</td>\n",
       "      <td>41</td>\n",
       "      <td>5</td>\n",
       "    </tr>\n",
       "    <tr>\n",
       "      <th>8</th>\n",
       "      <td>[1tv.ru, arhinovosti.ru, bilettorg.ru, dev.diz...</td>\n",
       "      <td>00000001482AAFB69FA5228008AC2A01</td>\n",
       "      <td>[13d билет заказать имя купить на спектакль те...</td>\n",
       "      <td>51</td>\n",
       "      <td>6</td>\n",
       "    </tr>\n",
       "    <tr>\n",
       "      <th>9</th>\n",
       "      <td>[bibliotekar.ru, casinoaltair.com, expertiza34...</td>\n",
       "      <td>0000000148390BB56A6B22BB178D3901</td>\n",
       "      <td>[1-метр velol александр альберто арно велоспор...</td>\n",
       "      <td>32</td>\n",
       "      <td>3</td>\n",
       "    </tr>\n",
       "    <tr>\n",
       "      <th>10</th>\n",
       "      <td>[bettingexpert.com, carexpo.ru, chelsea-fc.ru,...</td>\n",
       "      <td>00000001487DAF8D69CD43E416D6AD01</td>\n",
       "      <td>[1vitali1 ii мафра от порту санинга токио фк ц...</td>\n",
       "      <td>29</td>\n",
       "      <td>2</td>\n",
       "    </tr>\n",
       "    <tr>\n",
       "      <th>11</th>\n",
       "      <td>[aif.ru, business-lady.com, calorizator.ru, ce...</td>\n",
       "      <td>0000000148AC192341E3BDAD0B95DE01</td>\n",
       "      <td>[caloriz ru www диета курица модный на похуден...</td>\n",
       "      <td>36</td>\n",
       "      <td>4</td>\n",
       "    </tr>\n",
       "    <tr>\n",
       "      <th>12</th>\n",
       "      <td>[1prime.ru, dr-krupnik.ru, mirtesen.ru, ria.ru...</td>\n",
       "      <td>0000000148C2B61B70F8651309287201</td>\n",
       "      <td>[plc powerlin адаптер, агентство азербайджан и...</td>\n",
       "      <td>35</td>\n",
       "      <td>4</td>\n",
       "    </tr>\n",
       "    <tr>\n",
       "      <th>13</th>\n",
       "      <td>[championat.com]</td>\n",
       "      <td>0000000148DB999352D9CAF309511101</td>\n",
       "      <td>[матч новость премьер-лига расписание россия р...</td>\n",
       "      <td>37</td>\n",
       "      <td>4</td>\n",
       "    </tr>\n",
       "    <tr>\n",
       "      <th>14</th>\n",
       "      <td>[7fon.ru, ru.motorsport.com]</td>\n",
       "      <td>0000000148EB77A2435E76A711E38B01</td>\n",
       "      <td>[window бесплатно для живой на обои рабочий ск...</td>\n",
       "      <td>37</td>\n",
       "      <td>4</td>\n",
       "    </tr>\n",
       "    <tr>\n",
       "      <th>15</th>\n",
       "      <td>[voronezh.hh.ru]</td>\n",
       "      <td>0000000148F786727740B36700E82101</td>\n",
       "      <td>[оплата услуга]</td>\n",
       "      <td>31</td>\n",
       "      <td>3</td>\n",
       "    </tr>\n",
       "    <tr>\n",
       "      <th>16</th>\n",
       "      <td>[afisha.ru, altagro22.ru, asfera.info, barnaul...</td>\n",
       "      <td>0000000148FD5BA0B553811202AB4601</td>\n",
       "      <td>[png psd бесплатно для клипарта мультяшки на п...</td>\n",
       "      <td>34</td>\n",
       "      <td>3</td>\n",
       "    </tr>\n",
       "    <tr>\n",
       "      <th>17</th>\n",
       "      <td>[agbz.ru, atmagro.ru, moyareklama.by]</td>\n",
       "      <td>0000000148FF6AFB2A2183F50311A901</td>\n",
       "      <td>[by moyareklama гомель купить на овца, агропро...</td>\n",
       "      <td>24</td>\n",
       "      <td>1</td>\n",
       "    </tr>\n",
       "    <tr>\n",
       "      <th>18</th>\n",
       "      <td>[1245.ru, aeroflot.ru, afy.ru, akwarium.su, aq...</td>\n",
       "      <td>00000001490B9AF7989CCE8E026C2901</td>\n",
       "      <td>[06м 10х1 art daphn винить каталог коллекция к...</td>\n",
       "      <td>34</td>\n",
       "      <td>3</td>\n",
       "    </tr>\n",
       "    <tr>\n",
       "      <th>19</th>\n",
       "      <td>[picantecooking.com, povarenok.ru, rabbit.ru, ...</td>\n",
       "      <td>00000001490C03CD81C3F77D03591501</td>\n",
       "      <td>[chow mein picantecook китайский курица лапша ...</td>\n",
       "      <td>19</td>\n",
       "      <td>1</td>\n",
       "    </tr>\n",
       "    <tr>\n",
       "      <th>20</th>\n",
       "      <td>[inf.reshuoge.ru, reshuoge.ru]</td>\n",
       "      <td>000000014917C91E88E90DC90A3B9D01</td>\n",
       "      <td>[гущина дмитрия задание информатика обучать ог...</td>\n",
       "      <td>40</td>\n",
       "      <td>4</td>\n",
       "    </tr>\n",
       "    <tr>\n",
       "      <th>21</th>\n",
       "      <td>[kommersant.ru, m.aeroflot.ru, m.gq.ru, miss-t...</td>\n",
       "      <td>000000014919555188E90DC90FF8E401</td>\n",
       "      <td>[gq администратор блог ваш журнал лори любимый...</td>\n",
       "      <td>39</td>\n",
       "      <td>4</td>\n",
       "    </tr>\n",
       "    <tr>\n",
       "      <th>22</th>\n",
       "      <td>[aptekamos.ru, assessor.ru, buhonline.ru, drom...</td>\n",
       "      <td>00000001491A894285610DC813C50E01</td>\n",
       "      <td>[2мл 50мг для инъекция купить мл раствор трама...</td>\n",
       "      <td>43</td>\n",
       "      <td>5</td>\n",
       "    </tr>\n",
       "    <tr>\n",
       "      <th>23</th>\n",
       "      <td>[yota.ru]</td>\n",
       "      <td>000000014929641F66F6C0110E62C401</td>\n",
       "      <td>[4g yota безлимитный весь интернет мобильный м...</td>\n",
       "      <td>27</td>\n",
       "      <td>2</td>\n",
       "    </tr>\n",
       "    <tr>\n",
       "      <th>24</th>\n",
       "      <td>[altstu.ru]</td>\n",
       "      <td>000000014947912B3F44BA2C032EB701</td>\n",
       "      <td>[алтгту, алтгту занятие расписание, алтгту отд...</td>\n",
       "      <td>26</td>\n",
       "      <td>1</td>\n",
       "    </tr>\n",
       "    <tr>\n",
       "      <th>25</th>\n",
       "      <td>[tvrain.ru]</td>\n",
       "      <td>00000001494E5DE0241913C9184EBF01</td>\n",
       "      <td>[авторизация дождь телеканал, восстановление д...</td>\n",
       "      <td>33</td>\n",
       "      <td>3</td>\n",
       "    </tr>\n",
       "    <tr>\n",
       "      <th>26</th>\n",
       "      <td>[takabo.ru, vladkomfort.com]</td>\n",
       "      <td>00000001494FA563241913C91D6FA201</td>\n",
       "      <td>[dr mosreg ru takabo uslugi zdrav врач запись ...</td>\n",
       "      <td>51</td>\n",
       "      <td>6</td>\n",
       "    </tr>\n",
       "    <tr>\n",
       "      <th>27</th>\n",
       "      <td>[proshkolu.ru, studresearsh.ru, vashaspina.ru]</td>\n",
       "      <td>00000001495B2BC55C0079021B37AD01</td>\n",
       "      <td>[almag алмаг аппарат инструкция отзыв по приме...</td>\n",
       "      <td>48</td>\n",
       "      <td>5</td>\n",
       "    </tr>\n",
       "    <tr>\n",
       "      <th>28</th>\n",
       "      <td>[bytovaya-tekhnika.taganrog.mnogonado.net, tag...</td>\n",
       "      <td>00000001496318EB3F650D200EB00101</td>\n",
       "      <td>[вред её капуста ламинария морской она польза ...</td>\n",
       "      <td>23</td>\n",
       "      <td>1</td>\n",
       "    </tr>\n",
       "    <tr>\n",
       "      <th>29</th>\n",
       "      <td>[inf.reshuege.ru, vm.ru, whoswhos.org]</td>\n",
       "      <td>00000001496C4195AD4C674803C9B501</td>\n",
       "      <td>[вечерний жизнь зощенко из интересный михаил м...</td>\n",
       "      <td>27</td>\n",
       "      <td>2</td>\n",
       "    </tr>\n",
       "    <tr>\n",
       "      <th>...</th>\n",
       "      <td>...</td>\n",
       "      <td>...</td>\n",
       "      <td>...</td>\n",
       "      <td>...</td>\n",
       "      <td>...</td>\n",
       "    </tr>\n",
       "    <tr>\n",
       "      <th>114060</th>\n",
       "      <td>[kirby-russia.tiu.ru, mail.rambler.ru, pevp.mo...</td>\n",
       "      <td>06393B87570260BC00000543F588B501</td>\n",
       "      <td>[footer, ridzip ru аксессуар бытовой запчасть ...</td>\n",
       "      <td>44</td>\n",
       "      <td>5</td>\n",
       "    </tr>\n",
       "    <tr>\n",
       "      <th>114061</th>\n",
       "      <td>[mail.rambler.ru, news.rambler.ru, online777sl...</td>\n",
       "      <td>06393B87570270DC00006DAC93F56F01</td>\n",
       "      <td>[columbu автомат игровой онлайн отправляться п...</td>\n",
       "      <td>44</td>\n",
       "      <td>5</td>\n",
       "    </tr>\n",
       "    <tr>\n",
       "      <th>114062</th>\n",
       "      <td>[1gb.ru, airsteps.ru, eda.ru, gotovim.ru, job-...</td>\n",
       "      <td>06393B8757027C0C00006DE991DD9101</td>\n",
       "      <td>[air airstep id nike yeezi каталог кроссовок ч...</td>\n",
       "      <td>39</td>\n",
       "      <td>4</td>\n",
       "    </tr>\n",
       "    <tr>\n",
       "      <th>114063</th>\n",
       "      <td>[i.ovkuse.ru, mail.rambler.ru, osd.ru, pevp.mo...</td>\n",
       "      <td>06393B8757029A140000053DF5A87A01</td>\n",
       "      <td>[footer, prodport ru консервы масло молоко мяс...</td>\n",
       "      <td>42</td>\n",
       "      <td>5</td>\n",
       "    </tr>\n",
       "    <tr>\n",
       "      <th>114064</th>\n",
       "      <td>[aif.ru, finance.rambler.ru, mail.rambler.ru, ...</td>\n",
       "      <td>06393B8757034DB20000518C41942C01</td>\n",
       "      <td>[footer, аргумент биатлонист бьорндален вид до...</td>\n",
       "      <td>39</td>\n",
       "      <td>4</td>\n",
       "    </tr>\n",
       "    <tr>\n",
       "      <th>114065</th>\n",
       "      <td>[gotovim-doma.ru, id.rambler.ru, mail.rambler....</td>\n",
       "      <td>06393B875705208E0000054E2A852C01</td>\n",
       "      <td>[co rambler авторизация, footer, бесплатный на...</td>\n",
       "      <td>6</td>\n",
       "      <td>1</td>\n",
       "    </tr>\n",
       "    <tr>\n",
       "      <th>114066</th>\n",
       "      <td>[dachadecor.ru, humangarden.ru, l2announce.ru,...</td>\n",
       "      <td>06393BC156F59CF100000533F051B801</td>\n",
       "      <td>[adrenalin bot l2walker lineag top, battlestar...</td>\n",
       "      <td>50</td>\n",
       "      <td>6</td>\n",
       "    </tr>\n",
       "    <tr>\n",
       "      <th>114067</th>\n",
       "      <td>[chadorado.ru, family.rambler.ru, krasnodar.ir...</td>\n",
       "      <td>06393C8956F8F1B600006DBECC09A701</td>\n",
       "      <td>[a7398h plai-doh принцесса софия церемония чай...</td>\n",
       "      <td>30</td>\n",
       "      <td>2</td>\n",
       "    </tr>\n",
       "    <tr>\n",
       "      <th>114068</th>\n",
       "      <td>[baby-52.ru, fundamenti-v-spb.ru, pesnifilm.ru]</td>\n",
       "      <td>06393D0556F3D2510000053CCC1E9501</td>\n",
       "      <td>[беременность весь для заботливый мама она пор...</td>\n",
       "      <td>40</td>\n",
       "      <td>4</td>\n",
       "    </tr>\n",
       "    <tr>\n",
       "      <th>114069</th>\n",
       "      <td>[formulalubvi.com, kino-teatr.ru, mail.rambler...</td>\n",
       "      <td>06393D555700FE8A00006E0D72071401</td>\n",
       "      <td>[hello russia встретить метро можно москва сно...</td>\n",
       "      <td>29</td>\n",
       "      <td>2</td>\n",
       "    </tr>\n",
       "    <tr>\n",
       "      <th>114070</th>\n",
       "      <td>[ac-mzsa.ru, autodoc.ru, avtotsentry.smolensk....</td>\n",
       "      <td>06393DC056F6C1CC000004E57E05A001</td>\n",
       "      <td>[2746agamvw1b guardian автодок интернет-магази...</td>\n",
       "      <td>29</td>\n",
       "      <td>2</td>\n",
       "    </tr>\n",
       "    <tr>\n",
       "      <th>114071</th>\n",
       "      <td>[allnum.ru, mail.rambler.ru]</td>\n",
       "      <td>06393E1656FF91D4000051CCF0D13C01</td>\n",
       "      <td>[lenta ru sivkova-elena входящая рамблер-почта...</td>\n",
       "      <td>31</td>\n",
       "      <td>3</td>\n",
       "    </tr>\n",
       "    <tr>\n",
       "      <th>114072</th>\n",
       "      <td>[drivers.mydiv.net, drp.su, hotdownloads.ru, m...</td>\n",
       "      <td>06393E7D56F67A6F000005489A814C01</td>\n",
       "      <td>[crystal player pro window без бесплатно для к...</td>\n",
       "      <td>33</td>\n",
       "      <td>3</td>\n",
       "    </tr>\n",
       "    <tr>\n",
       "      <th>114073</th>\n",
       "      <td>[almaxavto.com.ua, avtorynok.com.ua, exist.ru,...</td>\n",
       "      <td>06393FF656FB75860000054780A8EE01</td>\n",
       "      <td>[4a91 lancer mitsubishi для запчасть седан, al...</td>\n",
       "      <td>26</td>\n",
       "      <td>1</td>\n",
       "    </tr>\n",
       "    <tr>\n",
       "      <th>114074</th>\n",
       "      <td>[babylonvape.ru, gdzometr.ru, id.rambler.ru, m...</td>\n",
       "      <td>0639434C56FE7EBA000005403C284E01</td>\n",
       "      <td>[co rambler авторизация, nation ohm rda turbo ...</td>\n",
       "      <td>20</td>\n",
       "      <td>1</td>\n",
       "    </tr>\n",
       "    <tr>\n",
       "      <th>114075</th>\n",
       "      <td>[mail.rambler.ru, noffery.ru, rambler.ru]</td>\n",
       "      <td>0639452A570504200000055527E56F01</td>\n",
       "      <td>[nofferi автомобиль автомобильный жидкий новый...</td>\n",
       "      <td>24</td>\n",
       "      <td>1</td>\n",
       "    </tr>\n",
       "    <tr>\n",
       "      <th>114076</th>\n",
       "      <td>[forum.ribca.net, rubo.ru, top.mail.ru, top100...</td>\n",
       "      <td>063945575700ED290000054ECF865F01</td>\n",
       "      <td>[весь добавить каталог рейтинг сайт скриншот с...</td>\n",
       "      <td>51</td>\n",
       "      <td>6</td>\n",
       "    </tr>\n",
       "    <tr>\n",
       "      <th>114077</th>\n",
       "      <td>[consultant.ru, estatelatvia.com, god-2016.com...</td>\n",
       "      <td>6B9BD7D94D7F3767F8CD695D77FA6E77</td>\n",
       "      <td>[glamour ru базовый весна-лето гардероб как но...</td>\n",
       "      <td>28</td>\n",
       "      <td>2</td>\n",
       "    </tr>\n",
       "    <tr>\n",
       "      <th>114078</th>\n",
       "      <td>[bagforlife.ru, bellore.ru, blondie.ru, brjune...</td>\n",
       "      <td>77F8BDE14D77F99E9E6773F7EB9EE7E1</td>\n",
       "      <td>[698308-fondent airstep cotto kultpokupki ru s...</td>\n",
       "      <td>41</td>\n",
       "      <td>5</td>\n",
       "    </tr>\n",
       "    <tr>\n",
       "      <th>114079</th>\n",
       "      <td>[autoplus.su, euroauto.ru, xn--2111-43da1a8c.x...</td>\n",
       "      <td>795E97E747DB38B7B9C67F9A771F8E77</td>\n",
       "      <td>[autoplu frontera opel su автомобиль автомобил...</td>\n",
       "      <td>46</td>\n",
       "      <td>5</td>\n",
       "    </tr>\n",
       "    <tr>\n",
       "      <th>114080</th>\n",
       "      <td>[kino-teatr.ru, knijky.ru, zak.depo.ua]</td>\n",
       "      <td>7DF577774777BDFDBA7EEF9F77F6C6D7</td>\n",
       "      <td>[depo буковель красуня купальник на новини при...</td>\n",
       "      <td>58</td>\n",
       "      <td>6</td>\n",
       "    </tr>\n",
       "    <tr>\n",
       "      <th>114081</th>\n",
       "      <td>[m.rambler.ru, m.rns.online, m.weekend.rambler...</td>\n",
       "      <td>D374CD7D56E7359F5B7E6F9F7B3D6DDF</td>\n",
       "      <td>[new rambler servic бензин биржевой более выра...</td>\n",
       "      <td>31</td>\n",
       "      <td>3</td>\n",
       "    </tr>\n",
       "    <tr>\n",
       "      <th>114082</th>\n",
       "      <td>[mail-pda.rambler.ru, pozdrav.ru]</td>\n",
       "      <td>D79FBED94DD35ED75AADEDBC6D1CAFE7</td>\n",
       "      <td>[март стих]</td>\n",
       "      <td>32</td>\n",
       "      <td>3</td>\n",
       "    </tr>\n",
       "    <tr>\n",
       "      <th>114083</th>\n",
       "      <td>[lady74.ru]</td>\n",
       "      <td>DB399FE347F77B6DB566DB1FD136DF73</td>\n",
       "      <td>[апрель год гороскоп для женский на телец, вес...</td>\n",
       "      <td>44</td>\n",
       "      <td>5</td>\n",
       "    </tr>\n",
       "    <tr>\n",
       "      <th>114084</th>\n",
       "      <td>[art-med.ru, khablyalya.ru, pregnant-club.ru, ...</td>\n",
       "      <td>E736D7D34EF71D8FB46D6BDD6F9CADD1</td>\n",
       "      <td>[арт-мёд беременность ветрянка вопрос на ответ...</td>\n",
       "      <td>34</td>\n",
       "      <td>3</td>\n",
       "    </tr>\n",
       "    <tr>\n",
       "      <th>114085</th>\n",
       "      <td>[afisha.ru, exist.ru, inmoment.ru, kiev.vgorod...</td>\n",
       "      <td>E7DB77EB4EEFF6C73DD7EB5CD37CB7E3</td>\n",
       "      <td>[chanel афиша киев магазин, cl merced для зажи...</td>\n",
       "      <td>34</td>\n",
       "      <td>3</td>\n",
       "    </tr>\n",
       "    <tr>\n",
       "      <th>114086</th>\n",
       "      <td>[cosmo.ru, pda.ura.ru, podoprigora74.livejourn...</td>\n",
       "      <td>E7DFB7DB4DDF3C7E785EDF7DF17AA76D</td>\n",
       "      <td>[cosmopolitan ведущий гламурный гузеев журнал ...</td>\n",
       "      <td>26</td>\n",
       "      <td>1</td>\n",
       "    </tr>\n",
       "    <tr>\n",
       "      <th>114087</th>\n",
       "      <td>[aif.ru, autochel.ru, chelyabinsk.ru, id.rambl...</td>\n",
       "      <td>E9B9D7D347EB1ACE5AAEEBFCE3FBCE7B</td>\n",
       "      <td>[4z7616051a 4z7616051d 4z7616052a allroad arno...</td>\n",
       "      <td>58</td>\n",
       "      <td>6</td>\n",
       "    </tr>\n",
       "    <tr>\n",
       "      <th>114088</th>\n",
       "      <td>[blog.partisani.ge, li.ru, tvrain.ru]</td>\n",
       "      <td>EBFAC66B4EE3FB96BA5DD7DDE3787FE7</td>\n",
       "      <td>[ru онлайн попка порно секс, азербайджан военн...</td>\n",
       "      <td>56</td>\n",
       "      <td>6</td>\n",
       "    </tr>\n",
       "    <tr>\n",
       "      <th>114089</th>\n",
       "      <td>[doctorkirov.ru, drive.ru, extrim-park43.ru, m...</td>\n",
       "      <td>F537AD6B46D31ABFF597EFDFE1BDDE71</td>\n",
       "      <td>[5d merced-benz видео драйв комплектация отзыв...</td>\n",
       "      <td>31</td>\n",
       "      <td>3</td>\n",
       "    </tr>\n",
       "  </tbody>\n",
       "</table>\n",
       "<p>114090 rows × 5 columns</p>\n",
       "</div>"
      ],
      "text/plain": [
       "                                                     urls  \\\n",
       "0                 [id.rambler.ru, mail.rambler.ru, r0.ru]   \n",
       "1       [1prime.ru, autorambler.ru, chellak.ru, docs.c...   \n",
       "2                                      [bosch-korolev.ru]   \n",
       "3       [aptekanizkihcen.ua, colady.ru, gorod.dp.ua, i...   \n",
       "4       [astrorok.ru, diets.ru, edaplus.info, eshzdoro...   \n",
       "5       [agroru.com, donupak.ru, meteonova.ru, rus-map...   \n",
       "6       [9tv.co.il, katalogturbaz.ru, nanotara.ru, ofi...   \n",
       "7                   [arbitr.ru, consultant.ru, utexco.ru]   \n",
       "8       [1tv.ru, arhinovosti.ru, bilettorg.ru, dev.diz...   \n",
       "9       [bibliotekar.ru, casinoaltair.com, expertiza34...   \n",
       "10      [bettingexpert.com, carexpo.ru, chelsea-fc.ru,...   \n",
       "11      [aif.ru, business-lady.com, calorizator.ru, ce...   \n",
       "12      [1prime.ru, dr-krupnik.ru, mirtesen.ru, ria.ru...   \n",
       "13                                       [championat.com]   \n",
       "14                           [7fon.ru, ru.motorsport.com]   \n",
       "15                                       [voronezh.hh.ru]   \n",
       "16      [afisha.ru, altagro22.ru, asfera.info, barnaul...   \n",
       "17                  [agbz.ru, atmagro.ru, moyareklama.by]   \n",
       "18      [1245.ru, aeroflot.ru, afy.ru, akwarium.su, aq...   \n",
       "19      [picantecooking.com, povarenok.ru, rabbit.ru, ...   \n",
       "20                         [inf.reshuoge.ru, reshuoge.ru]   \n",
       "21      [kommersant.ru, m.aeroflot.ru, m.gq.ru, miss-t...   \n",
       "22      [aptekamos.ru, assessor.ru, buhonline.ru, drom...   \n",
       "23                                              [yota.ru]   \n",
       "24                                            [altstu.ru]   \n",
       "25                                            [tvrain.ru]   \n",
       "26                           [takabo.ru, vladkomfort.com]   \n",
       "27         [proshkolu.ru, studresearsh.ru, vashaspina.ru]   \n",
       "28      [bytovaya-tekhnika.taganrog.mnogonado.net, tag...   \n",
       "29                 [inf.reshuege.ru, vm.ru, whoswhos.org]   \n",
       "...                                                   ...   \n",
       "114060  [kirby-russia.tiu.ru, mail.rambler.ru, pevp.mo...   \n",
       "114061  [mail.rambler.ru, news.rambler.ru, online777sl...   \n",
       "114062  [1gb.ru, airsteps.ru, eda.ru, gotovim.ru, job-...   \n",
       "114063  [i.ovkuse.ru, mail.rambler.ru, osd.ru, pevp.mo...   \n",
       "114064  [aif.ru, finance.rambler.ru, mail.rambler.ru, ...   \n",
       "114065  [gotovim-doma.ru, id.rambler.ru, mail.rambler....   \n",
       "114066  [dachadecor.ru, humangarden.ru, l2announce.ru,...   \n",
       "114067  [chadorado.ru, family.rambler.ru, krasnodar.ir...   \n",
       "114068    [baby-52.ru, fundamenti-v-spb.ru, pesnifilm.ru]   \n",
       "114069  [formulalubvi.com, kino-teatr.ru, mail.rambler...   \n",
       "114070  [ac-mzsa.ru, autodoc.ru, avtotsentry.smolensk....   \n",
       "114071                       [allnum.ru, mail.rambler.ru]   \n",
       "114072  [drivers.mydiv.net, drp.su, hotdownloads.ru, m...   \n",
       "114073  [almaxavto.com.ua, avtorynok.com.ua, exist.ru,...   \n",
       "114074  [babylonvape.ru, gdzometr.ru, id.rambler.ru, m...   \n",
       "114075          [mail.rambler.ru, noffery.ru, rambler.ru]   \n",
       "114076  [forum.ribca.net, rubo.ru, top.mail.ru, top100...   \n",
       "114077  [consultant.ru, estatelatvia.com, god-2016.com...   \n",
       "114078  [bagforlife.ru, bellore.ru, blondie.ru, brjune...   \n",
       "114079  [autoplus.su, euroauto.ru, xn--2111-43da1a8c.x...   \n",
       "114080            [kino-teatr.ru, knijky.ru, zak.depo.ua]   \n",
       "114081  [m.rambler.ru, m.rns.online, m.weekend.rambler...   \n",
       "114082                  [mail-pda.rambler.ru, pozdrav.ru]   \n",
       "114083                                        [lady74.ru]   \n",
       "114084  [art-med.ru, khablyalya.ru, pregnant-club.ru, ...   \n",
       "114085  [afisha.ru, exist.ru, inmoment.ru, kiev.vgorod...   \n",
       "114086  [cosmo.ru, pda.ura.ru, podoprigora74.livejourn...   \n",
       "114087  [aif.ru, autochel.ru, chelyabinsk.ru, id.rambl...   \n",
       "114088              [blog.partisani.ge, li.ru, tvrain.ru]   \n",
       "114089  [doctorkirov.ru, drive.ru, extrim-park43.ru, m...   \n",
       "\n",
       "                                      id  \\\n",
       "0       000000013CB5719C0000A2C90002C101   \n",
       "1       00000001442BE24000001B7D00F50801   \n",
       "2       00000001448580F800003F1B31FB0901   \n",
       "3       0000000145BDB2FF000157971645E901   \n",
       "4       000000014602771F0000DB9359714C01   \n",
       "5       0000000147B2D6F311DB5C4201B7FB01   \n",
       "6       0000000147C68954150168D701A8B801   \n",
       "7       0000000147EB76D738CD80750C879701   \n",
       "8       00000001482AAFB69FA5228008AC2A01   \n",
       "9       0000000148390BB56A6B22BB178D3901   \n",
       "10      00000001487DAF8D69CD43E416D6AD01   \n",
       "11      0000000148AC192341E3BDAD0B95DE01   \n",
       "12      0000000148C2B61B70F8651309287201   \n",
       "13      0000000148DB999352D9CAF309511101   \n",
       "14      0000000148EB77A2435E76A711E38B01   \n",
       "15      0000000148F786727740B36700E82101   \n",
       "16      0000000148FD5BA0B553811202AB4601   \n",
       "17      0000000148FF6AFB2A2183F50311A901   \n",
       "18      00000001490B9AF7989CCE8E026C2901   \n",
       "19      00000001490C03CD81C3F77D03591501   \n",
       "20      000000014917C91E88E90DC90A3B9D01   \n",
       "21      000000014919555188E90DC90FF8E401   \n",
       "22      00000001491A894285610DC813C50E01   \n",
       "23      000000014929641F66F6C0110E62C401   \n",
       "24      000000014947912B3F44BA2C032EB701   \n",
       "25      00000001494E5DE0241913C9184EBF01   \n",
       "26      00000001494FA563241913C91D6FA201   \n",
       "27      00000001495B2BC55C0079021B37AD01   \n",
       "28      00000001496318EB3F650D200EB00101   \n",
       "29      00000001496C4195AD4C674803C9B501   \n",
       "...                                  ...   \n",
       "114060  06393B87570260BC00000543F588B501   \n",
       "114061  06393B87570270DC00006DAC93F56F01   \n",
       "114062  06393B8757027C0C00006DE991DD9101   \n",
       "114063  06393B8757029A140000053DF5A87A01   \n",
       "114064  06393B8757034DB20000518C41942C01   \n",
       "114065  06393B875705208E0000054E2A852C01   \n",
       "114066  06393BC156F59CF100000533F051B801   \n",
       "114067  06393C8956F8F1B600006DBECC09A701   \n",
       "114068  06393D0556F3D2510000053CCC1E9501   \n",
       "114069  06393D555700FE8A00006E0D72071401   \n",
       "114070  06393DC056F6C1CC000004E57E05A001   \n",
       "114071  06393E1656FF91D4000051CCF0D13C01   \n",
       "114072  06393E7D56F67A6F000005489A814C01   \n",
       "114073  06393FF656FB75860000054780A8EE01   \n",
       "114074  0639434C56FE7EBA000005403C284E01   \n",
       "114075  0639452A570504200000055527E56F01   \n",
       "114076  063945575700ED290000054ECF865F01   \n",
       "114077  6B9BD7D94D7F3767F8CD695D77FA6E77   \n",
       "114078  77F8BDE14D77F99E9E6773F7EB9EE7E1   \n",
       "114079  795E97E747DB38B7B9C67F9A771F8E77   \n",
       "114080  7DF577774777BDFDBA7EEF9F77F6C6D7   \n",
       "114081  D374CD7D56E7359F5B7E6F9F7B3D6DDF   \n",
       "114082  D79FBED94DD35ED75AADEDBC6D1CAFE7   \n",
       "114083  DB399FE347F77B6DB566DB1FD136DF73   \n",
       "114084  E736D7D34EF71D8FB46D6BDD6F9CADD1   \n",
       "114085  E7DB77EB4EEFF6C73DD7EB5CD37CB7E3   \n",
       "114086  E7DFB7DB4DDF3C7E785EDF7DF17AA76D   \n",
       "114087  E9B9D7D347EB1ACE5AAEEBFCE3FBCE7B   \n",
       "114088  EBFAC66B4EE3FB96BA5DD7DDE3787FE7   \n",
       "114089  F537AD6B46D31ABFF597EFDFE1BDDE71   \n",
       "\n",
       "                                                   titles  age  label  \n",
       "0       [бесплатный надёжный почта рамблер электронный...   53      6  \n",
       "1       [24-х 34-х до договор неделя новость предложит...   48      5  \n",
       "2       [авто бош контакт королёв сервис, авто бош кор...   28      2  \n",
       "3       [ua втрать війни донбасі за на новини озвучить...   44      5  \n",
       "4       [black walnut грецкий орех чёрный, inmoment ru...   48      5  \n",
       "5       [апрель год день март месяц на неделя от погод...   36      4  \n",
       "6       [rankw ru tovar xoz xoz-tovar анализ доход ком...   33      3  \n",
       "7       [возможность госзакупка консультант малое плюс...   41      5  \n",
       "8       [13d билет заказать имя купить на спектакль те...   51      6  \n",
       "9       [1-метр velol александр альберто арно велоспор...   32      3  \n",
       "10      [1vitali1 ii мафра от порту санинга токио фк ц...   29      2  \n",
       "11      [caloriz ru www диета курица модный на похуден...   36      4  \n",
       "12      [plc powerlin адаптер, агентство азербайджан и...   35      4  \n",
       "13      [матч новость премьер-лига расписание россия р...   37      4  \n",
       "14      [window бесплатно для живой на обои рабочий ск...   37      4  \n",
       "15                                        [оплата услуга]   31      3  \n",
       "16      [png psd бесплатно для клипарта мультяшки на п...   34      3  \n",
       "17      [by moyareklama гомель купить на овца, агропро...   24      1  \n",
       "18      [06м 10х1 art daphn винить каталог коллекция к...   34      3  \n",
       "19      [chow mein picantecook китайский курица лапша ...   19      1  \n",
       "20      [гущина дмитрия задание информатика обучать ог...   40      4  \n",
       "21      [gq администратор блог ваш журнал лори любимый...   39      4  \n",
       "22      [2мл 50мг для инъекция купить мл раствор трама...   43      5  \n",
       "23      [4g yota безлимитный весь интернет мобильный м...   27      2  \n",
       "24      [алтгту, алтгту занятие расписание, алтгту отд...   26      1  \n",
       "25      [авторизация дождь телеканал, восстановление д...   33      3  \n",
       "26      [dr mosreg ru takabo uslugi zdrav врач запись ...   51      6  \n",
       "27      [almag алмаг аппарат инструкция отзыв по приме...   48      5  \n",
       "28      [вред её капуста ламинария морской она польза ...   23      1  \n",
       "29      [вечерний жизнь зощенко из интересный михаил м...   27      2  \n",
       "...                                                   ...  ...    ...  \n",
       "114060  [footer, ridzip ru аксессуар бытовой запчасть ...   44      5  \n",
       "114061  [columbu автомат игровой онлайн отправляться п...   44      5  \n",
       "114062  [air airstep id nike yeezi каталог кроссовок ч...   39      4  \n",
       "114063  [footer, prodport ru консервы масло молоко мяс...   42      5  \n",
       "114064  [footer, аргумент биатлонист бьорндален вид до...   39      4  \n",
       "114065  [co rambler авторизация, footer, бесплатный на...    6      1  \n",
       "114066  [adrenalin bot l2walker lineag top, battlestar...   50      6  \n",
       "114067  [a7398h plai-doh принцесса софия церемония чай...   30      2  \n",
       "114068  [беременность весь для заботливый мама она пор...   40      4  \n",
       "114069  [hello russia встретить метро можно москва сно...   29      2  \n",
       "114070  [2746agamvw1b guardian автодок интернет-магази...   29      2  \n",
       "114071  [lenta ru sivkova-elena входящая рамблер-почта...   31      3  \n",
       "114072  [crystal player pro window без бесплатно для к...   33      3  \n",
       "114073  [4a91 lancer mitsubishi для запчасть седан, al...   26      1  \n",
       "114074  [co rambler авторизация, nation ohm rda turbo ...   20      1  \n",
       "114075  [nofferi автомобиль автомобильный жидкий новый...   24      1  \n",
       "114076  [весь добавить каталог рейтинг сайт скриншот с...   51      6  \n",
       "114077  [glamour ru базовый весна-лето гардероб как но...   28      2  \n",
       "114078  [698308-fondent airstep cotto kultpokupki ru s...   41      5  \n",
       "114079  [autoplu frontera opel su автомобиль автомобил...   46      5  \n",
       "114080  [depo буковель красуня купальник на новини при...   58      6  \n",
       "114081  [new rambler servic бензин биржевой более выра...   31      3  \n",
       "114082                                        [март стих]   32      3  \n",
       "114083  [апрель год гороскоп для женский на телец, вес...   44      5  \n",
       "114084  [арт-мёд беременность ветрянка вопрос на ответ...   34      3  \n",
       "114085  [chanel афиша киев магазин, cl merced для зажи...   34      3  \n",
       "114086  [cosmopolitan ведущий гламурный гузеев журнал ...   26      1  \n",
       "114087  [4z7616051a 4z7616051d 4z7616052a allroad arno...   58      6  \n",
       "114088  [ru онлайн попка порно секс, азербайджан военн...   56      6  \n",
       "114089  [5d merced-benz видео драйв комплектация отзыв...   31      3  \n",
       "\n",
       "[114090 rows x 5 columns]"
      ]
     },
     "execution_count": 23,
     "metadata": {},
     "output_type": "execute_result"
    }
   ],
   "source": [
    "train_df.set_value(y_train[y_train[\"age\"].isin(range(0, 27))].index, \"label\", 1)\n",
    "train_df.set_value(y_train[y_train[\"age\"].isin(range(27, 31))].index, \"label\", 2)\n",
    "train_df.set_value(y_train[y_train[\"age\"].isin(range(31, 35))].index, \"label\", 3)\n",
    "train_df.set_value(y_train[y_train[\"age\"].isin(range(35, 41))].index, \"label\", 4)\n",
    "train_df.set_value(y_train[y_train[\"age\"].isin(range(41, 49))].index, \"label\", 5)\n",
    "train_df.set_value(y_train[y_train[\"age\"] > 49].index, \"label\", 6)"
   ]
  },
  {
   "cell_type": "code",
   "execution_count": null,
   "metadata": {
    "collapsed": false
   },
   "outputs": [],
   "source": [
    "train_df.set_value(y_train[y_train[\"age\"].isin(range(0, 10))].index, \"label\", 1)\n",
    "train_df.set_value(y_train[y_train[\"age\"].isin(range(10, 20))].index, \"label\", 2)\n",
    "train_df.set_value(y_train[y_train[\"age\"].isin(range(20, 30))].index, \"label\", 3)\n",
    "train_df.set_value(y_train[y_train[\"age\"].isin(range(30, 40))].index, \"label\", 4)\n",
    "train_df.set_value(y_train[y_train[\"age\"].isin(range(40, 50))].index, \"label\", 5)\n",
    "train_df.set_value(y_train[y_train[\"age\"].isin(range(50, 60))].index, \"label\", 6)\n",
    "train_df.set_value(y_train[y_train[\"age\"].isin(range(60, 70))].index, \"label\", 7)\n",
    "train_df.set_value(y_train[y_train[\"age\"].isin(range(70, 80))].index, \"label\", 8)\n",
    "train_df.set_value(y_train[y_train[\"age\"].isin(range(80, 90))].index, \"label\", 9)\n",
    "train_df.set_value(y_train[y_train[\"age\"].isin(range(90, 100))].index, \"label\", 10)"
   ]
  },
  {
   "cell_type": "code",
   "execution_count": 24,
   "metadata": {
    "collapsed": false
   },
   "outputs": [
    {
     "name": "stdout",
     "output_type": "stream",
     "text": [
      "(1863, 5)\n"
     ]
    }
   ],
   "source": [
    "print(train_df[train_df[\"label\"] == 0].shape)"
   ]
  },
  {
   "cell_type": "markdown",
   "metadata": {},
   "source": [
    "## Getting test data"
   ]
  },
  {
   "cell_type": "markdown",
   "metadata": {},
   "source": [
    "### urls"
   ]
  },
  {
   "cell_type": "code",
   "execution_count": 25,
   "metadata": {
    "collapsed": true
   },
   "outputs": [],
   "source": [
    "urls_test_df = pd.read_csv('kaggle_data/url_domain_test', header=None, delimiter='\\t')\n",
    "urls_test_df.columns = ['id', 'url', 'count']\n",
    "urls_test_df = urls_test_df[['id', 'url']]"
   ]
  },
  {
   "cell_type": "code",
   "execution_count": 26,
   "metadata": {
    "collapsed": true
   },
   "outputs": [],
   "source": [
    "urls_test_df = pd.DataFrame(urls_test_df.groupby('id')['url'].apply(lambda x: x.tolist()))\n",
    "urls_test_df['id'] = urls_test_df.index\n",
    "urls_test_df.index = range(len(urls_test_df))\n",
    "urls_test_df.columns = ['urls', 'id']"
   ]
  },
  {
   "cell_type": "code",
   "execution_count": 27,
   "metadata": {
    "collapsed": false
   },
   "outputs": [
    {
     "data": {
      "text/html": [
       "<div>\n",
       "<table border=\"1\" class=\"dataframe\">\n",
       "  <thead>\n",
       "    <tr style=\"text-align: right;\">\n",
       "      <th></th>\n",
       "      <th>urls</th>\n",
       "      <th>id</th>\n",
       "    </tr>\n",
       "  </thead>\n",
       "  <tbody>\n",
       "    <tr>\n",
       "      <th>0</th>\n",
       "      <td>[1000bankov.ru, 1tv.ru, 4put.ru, argumenti.ru,...</td>\n",
       "      <td>000000014A02348E701552980349FF01</td>\n",
       "    </tr>\n",
       "    <tr>\n",
       "      <th>1</th>\n",
       "      <td>[autorambler.ru, bilettorg.ru, dsol-druzhba.ru...</td>\n",
       "      <td>000000014A10EA183BF8594A0B2AB201</td>\n",
       "    </tr>\n",
       "    <tr>\n",
       "      <th>2</th>\n",
       "      <td>[photosight.ru, rambler.ru]</td>\n",
       "      <td>000000014A4FE5C33A929D4C26943601</td>\n",
       "    </tr>\n",
       "    <tr>\n",
       "      <th>3</th>\n",
       "      <td>[base.consultant.ru, dogovor-obrazets.ru, fd.r...</td>\n",
       "      <td>000000014B7BB9957784A9BC0AC9F401</td>\n",
       "    </tr>\n",
       "    <tr>\n",
       "      <th>4</th>\n",
       "      <td>[assessor.ru, audit-it.ru, base.garant.ru, com...</td>\n",
       "      <td>000000014C7749F896D82C2B01E8B801</td>\n",
       "    </tr>\n",
       "  </tbody>\n",
       "</table>\n",
       "</div>"
      ],
      "text/plain": [
       "                                                urls  \\\n",
       "0  [1000bankov.ru, 1tv.ru, 4put.ru, argumenti.ru,...   \n",
       "1  [autorambler.ru, bilettorg.ru, dsol-druzhba.ru...   \n",
       "2                        [photosight.ru, rambler.ru]   \n",
       "3  [base.consultant.ru, dogovor-obrazets.ru, fd.r...   \n",
       "4  [assessor.ru, audit-it.ru, base.garant.ru, com...   \n",
       "\n",
       "                                 id  \n",
       "0  000000014A02348E701552980349FF01  \n",
       "1  000000014A10EA183BF8594A0B2AB201  \n",
       "2  000000014A4FE5C33A929D4C26943601  \n",
       "3  000000014B7BB9957784A9BC0AC9F401  \n",
       "4  000000014C7749F896D82C2B01E8B801  "
      ]
     },
     "execution_count": 27,
     "metadata": {},
     "output_type": "execute_result"
    }
   ],
   "source": [
    "urls_test_df.head()"
   ]
  },
  {
   "cell_type": "markdown",
   "metadata": {},
   "source": [
    "### titles"
   ]
  },
  {
   "cell_type": "code",
   "execution_count": 28,
   "metadata": {
    "collapsed": false
   },
   "outputs": [],
   "source": [
    "titles_test_df = pd.read_csv('kaggle_data/title_unify_train', header=None, delimiter='\\t')\n",
    "titles_test_df.columns = ['id', 'title', 'count']\n",
    "titles_test_df = titles_test_df[['id', 'title']]"
   ]
  },
  {
   "cell_type": "code",
   "execution_count": 29,
   "metadata": {
    "collapsed": false
   },
   "outputs": [],
   "source": [
    "titles_test_df = pd.DataFrame(titles_test_df.groupby('id')['title'].apply(lambda x: x.tolist()))\n",
    "titles_test_df['id'] = titles_test_df.index\n",
    "titles_test_df.index = range(len(titles_test_df))\n",
    "titles_test_df.columns = ['titles', 'id']"
   ]
  },
  {
   "cell_type": "code",
   "execution_count": 30,
   "metadata": {
    "collapsed": false
   },
   "outputs": [
    {
     "data": {
      "text/html": [
       "<div>\n",
       "<table border=\"1\" class=\"dataframe\">\n",
       "  <thead>\n",
       "    <tr style=\"text-align: right;\">\n",
       "      <th></th>\n",
       "      <th>titles</th>\n",
       "      <th>id</th>\n",
       "    </tr>\n",
       "  </thead>\n",
       "  <tbody>\n",
       "    <tr>\n",
       "      <th>0</th>\n",
       "      <td>[бесплатный надёжный почта рамблер электронный...</td>\n",
       "      <td>000000013CB5719C0000A2C90002C101</td>\n",
       "    </tr>\n",
       "    <tr>\n",
       "      <th>1</th>\n",
       "      <td>[24-х 34-х до договор неделя новость предложит...</td>\n",
       "      <td>00000001442BE24000001B7D00F50801</td>\n",
       "    </tr>\n",
       "    <tr>\n",
       "      <th>2</th>\n",
       "      <td>[авто бош контакт королёв сервис, авто бош кор...</td>\n",
       "      <td>00000001448580F800003F1B31FB0901</td>\n",
       "    </tr>\n",
       "    <tr>\n",
       "      <th>3</th>\n",
       "      <td>[ua втрать війни донбасі за на новини озвучить...</td>\n",
       "      <td>0000000145BDB2FF000157971645E901</td>\n",
       "    </tr>\n",
       "    <tr>\n",
       "      <th>4</th>\n",
       "      <td>[black walnut грецкий орех чёрный, inmoment ru...</td>\n",
       "      <td>000000014602771F0000DB9359714C01</td>\n",
       "    </tr>\n",
       "  </tbody>\n",
       "</table>\n",
       "</div>"
      ],
      "text/plain": [
       "                                              titles  \\\n",
       "0  [бесплатный надёжный почта рамблер электронный...   \n",
       "1  [24-х 34-х до договор неделя новость предложит...   \n",
       "2  [авто бош контакт королёв сервис, авто бош кор...   \n",
       "3  [ua втрать війни донбасі за на новини озвучить...   \n",
       "4  [black walnut грецкий орех чёрный, inmoment ru...   \n",
       "\n",
       "                                 id  \n",
       "0  000000013CB5719C0000A2C90002C101  \n",
       "1  00000001442BE24000001B7D00F50801  \n",
       "2  00000001448580F800003F1B31FB0901  \n",
       "3  0000000145BDB2FF000157971645E901  \n",
       "4  000000014602771F0000DB9359714C01  "
      ]
     },
     "execution_count": 30,
     "metadata": {},
     "output_type": "execute_result"
    }
   ],
   "source": [
    "titles_test_df.head()"
   ]
  },
  {
   "cell_type": "markdown",
   "metadata": {},
   "source": [
    "### merge"
   ]
  },
  {
   "cell_type": "code",
   "execution_count": 31,
   "metadata": {
    "collapsed": false
   },
   "outputs": [
    {
     "name": "stdout",
     "output_type": "stream",
     "text": [
      "CPU times: user 0 ns, sys: 0 ns, total: 0 ns\n",
      "Wall time: 41 µs\n"
     ]
    }
   ],
   "source": [
    "X_urls_test = urls_test_df.urls.values\n",
    "X_urls_test = map(lambda x: ' '.join(x), X_urls_test)\n",
    "%time hw = HashingVectorizer(n_features=1000).fit(X_urls_test)\n",
    "X_urls_test = hw.transform(X_urls_test).todense()"
   ]
  },
  {
   "cell_type": "code",
   "execution_count": 32,
   "metadata": {
    "collapsed": false
   },
   "outputs": [
    {
     "name": "stdout",
     "output_type": "stream",
     "text": [
      "(19974, 1000)\n"
     ]
    }
   ],
   "source": [
    "print(X_urls_test.shape)"
   ]
  },
  {
   "cell_type": "markdown",
   "metadata": {},
   "source": [
    "## 1st level -- Linear Regression with 6 equal-sized buckets"
   ]
  },
  {
   "cell_type": "code",
   "execution_count": 33,
   "metadata": {
    "collapsed": false
   },
   "outputs": [
    {
     "name": "stdout",
     "output_type": "stream",
     "text": [
      "['id.rambler.ru mail.rambler.ru r0.ru'\n",
      " '1prime.ru autorambler.ru chellak.ru docs.cntd.ru echo.msk.ru expert.ru finance.rambler.ru forbes.ru forum.ixbt.com garant.ru govoritmoskva.ru kommersant.ru kp.ru lenta.ru mait.ru metronews.ru mk.ru news.rambler.ru news.smi2.ru norm-load.ru pfr.kirov.ru pfrf.ru photography-on-the.ru realty.rambler.ru ren.tv riafan.ru rns.online rossbanki.ru secretmag.ru tehnorma.ru tiu.ru top68.ru tvc.ru tvzvezda.ru vesti.ru video.rambler.ru weekend.rambler.ru'\n",
      " 'bosch-korolev.ru' ...,\n",
      " 'aif.ru autochel.ru chelyabinsk.ru id.rambler.ru khl.ru m.rambler.ru m.rsport.ru mail-pda.rambler.ru news.rambler.ru pnevmoshop.ru'\n",
      " 'blog.partisani.ge li.ru tvrain.ru'\n",
      " 'doctorkirov.ru drive.ru extrim-park43.ru m.regions.pulset.ru mail-pda.rambler.ru reso.ru sberbank.ru']\n",
      "(114090,)\n",
      "<type 'numpy.ndarray'>\n",
      "CPU times: user 0 ns, sys: 0 ns, total: 0 ns\n",
      "Wall time: 15 µs\n",
      "CPU times: user 6.4 s, sys: 40 ms, total: 6.44 s\n",
      "Wall time: 6.39 s\n",
      "(114090, 1000)\n",
      "(114090, 1)\n"
     ]
    }
   ],
   "source": [
    "X_train_matrix, y_train = train_df.loc[:, [\"urls\"]].as_matrix(), train_df.loc[:, [\"label\"]]\n",
    "# print(X_train)\n",
    "# X_train_matrix, y_train = train_df.loc[:, [\"urls\", \"titles\"]].as_matrix(), train_df.loc[:, [\"label\"]]\n",
    "X_train = train_df.urls.values\n",
    "for index in range(X_train_matrix.shape[0]):\n",
    "    X_train[index] = map(lambda x: ' '.join(x), X_train_matrix[index])[0]\n",
    "print(X_train)\n",
    "print(X_train.shape)\n",
    "print(type(X_train))\n",
    "%time hw = HashingVectorizer(n_features=1000)\n",
    "%time X_train = hw.transform(X_train)\n",
    "print(X_train.shape)\n",
    "print(y_train.shape)"
   ]
  },
  {
   "cell_type": "code",
   "execution_count": 34,
   "metadata": {
    "collapsed": false
   },
   "outputs": [
    {
     "name": "stdout",
     "output_type": "stream",
     "text": [
      "CPU times: user 1.17 s, sys: 10 ms, total: 1.18 s\n",
      "Wall time: 1.17 s\n"
     ]
    },
    {
     "data": {
      "text/plain": [
       "LinearRegression(copy_X=True, fit_intercept=True, n_jobs=1, normalize=False)"
      ]
     },
     "execution_count": 34,
     "metadata": {},
     "output_type": "execute_result"
    }
   ],
   "source": [
    "reg = LinearRegression()\n",
    "%time reg.fit(X_train, y_train)"
   ]
  },
  {
   "cell_type": "code",
   "execution_count": 35,
   "metadata": {
    "collapsed": true
   },
   "outputs": [],
   "source": [
    "y_pred_labels = reg.predict(X_urls_test).round()"
   ]
  },
  {
   "cell_type": "code",
   "execution_count": 36,
   "metadata": {
    "collapsed": false
   },
   "outputs": [
    {
     "name": "stdout",
     "output_type": "stream",
     "text": [
      "[[ 4.]\n",
      " [ 4.]\n",
      " [ 4.]\n",
      " ..., \n",
      " [ 3.]\n",
      " [ 3.]\n",
      " [ 5.]]\n"
     ]
    }
   ],
   "source": [
    "print(y_pred_labels)"
   ]
  },
  {
   "cell_type": "code",
   "execution_count": 37,
   "metadata": {
    "collapsed": true
   },
   "outputs": [],
   "source": [
    "urls_test_df[\"label\"] = y_pred_labels"
   ]
  },
  {
   "cell_type": "code",
   "execution_count": 38,
   "metadata": {
    "collapsed": false
   },
   "outputs": [
    {
     "data": {
      "text/plain": [
       "array([[<matplotlib.axes._subplots.AxesSubplot object at 0x7fa88d1e7d10>]], dtype=object)"
      ]
     },
     "execution_count": 38,
     "metadata": {},
     "output_type": "execute_result"
    },
    {
     "data": {
      "image/png": "[encoded data removed]",
      "text/plain": [
       "<matplotlib.figure.Figure at 0x7fa870265e90>"
      ]
     },
     "metadata": {},
     "output_type": "display_data"
    }
   ],
   "source": [
    "urls_test_df.hist(column=\"label\")"
   ]
  },
  {
   "cell_type": "code",
   "execution_count": 39,
   "metadata": {
    "collapsed": false
   },
   "outputs": [],
   "source": [
    "urls_test_df['age'] = pd.Series(np.zeros(urls_test_df.shape[0]), index=urls_test_df.index)"
   ]
  },
  {
   "cell_type": "code",
   "execution_count": 40,
   "metadata": {
    "collapsed": false
   },
   "outputs": [
    {
     "name": "stdout",
     "output_type": "stream",
     "text": [
      "                                                    urls  \\\n",
      "0      [1000bankov.ru, 1tv.ru, 4put.ru, argumenti.ru,...   \n",
      "1      [autorambler.ru, bilettorg.ru, dsol-druzhba.ru...   \n",
      "2                            [photosight.ru, rambler.ru]   \n",
      "3      [base.consultant.ru, dogovor-obrazets.ru, fd.r...   \n",
      "4      [assessor.ru, audit-it.ru, base.garant.ru, com...   \n",
      "5      [mail.rambler.ru, mineral.ru, nalog.ru, nova.r...   \n",
      "6      [101.ru, 2do2go.ru, antikvar.su, antikvariat74...   \n",
      "7      [63.ru, deti-club.ru, k-agent.ru, mail.rambler...   \n",
      "8      [1tv.ru, aif.ru, allbanks.kz, auto.drom.ru, au...   \n",
      "9      [auto.drom.ru, autorambler.ru, drom.ru, eva.ru...   \n",
      "10     [6lib.ru, belogorck.ru, gazeta.ru, informio.ru...   \n",
      "11                         [mail.rambler.ru, rambler.ru]   \n",
      "12     [aeroflot.ru, id.rambler.ru, mail.rambler.ru, ...   \n",
      "13     [1000-tovarov.ru, a-lpha.su, aenergetika.ru, a...   \n",
      "14     [3-ndfl.com, citytraffic.ru, consultant.ru, co...   \n",
      "15     [dni.ru, games.kanobu.ru, goodhouse.ru, id.ram...   \n",
      "16     [98765432.www.nn.ru, aimfar.solution.weborama....   \n",
      "17     [autorambler.ru, blagoveschensk.tiu.ru, consul...   \n",
      "18     [1zagran.ru, 3-ndfl.info, 52.mobilfunk.ru, aif...   \n",
      "19     [agroserver.ru, aimfar.solution.weborama.fr, a...   \n",
      "20     [1prime.ru, afisha.ru, aif.ru, autorambler.ru,...   \n",
      "21     [buhonline.ru, hi-tech.mail.ru, id.rambler.ru,...   \n",
      "22     [a-russia.ru, adenium-doma.ru, autorambler.ru,...   \n",
      "23     [apteka-ifk.ru, by-vitebsk.vedun.ru, id.ramble...   \n",
      "24     [1tv.ru, 8634city.ru, aif.ru, allforchildren.r...   \n",
      "25     [3dyuriki.com, mail.rambler.ru, news.rambler.r...   \n",
      "26     [autorambler.ru, dni.ru, govoritmoskva.ru, inf...   \n",
      "27     [2r.ru, 30.joblib.ru, abc2home.ru, aif-nn.ru, ...   \n",
      "28     [17mkad.ru, 360.ru, artstudio-pro.ru, autoramb...   \n",
      "29     [eadaily.com, family.rambler.ru, inforeactor.r...   \n",
      "...                                                  ...   \n",
      "19944  [50.rjob.ru, 93job.ru, angarsk.careerist.ru, a...   \n",
      "19945  [100bretelek.ru, 1zagran.ru, 2r.ru, 2trade.ru,...   \n",
      "19946  [mail.rambler.ru, new.tv.rambler.ru, onlyf.ws,...   \n",
      "19947  [avtolitsey.jimdo.com, ax.do.am, bmwpark.ru, b...   \n",
      "19948  [amgum.ru, assets.adobedtm.com, avtovzglyad.ru...   \n",
      "19949  [1bm.ru, 1lentanovostei.ru, 1prime.ru, 1svegie...   \n",
      "19950  [220blog.ru, aimfar.solution.weborama.fr, cons...   \n",
      "19951                      [mail.rambler.ru, rambler.ru]   \n",
      "19952  [aliexpreses.ru, autorambler.ru, badm11.ru, ba...   \n",
      "19953  [id.rambler.ru, iland.tv, mail.rambler.ru, new...   \n",
      "19954  [job-mo.ru, lesorub44.ru, mail.rambler.ru, mo....   \n",
      "19955  [aimfar.solution.weborama.fr, id.rambler.ru, m...   \n",
      "19956  [football.ua, m.rambler.ru, mail-pda.rambler.r...   \n",
      "19957  [altshuller.ru, blog.liga.net, felbert.livejou...   \n",
      "19958  [babyplan.ru, kidbutik.com.ua, led-portal.ru, ...   \n",
      "19959  [advego.com, advego.ru, ax.do.am, clubmed.ru, ...   \n",
      "19960                     [futuland.ru, mail.rambler.ru]   \n",
      "19961  [aif.ru, baruk.ru, expert.ru, id.rambler.ru, l...   \n",
      "19962  [id.rambler.ru, ilizium.com, mail.rambler.ru, ...   \n",
      "19963  [mail.rambler.ru, n-novgorod.carent.ru, paulz....   \n",
      "19964  [football-shopping.ru, forum.sibnet.ru, id.ram...   \n",
      "19965  [career.ru, hh.ru, itkani.ru, mail.rambler.ru,...   \n",
      "19966  [autorambler.ru, gazeta.ru, iarex.ru, jobinmos...   \n",
      "19967  [mail.rambler.ru, ped-kopilka.ru, pevp.mos.ru,...   \n",
      "19968  [glavap.ru, irn.ru, mail.rambler.ru, medikforu...   \n",
      "19969  [akusherstvo.ru, cat.pet2me.com, domik3.ru, ge...   \n",
      "19970  [free.drweb.ru, mail.rambler.ru, pevp.mos.ru, ...   \n",
      "19971  [afisha.ru, formulalubvi.com, gazeta.ru, hh.ru...   \n",
      "19972  [kirrail.org, lenta.ru, mail.rambler.ru, rambl...   \n",
      "19973  [help.rambler.ru, mail.rambler.ru, realtymag.r...   \n",
      "\n",
      "                                     id  label  age  \n",
      "0      000000014A02348E701552980349FF01      4    0  \n",
      "1      000000014A10EA183BF8594A0B2AB201      4    0  \n",
      "2      000000014A4FE5C33A929D4C26943601      4    0  \n",
      "3      000000014B7BB9957784A9BC0AC9F401      3    0  \n",
      "4      000000014C7749F896D82C2B01E8B801      3    0  \n",
      "5      000000014CAD0728017D0850076EAA01      4    0  \n",
      "6      000000014CD445FDBD0B82AB03B7E601      4    0  \n",
      "7      000000014CE4E75679C7BAD4020FEA01      4    0  \n",
      "8      000000014D21FF3C0D847BEE0D309801      4    0  \n",
      "9      000000014D3ABB36375A07970C971401      4    0  \n",
      "10     000000014D98FA2EA7479FB404A03101      3    0  \n",
      "11     000000014DAE6C7C86332D11016BE501      3    0  \n",
      "12     000000014DD67EF27730CD2C0030D201      4    0  \n",
      "13     000000014DFED69C57CE072A04306601      4    0  \n",
      "14     000000014E083FE5A9DE149404617301      4    0  \n",
      "15     000000014E13029D28DD08A8000B8C01      4    0  \n",
      "16     000000014E130B625265210900274D01      4    0  \n",
      "17     000000014E1329B2352151A500573001      4    0  \n",
      "18     000000014E13344B1D9CD24D0015E201      3    0  \n",
      "19     000000014E136A81387C51A900B68B01      3    0  \n",
      "20     000000014E140852325D08B0008E5501      4    0  \n",
      "21     000000014E187ECE32BF08B102990B01      3    0  \n",
      "22     000000014E1C67067A1516A600059001      4    0  \n",
      "23     000000014E1C739F0CFD5FF60019F601      4    0  \n",
      "24     000000014E1C770911C947120010A201      4    0  \n",
      "25     000000014E1C79C5C12F05B300241B01      4    0  \n",
      "26     000000014E33F54E06E9DEA702372801      5    0  \n",
      "27     000000014E435E5B70122BC101D70901      3    0  \n",
      "28     000000014E4A5A8948B7064603A26401      4    0  \n",
      "29     000000014E4D2C4457D7F01E0246B301      5    0  \n",
      "...                                 ...    ...  ...  \n",
      "19944  0638F71656D7CEF5000004FDEEBC7A01      3    0  \n",
      "19945  0638FAFD56F0F2780000054F2C61F601      3    0  \n",
      "19946  0638FF59570537E90000054C1FA89601      4    0  \n",
      "19947  0639030F5702861A000004DE6E0AA401      3    0  \n",
      "19948  06390A7756CDFA780000054394E69501      3    0  \n",
      "19949  06390B8C56DB281E0000055EDF179E01      4    0  \n",
      "19950  0639141856F22C3B00000558462EC601      3    0  \n",
      "19951  0639159456FD44EB000004D600DD9301      3    0  \n",
      "19952  0639173F56B8D37900006DE98701AE01      3    0  \n",
      "19953  063921985703CA6E0000053D0D9D7901      4    0  \n",
      "19954  0639220256FFF8B40000054CACA14601      3    0  \n",
      "19955  063924CE5705583F000051CC70B91C01      3    0  \n",
      "19956  0639258857056E3700006DBED3C0AB01      3    0  \n",
      "19957  0639276956F990FE000051E07F3A3401      4    0  \n",
      "19958  063927B456FD3587000004DEFFA3E601      2    0  \n",
      "19959  06392B7156DD422C000004DE5EF5EB01      3    0  \n",
      "19960  06392EEA5703F65D0000054731AE6401      3    0  \n",
      "19961  0639303257001D0A00000533C3FBF601      4    0  \n",
      "19962  063936205703E1740000055FAEDB8001      3    0  \n",
      "19963  0639370457049F390000053324988801      3    0  \n",
      "19964  0639387E56F1821F0000053C9F63A701      3    0  \n",
      "19965  0639394D57041CC4000051B65788B001      2    0  \n",
      "19966  06393957570236E400000555EC4A5201      4    0  \n",
      "19967  06393B8756FBCE950000054B6CE7A501      4    0  \n",
      "19968  06393B8756FDFCB60000054B96091901      4    0  \n",
      "19969  06393B8756FE32ED000004DE11330B01      3    0  \n",
      "19970  06393B87570376CB000004D6801BDC01      4    0  \n",
      "19971  06393D555702D3B2000004DE774F1901      3    0  \n",
      "19972  06394267570511A900000540C88F9201      3    0  \n",
      "19973  0639457C57020EB700006DD1885A0501      5    0  \n",
      "\n",
      "[19974 rows x 4 columns]\n"
     ]
    }
   ],
   "source": [
    "print(urls_test_df)"
   ]
  },
  {
   "cell_type": "markdown",
   "metadata": {},
   "source": [
    "## 2nd level -- k-means with several centroids"
   ]
  },
  {
   "cell_type": "code",
   "execution_count": 44,
   "metadata": {
    "collapsed": false
   },
   "outputs": [
    {
     "name": "stdout",
     "output_type": "stream",
     "text": [
      "(22226, 5)\n",
      "CPU times: user 0 ns, sys: 0 ns, total: 0 ns\n",
      "Wall time: 15 µs\n",
      "CPU times: user 1.18 s, sys: 16.7 ms, total: 1.19 s\n",
      "Wall time: 1.18 s\n",
      "CPU times: user 0 ns, sys: 0 ns, total: 0 ns\n",
      "Wall time: 16 µs\n",
      "CPU times: user 777 ms, sys: 157 ms, total: 933 ms\n",
      "Wall time: 15.6 s\n",
      "CPU times: user 0 ns, sys: 0 ns, total: 0 ns\n",
      "Wall time: 56 µs\n",
      "(18969, 5)\n",
      "CPU times: user 0 ns, sys: 0 ns, total: 0 ns\n",
      "Wall time: 13.1 µs\n",
      "CPU times: user 1.07 s, sys: 6.67 ms, total: 1.08 s\n",
      "Wall time: 1.05 s\n",
      "CPU times: user 0 ns, sys: 0 ns, total: 0 ns\n",
      "Wall time: 16 µs\n",
      "CPU times: user 733 ms, sys: 123 ms, total: 857 ms\n",
      "Wall time: 4.77 s\n",
      "CPU times: user 0 ns, sys: 0 ns, total: 0 ns\n",
      "Wall time: 57 µs\n",
      "(17358, 5)\n",
      "CPU times: user 0 ns, sys: 0 ns, total: 0 ns\n",
      "Wall time: 12.9 µs\n",
      "CPU times: user 930 ms, sys: 10 ms, total: 940 ms\n",
      "Wall time: 931 ms\n",
      "CPU times: user 0 ns, sys: 0 ns, total: 0 ns\n",
      "Wall time: 29.1 µs\n",
      "CPU times: user 723 ms, sys: 137 ms, total: 860 ms\n",
      "Wall time: 3.91 s\n",
      "CPU times: user 0 ns, sys: 0 ns, total: 0 ns\n",
      "Wall time: 179 µs\n",
      "(18222, 5)\n",
      "CPU times: user 0 ns, sys: 0 ns, total: 0 ns\n",
      "Wall time: 41 µs\n",
      "CPU times: user 1.04 s, sys: 3.33 ms, total: 1.05 s\n",
      "Wall time: 1.03 s\n",
      "CPU times: user 0 ns, sys: 0 ns, total: 0 ns\n",
      "Wall time: 28.8 µs\n",
      "CPU times: user 733 ms, sys: 133 ms, total: 867 ms\n",
      "Wall time: 6.2 s\n",
      "CPU times: user 0 ns, sys: 0 ns, total: 0 ns\n",
      "Wall time: 57.2 µs\n",
      "(18124, 5)\n",
      "CPU times: user 0 ns, sys: 0 ns, total: 0 ns\n",
      "Wall time: 14.1 µs\n",
      "CPU times: user 1.09 s, sys: 6.67 ms, total: 1.1 s\n",
      "Wall time: 1.08 s\n",
      "CPU times: user 0 ns, sys: 0 ns, total: 0 ns\n",
      "Wall time: 16.9 µs\n",
      "CPU times: user 743 ms, sys: 137 ms, total: 880 ms\n",
      "Wall time: 8.89 s\n",
      "CPU times: user 0 ns, sys: 0 ns, total: 0 ns\n",
      "Wall time: 56 µs\n",
      "(17328, 5)\n",
      "CPU times: user 0 ns, sys: 0 ns, total: 0 ns\n",
      "Wall time: 12.9 µs\n",
      "CPU times: user 1.19 s, sys: 6.67 ms, total: 1.19 s\n",
      "Wall time: 1.17 s\n",
      "CPU times: user 0 ns, sys: 0 ns, total: 0 ns\n",
      "Wall time: 27.9 µs\n",
      "CPU times: user 750 ms, sys: 147 ms, total: 897 ms\n",
      "Wall time: 26.8 s\n",
      "CPU times: user 0 ns, sys: 0 ns, total: 0 ns\n",
      "Wall time: 64.8 µs\n"
     ]
    }
   ],
   "source": [
    "from sklearn.cluster import KMeans\n",
    "from pandas import Index\n",
    "\n",
    "n_of_clusters = [27, 4, 4, 6, 8, 50]\n",
    "start_age = [0, 27, 31, 35, 40, 49]\n",
    "\n",
    "for label in range(1, 7):\n",
    "    df_subset = train_df[train_df[\"label\"] == label]\n",
    "    print(df_subset.shape)\n",
    "    X_train_matrix, y_train = df_subset.loc[:, [\"urls\"]].as_matrix(), df_subset.loc[:, [\"age\"]]\n",
    "#     print(X_train_matrix)\n",
    "#     print(X_train_matrix.shape)\n",
    "    # X_train_matrix, y_train = train_df.loc[:, [\"urls\", \"titles\"]].as_matrix(), train_df.loc[:, [\"label\"]]\n",
    "    X_train = df_subset.urls.values.copy()\n",
    "#     print(X_train)\n",
    "    for index in range(X_train_matrix.shape[0]):\n",
    "        X_train[index] = X_train_matrix[index][0]\n",
    "#     print(X_train)\n",
    "#     print(X_train.shape)\n",
    "#     print(type(X_train))\n",
    "    test_subset = urls_test_df[urls_test_df[\"label\"] == label].urls\n",
    "    if test_subset.shape[0] == 0:\n",
    "        continue\n",
    "#     print(test_subset)\n",
    "#     print(test_subset.shape)\n",
    "#     print(test_subset.index)\n",
    "    %time hw = HashingVectorizer(n_features=1000)\n",
    "    %time X_train = hw.transform(X_train)\n",
    "    %time km = KMeans(n_of_clusters[label - 1], n_jobs=-1)\n",
    "    %time km.fit(X_train, y_train)\n",
    "    test_subset_m = map(lambda x: ' '.join(x), test_subset)\n",
    "    %time hw = HashingVectorizer(n_features=1000).fit(test_subset_m)\n",
    "    test_subset_m = hw.transform(test_subset_m).todense()\n",
    "    y_pred_subset = km.predict(test_subset_m)\n",
    "#     print(y_pred_subset)\n",
    "#     test_subset['age'] = y_pred_subset\n",
    "    g = 0\n",
    "    for index, data in test_subset.iteritems():\n",
    "#         print(index)\n",
    "        urls_test_df.set_value(index, \"age\", y_pred_subset[g] + start_age[label - 1])\n",
    "        g += 1\n",
    "#     print(urls_test_df.loc[3202, \"age\"])\n",
    "#     km.predict()\n"
   ]
  },
  {
   "cell_type": "code",
   "execution_count": 45,
   "metadata": {
    "collapsed": false
   },
   "outputs": [
    {
     "name": "stdout",
     "output_type": "stream",
     "text": [
      "11.0\n"
     ]
    }
   ],
   "source": [
    "print(urls_test_df.loc[3202, \"age\"])"
   ]
  },
  {
   "cell_type": "code",
   "execution_count": 50,
   "metadata": {
    "collapsed": false
   },
   "outputs": [
    {
     "data": {
      "text/plain": [
       "array([[<matplotlib.axes._subplots.AxesSubplot object at 0x7fa8648f9050>]], dtype=object)"
      ]
     },
     "execution_count": 50,
     "metadata": {},
     "output_type": "execute_result"
    },
    {
     "data": {
      "image/png": "[encoded data removed]",
      "text/plain": [
       "<matplotlib.figure.Figure at 0x7fa86517d490>"
      ]
     },
     "metadata": {},
     "output_type": "display_data"
    }
   ],
   "source": [
    "urls_test_df.hist(column=\"age\", bins=30)"
   ]
  },
  {
   "cell_type": "markdown",
   "metadata": {},
   "source": [
    "## Model testing"
   ]
  },
  {
   "cell_type": "code",
   "execution_count": null,
   "metadata": {
    "collapsed": false
   },
   "outputs": [],
   "source": [
    "reg = LinearRegression(normalize=True, n_jobs=-1)\n",
    "%time cross_val_score(reg, X_train, y_train, scoring='mean_squared_error')"
   ]
  },
  {
   "cell_type": "markdown",
   "metadata": {},
   "source": [
    "## Solution Gathering"
   ]
  },
  {
   "cell_type": "code",
   "execution_count": 52,
   "metadata": {
    "collapsed": false
   },
   "outputs": [],
   "source": [
    "urls_test_df = urls_test_df[['id', 'age']]\n",
    "urls_test_df.columns = ['Id', 'age']"
   ]
  },
  {
   "cell_type": "code",
   "execution_count": 53,
   "metadata": {
    "collapsed": false
   },
   "outputs": [
    {
     "data": {
      "text/html": [
       "<div>\n",
       "<table border=\"1\" class=\"dataframe\">\n",
       "  <thead>\n",
       "    <tr style=\"text-align: right;\">\n",
       "      <th></th>\n",
       "      <th>Id</th>\n",
       "      <th>age</th>\n",
       "    </tr>\n",
       "  </thead>\n",
       "  <tbody>\n",
       "    <tr>\n",
       "      <th>0</th>\n",
       "      <td>000000014A02348E701552980349FF01</td>\n",
       "      <td>39</td>\n",
       "    </tr>\n",
       "    <tr>\n",
       "      <th>1</th>\n",
       "      <td>000000014A10EA183BF8594A0B2AB201</td>\n",
       "      <td>36</td>\n",
       "    </tr>\n",
       "    <tr>\n",
       "      <th>2</th>\n",
       "      <td>000000014A4FE5C33A929D4C26943601</td>\n",
       "      <td>36</td>\n",
       "    </tr>\n",
       "    <tr>\n",
       "      <th>3</th>\n",
       "      <td>000000014B7BB9957784A9BC0AC9F401</td>\n",
       "      <td>34</td>\n",
       "    </tr>\n",
       "    <tr>\n",
       "      <th>4</th>\n",
       "      <td>000000014C7749F896D82C2B01E8B801</td>\n",
       "      <td>31</td>\n",
       "    </tr>\n",
       "  </tbody>\n",
       "</table>\n",
       "</div>"
      ],
      "text/plain": [
       "                                 Id  age\n",
       "0  000000014A02348E701552980349FF01   39\n",
       "1  000000014A10EA183BF8594A0B2AB201   36\n",
       "2  000000014A4FE5C33A929D4C26943601   36\n",
       "3  000000014B7BB9957784A9BC0AC9F401   34\n",
       "4  000000014C7749F896D82C2B01E8B801   31"
      ]
     },
     "execution_count": 53,
     "metadata": {},
     "output_type": "execute_result"
    }
   ],
   "source": [
    "urls_test_df.head()"
   ]
  },
  {
   "cell_type": "code",
   "execution_count": 54,
   "metadata": {
    "collapsed": false
   },
   "outputs": [],
   "source": [
    "random_sol = pd.read_csv('random_solution.csv')\n",
    "miss_idx = set(random_sol.Id.values) - set(urls_test_df.Id.values)\n",
    "miss_df = pd.DataFrame(zip(list(miss_idx), np.ones(len(miss_idx))))\n",
    "miss_df.columns = ['Id', 'age']\n",
    "miss_df.age = 30"
   ]
  },
  {
   "cell_type": "code",
   "execution_count": 55,
   "metadata": {
    "collapsed": false
   },
   "outputs": [],
   "source": [
    "urls_test_df = urls_test_df.append(miss_df, ignore_index=True)"
   ]
  },
  {
   "cell_type": "code",
   "execution_count": 60,
   "metadata": {
    "collapsed": false
   },
   "outputs": [
    {
     "data": {
      "text/plain": [
       "array([[<matplotlib.axes._subplots.AxesSubplot object at 0x7fa8644a91d0>]], dtype=object)"
      ]
     },
     "execution_count": 60,
     "metadata": {},
     "output_type": "execute_result"
    },
    {
     "data": {
      "image/png": "[encoded data removed]",
      "text/plain": [
       "<matplotlib.figure.Figure at 0x7fa8644c8990>"
      ]
     },
     "metadata": {},
     "output_type": "display_data"
    }
   ],
   "source": [
    "urls_test_df.hist(column=\"age\", bins=30)"
   ]
  },
  {
   "cell_type": "code",
   "execution_count": 57,
   "metadata": {
    "collapsed": true
   },
   "outputs": [],
   "source": [
    "urls_test_df.to_csv('solution.csv', index=False)"
   ]
  },
  {
   "cell_type": "code",
   "execution_count": 58,
   "metadata": {
    "collapsed": false
   },
   "outputs": [
    {
     "name": "stdout",
     "output_type": "stream",
     "text": [
      "19980 solution.csv\r\n"
     ]
    }
   ],
   "source": [
    "!wc -l solution.csv"
   ]
  },
  {
   "cell_type": "code",
   "execution_count": null,
   "metadata": {
    "collapsed": true
   },
   "outputs": [],
   "source": []
  },
  {
   "cell_type": "code",
   "execution_count": 59,
   "metadata": {
    "collapsed": false
   },
   "outputs": [],
   "source": [
    "def down_dimensions(cur_df):\n",
    "    print(cur_df.shape)\n",
    "    X_train_matrix, y_train = cur_df.loc[:, [\"urls\", \"titles\"]].as_matrix(), cur_df.loc[:, [\"label\"]]\n",
    "    X_train = cur_df.urls.values\n",
    "    for index in range(X_train_matrix.shape[0]):\n",
    "        tmp = map(lambda x: ' '.join(x), X_train_matrix[index])\n",
    "        X_train[index] = tmp[0] + ' ' + tmp[1]\n",
    "    %time hw = HashingVectorizer(n_features=1000).fit(X_train)\n",
    "    %time X_train = hw.transform(X_train).todense()\n",
    "    print(X_train.shape)\n",
    "    print(y_train.shape)\n",
    "    return X_train, y_train"
   ]
  },
  {
   "cell_type": "code",
   "execution_count": null,
   "metadata": {
    "collapsed": true
   },
   "outputs": [],
   "source": []
  }
 ],
 "metadata": {
  "kernelspec": {
   "display_name": "Python 2",
   "language": "python",
   "name": "python2"
  },
  "language_info": {
   "codemirror_mode": {
    "name": "ipython",
    "version": 2
   },
   "file_extension": ".py",
   "mimetype": "text/x-python",
   "name": "python",
   "nbconvert_exporter": "python",
   "pygments_lexer": "ipython2",
   "version": "2.7.11"
  }
 },
 "nbformat": 4,
 "nbformat_minor": 0
}
